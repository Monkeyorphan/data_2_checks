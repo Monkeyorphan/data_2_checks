{
  "nbformat": 4,
  "nbformat_minor": 0,
  "metadata": {
    "colab": {
      "provenance": [],
      "authorship_tag": "ABX9TyMFZMESdI0dOrP8j56MUN+e",
      "include_colab_link": true
    },
    "kernelspec": {
      "name": "python3",
      "display_name": "Python 3"
    },
    "language_info": {
      "name": "python"
    }
  },
  "cells": [
    {
      "cell_type": "markdown",
      "metadata": {
        "id": "view-in-github",
        "colab_type": "text"
      },
      "source": [
        "<a href=\"https://colab.research.google.com/github/Monkeyorphan/data_2_checks/blob/main/KnowledgeCheck1.ipynb\" target=\"_parent\"><img src=\"https://colab.research.google.com/assets/colab-badge.svg\" alt=\"Open In Colab\"/></a>"
      ]
    },
    {
      "cell_type": "markdown",
      "source": [
        "Import the necessary libraries"
      ],
      "metadata": {
        "id": "aN625lcMg_2Y"
      }
    },
    {
      "cell_type": "code",
      "execution_count": null,
      "metadata": {
        "id": "wiiwxJl3_GRj"
      },
      "outputs": [],
      "source": [
        "import requests\n",
        "import json\n",
        "import pandas as pd"
      ]
    },
    {
      "cell_type": "markdown",
      "source": [
        "Use the get method to request the API and assign it to the variable \"API\", then check the status code. Status Code 200 means everything is OK and the connection is successful."
      ],
      "metadata": {
        "id": "fdvBkeaBhPZG"
      }
    },
    {
      "cell_type": "code",
      "source": [
        "API = requests.get('http://universities.hipolabs.com/search?country=United+Kingdom')\n",
        "API"
      ],
      "metadata": {
        "colab": {
          "base_uri": "https://localhost:8080/"
        },
        "id": "-7oNW7cNEV3k",
        "outputId": "a20a78f3-5f13-4d8a-c599-a2acb3fdbeb8"
      },
      "execution_count": null,
      "outputs": [
        {
          "output_type": "execute_result",
          "data": {
            "text/plain": [
              "<Response [200]>"
            ]
          },
          "metadata": {},
          "execution_count": 63
        }
      ]
    },
    {
      "cell_type": "markdown",
      "source": [
        "Pull the data from the API and store it in the \"data\" variable in the text format"
      ],
      "metadata": {
        "id": "n0RsvuJOh-Lz"
      }
    },
    {
      "cell_type": "code",
      "source": [
        "data = API.text\n",
        "data"
      ],
      "metadata": {
        "colab": {
          "base_uri": "https://localhost:8080/",
          "height": 105
        },
        "id": "uhiGGQ3tFSiP",
        "outputId": "6b65e355-cf75-4790-fd1e-805b7a5de4a6"
      },
      "execution_count": null,
      "outputs": [
        {
          "output_type": "execute_result",
          "data": {
            "text/plain": [
              "'[{\"country\": \"United Kingdom\", \"web_pages\": [\"https://futureworks.ac.uk/\"], \"name\": \"Futureworks\", \"state-province\": null, \"alpha_two_code\": \"GB\", \"domains\": [\"futureworks.ac.uk\"]}, {\"country\": \"United Kingdom\", \"web_pages\": [\"https://www.arts.ac.uk\"], \"name\": \"University of the Arts London\", \"state-province\": null, \"alpha_two_code\": \"GB\", \"domains\": [\"arts.ac.uk\"]}, {\"country\": \"United Kingdom\", \"web_pages\": [\"http://www.abdn.ac.uk/\"], \"name\": \"University of Aberdeen\", \"state-province\": null, \"alpha_two_code\": \"GB\", \"domains\": [\"abdn.ac.uk\", \"aberdeen.ac.uk\"]}, {\"country\": \"United Kingdom\", \"web_pages\": [\"http://www.aber.ac.uk/\"], \"name\": \"University of Wales, Aberystwyth\", \"state-province\": null, \"alpha_two_code\": \"GB\", \"domains\": [\"aber.ac.uk\"]}, {\"country\": \"United Kingdom\", \"web_pages\": [\"http://www.abertay.ac.uk/\"], \"name\": \"University of Abertay Dundee\", \"state-province\": null, \"alpha_two_code\": \"GB\", \"domains\": [\"abertay.ac.uk\"]}, {\"country\": \"United Kingdom\", \"web_pages\": [\"http://www.aiuniv.edu/\"], \"name\": \"American InterContinental University - London\", \"state-province\": null, \"alpha_two_code\": \"GB\", \"domains\": [\"aiuniv.edu\"]}, {\"country\": \"United Kingdom\", \"web_pages\": [\"http://www.aku.edu/\"], \"name\": \"Aga Khan University\", \"state-province\": null, \"alpha_two_code\": \"GB\", \"domains\": [\"aku.edu\"]}, {\"country\": \"United Kingdom\", \"web_pages\": [\"http://www.anglia.ac.uk/\"], \"name\": \"Anglia Ruskin University\", \"state-province\": null, \"alpha_two_code\": \"GB\", \"domains\": [\"anglia.ac.uk\"]}, {\"country\": \"United Kingdom\", \"web_pages\": [\"http://www.aston.ac.uk/\"], \"name\": \"Aston University\", \"state-province\": null, \"alpha_two_code\": \"GB\", \"domains\": [\"aston.ac.uk\"]}, {\"country\": \"United Kingdom\", \"web_pages\": [\"http://www.aul.edu/\"], \"name\": \"The American University in London\", \"state-province\": null, \"alpha_two_code\": \"GB\", \"domains\": [\"aul.edu\"]}, {\"country\": \"United Kingdom\", \"web_pages\": [\"http://www.bangor.ac.uk/\"], \"name\": \"University of Wales, Bangor\", \"state-province\": null, \"alpha_two_code\": \"GB\", \"domains\": [\"bangor.ac.uk\"]}, {\"country\": \"United Kingdom\", \"web_pages\": [\"http://www.bath.ac.uk/\"], \"name\": \"University of Bath\", \"state-province\": null, \"alpha_two_code\": \"GB\", \"domains\": [\"bath.ac.uk\"]}, {\"country\": \"United Kingdom\", \"web_pages\": [\"https://www.bathspa.ac.uk/\"], \"name\": \"Bath Spa University\", \"state-province\": null, \"alpha_two_code\": \"GB\", \"domains\": [\"bathspa.ac.uk\"]}, {\"country\": \"United Kingdom\", \"web_pages\": [\"http://www.bbk.ac.uk/\"], \"name\": \"Birkbeck College, University of London\", \"state-province\": null, \"alpha_two_code\": \"GB\", \"domains\": [\"bbk.ac.uk\"]}, {\"country\": \"United Kingdom\", \"web_pages\": [\"http://www.bcom.ac.uk/\"], \"name\": \"British College of Osteopathic Medicine\", \"state-province\": null, \"alpha_two_code\": \"GB\", \"domains\": [\"bcom.ac.uk\"]}, {\"country\": \"United Kingdom\", \"web_pages\": [\"http://www.bcu.ac.uk/\"], \"name\": \"Birmingham City University\", \"state-province\": null, \"alpha_two_code\": \"GB\", \"domains\": [\"bcu.ac.uk\"]}, {\"country\": \"United Kingdom\", \"web_pages\": [\"http://www.beds.ac.uk/\"], \"name\": \"University of Bedfordshire\", \"state-province\": null, \"alpha_two_code\": \"GB\", \"domains\": [\"beds.ac.uk\"]}, {\"country\": \"United Kingdom\", \"web_pages\": [\"http://www.bham.ac.uk/\"], \"name\": \"University of Birmingham\", \"state-province\": null, \"alpha_two_code\": \"GB\", \"domains\": [\"bham.ac.uk\"]}, {\"country\": \"United Kingdom\", \"web_pages\": [\"http://www.bolton.ac.uk/\"], \"name\": \"University of Bolton\", \"state-province\": null, \"alpha_two_code\": \"GB\", \"domains\": [\"bolton.ac.uk\"]}, {\"country\": \"United Kingdom\", \"web_pages\": [\"http://www.bournemouth.ac.uk/\"], \"name\": \"Bournemouth University\", \"state-province\": null, \"alpha_two_code\": \"GB\", \"domains\": [\"bournemouth.ac.uk\"]}, {\"country\": \"United Kingdom\", \"web_pages\": [\"http://www.brad.ac.uk/\"], \"name\": \"University of Bradford\", \"state-province\": null, \"alpha_two_code\": \"GB\", \"domains\": [\"brad.ac.uk\"]}, {\"country\": \"United Kingdom\", \"web_pages\": [\"http://www.brijnet.org/lsjs/\"], \"name\": \"London School of Jewish Studies\", \"state-province\": null, \"alpha_two_code\": \"GB\", \"domains\": [\"brijnet.org\"]}, {\"country\": \"United Kingdom\", \"web_pages\": [\"http://www.bris.ac.uk/\"], \"name\": \"University of Bristol\", \"state-province\": null, \"alpha_two_code\": \"GB\", \"domains\": [\"bris.ac.uk\"]}, {\"country\": \"United Kingdom\", \"web_pages\": [\"http://www.brookes.ac.uk/\"], \"name\": \"Oxford Brookes University\", \"state-province\": null, \"alpha_two_code\": \"GB\", \"domains\": [\"brookes.ac.uk\"]}, {\"country\": \"United Kingdom\", \"web_pages\": [\"http://www.brunel.ac.uk/\"], \"name\": \"Brunel University Uxbridge\", \"state-province\": null, \"alpha_two_code\": \"GB\", \"domains\": [\"brunel.ac.uk\"]}, {\"country\": \"United Kingdom\", \"web_pages\": [\"http://www.bton.ac.uk/\"], \"name\": \"University of Brighton\", \"state-province\": null, \"alpha_two_code\": \"GB\", \"domains\": [\"bton.ac.uk\"]}, {\"country\": \"United Kingdom\", \"web_pages\": [\"http://www.buck.ac.uk/\"], \"name\": \"University of Buckingham\", \"state-province\": null, \"alpha_two_code\": \"GB\", \"domains\": [\"buck.ac.uk\"]}, {\"country\": \"United Kingdom\", \"web_pages\": [\"http://www.bucks.ac.uk/\"], \"name\": \"Buckinghamshire New University\", \"state-province\": null, \"alpha_two_code\": \"GB\", \"domains\": [\"bucks.ac.uk\"]}, {\"country\": \"United Kingdom\", \"web_pages\": [\"http://www.cam.ac.uk/\"], \"name\": \"University of Cambridge\", \"state-province\": null, \"alpha_two_code\": \"GB\", \"domains\": [\"cam.ac.uk\"]}, {\"country\": \"United Kingdom\", \"web_pages\": [\"http://www.camb.linst.ac.uk/\"], \"name\": \"Camberwell College of Arts\", \"state-province\": null, \"alpha_two_code\": \"GB\", \"domains\": [\"camb.linst.ac.uk\"]}, {\"country\": \"United Kingdom\", \"web_pages\": [\"http://www.canterbury.ac.uk/\"], \"name\": \"Canterbury Christ Church University\", \"state-province\": null, \"alpha_two_code\": \"GB\", \"domains\": [\"canterbury.ac.uk\"]}, {\"country\": \"United Kingdom\", \"web_pages\": [\"http://www.cardiff.ac.uk/\"], \"name\": \"Cardiff University\", \"state-province\": null, \"alpha_two_code\": \"GB\", \"domains\": [\"cardiff.ac.uk\", \"cf.ac.uk\"]}, {\"country\": \"United Kingdom\", \"web_pages\": [\"http://www.chelsea.linst.ac.uk/\"], \"name\": \"Chelsea College of Art and Design\", \"state-province\": null, \"alpha_two_code\": \"GB\", \"domains\": [\"chelsea.linst.ac.uk\"]}, {\"country\": \"United Kingdom\", \"web_pages\": [\"http://www.chester.ac.uk/\"], \"name\": \"University of Chester\", \"state-province\": null, \"alpha_two_code\": \"GB\", \"domains\": [\"chester.ac.uk\"]}, {\"country\": \"United Kingdom\", \"web_pages\": [\"http://www.city.ac.uk/\"], \"name\": \"City University\", \"state-province\": null, \"alpha_two_code\": \"GB\", \"domains\": [\"city.ac.uk\"]}, {\"country\": \"United Kingdom\", \"web_pages\": [\"http://www.courtauld.ac.uk/\"], \"name\": \"Courtauld Institute of Art, University of London\", \"state-province\": null, \"alpha_two_code\": \"GB\", \"domains\": [\"courtauld.ac.uk\"]}, {\"country\": \"United Kingdom\", \"web_pages\": [\"http://www.coventry.ac.uk/\"], \"name\": \"Coventry University\", \"state-province\": null, \"alpha_two_code\": \"GB\", \"domains\": [\"coventry.ac.uk\"]}, {\"country\": \"United Kingdom\", \"web_pages\": [\"http://www.cranfield.ac.uk/\"], \"name\": \"Cranfield University\", \"state-province\": null, \"alpha_two_code\": \"GB\", \"domains\": [\"cranfield.ac.uk\"]}, {\"country\": \"United Kingdom\", \"web_pages\": [\"http://www.csm.linst.ac.uk/\"], \"name\": \"Central Saint Martins College of Art & Design\", \"state-province\": null, \"alpha_two_code\": \"GB\", \"domains\": [\"csm.linst.ac.uk\"]}, {\"country\": \"United Kingdom\", \"web_pages\": [\"http://www.derby.ac.uk/\"], \"name\": \"University of Derby\", \"state-province\": null, \"alpha_two_code\": \"GB\", \"domains\": [\"derby.ac.uk\"]}, {\"country\": \"United Kingdom\", \"web_pages\": [\"http://www.dmu.ac.uk/\"], \"name\": \"De Montfort University Leicester\", \"state-province\": null, \"alpha_two_code\": \"GB\", \"domains\": [\"dmu.ac.uk\"]}, {\"country\": \"United Kingdom\", \"web_pages\": [\"http://www.dundee.ac.uk/\"], \"name\": \"University of Dundee\", \"state-province\": null, \"alpha_two_code\": \"GB\", \"domains\": [\"dundee.ac.uk\"]}, {\"country\": \"United Kingdom\", \"web_pages\": [\"http://www.dur.ac.uk/\"], \"name\": \"University of Durham\", \"state-province\": null, \"alpha_two_code\": \"GB\", \"domains\": [\"dur.ac.uk\"]}, {\"country\": \"United Kingdom\", \"web_pages\": [\"http://www.edgehill.ac.uk/\"], \"name\": \"Edge Hill University\", \"state-province\": null, \"alpha_two_code\": \"GB\", \"domains\": [\"edgehill.ac.uk\"]}, {\"country\": \"United Kingdom\", \"web_pages\": [\"http://www.ed.ac.uk/\"], \"name\": \"University of Edinburgh\", \"state-province\": null, \"alpha_two_code\": \"GB\", \"domains\": [\"ed.ac.uk\"]}, {\"country\": \"United Kingdom\", \"web_pages\": [\"http://www.eselondon.ac.uk/\"], \"name\": \"European School of Economics\", \"state-province\": null, \"alpha_two_code\": \"GB\", \"domains\": [\"eselondon.ac.uk\"]}, {\"country\": \"United Kingdom\", \"web_pages\": [\"http://www.essex.ac.uk/\"], \"name\": \"University of Essex\", \"state-province\": null, \"alpha_two_code\": \"GB\", \"domains\": [\"essex.ac.uk\", \"sx.ac.uk\"]}, {\"country\": \"United Kingdom\", \"web_pages\": [\"http://www.ex.ac.uk/\"], \"name\": \"University of Exeter\", \"state-province\": null, \"alpha_two_code\": \"GB\", \"domains\": [\"ex.ac.uk\"]}, {\"country\": \"United Kingdom\", \"web_pages\": [\"http://www.falmouth.ac.uk/\"], \"name\": \"Falmouth University\", \"state-province\": null, \"alpha_two_code\": \"GB\", \"domains\": [\"falmouth.ac.uk\"]}, {\"country\": \"United Kingdom\", \"web_pages\": [\"http://www.gcal.ac.uk/\"], \"name\": \"Glasgow Caledonian University\", \"state-province\": null, \"alpha_two_code\": \"GB\", \"domains\": [\"gcal.ac.uk\", \"gcu.ac.uk\"]}, {\"country\": \"United Kingdom\", \"web_pages\": [\"http://www.gla.ac.uk/\"], \"name\": \"University of Glasgow\", \"state-province\": null, \"alpha_two_code\": \"GB\", \"domains\": [\"gla.ac.uk\"]}, {\"country\": \"United Kingdom\", \"web_pages\": [\"http://www.glam.ac.uk/\"], \"name\": \"University of Glamorgan\", \"state-province\": null, \"alpha_two_code\": \"GB\", \"domains\": [\"glam.ac.uk\"]}, {\"country\": \"United Kingdom\", \"web_pages\": [\"http://www.glos.ac.uk/\"], \"name\": \"University of Gloucestershire\", \"state-province\": null, \"alpha_two_code\": \"GB\", \"domains\": [\"glos.ac.uk\"]}, {\"country\": \"United Kingdom\", \"web_pages\": [\"http://www.gold.ac.uk/\"], \"name\": \"Goldsmiths College, University of London\", \"state-province\": null, \"alpha_two_code\": \"GB\", \"domains\": [\"gold.ac.uk\"]}, {\"country\": \"United Kingdom\", \"web_pages\": [\"http://www.gre.ac.uk/\"], \"name\": \"University of Greenwich\", \"state-province\": null, \"alpha_two_code\": \"GB\", \"domains\": [\"gre.ac.uk\"]}, {\"country\": \"United Kingdom\", \"web_pages\": [\"http://www.gsa.ac.uk/\"], \"name\": \"Glasgow School of Art\", \"state-province\": null, \"alpha_two_code\": \"GB\", \"domains\": [\"gsa.ac.uk\", \"student.gsa.ac.uk\"]}, {\"country\": \"United Kingdom\", \"web_pages\": [\"http://www.halifaxuni.ac/\"], \"name\": \"University of Halifax, Birmingham Campus\", \"state-province\": null, \"alpha_two_code\": \"GB\", \"domains\": [\"halifaxuni.ac\"]}, {\"country\": \"United Kingdom\", \"web_pages\": [\"http://www.herts.ac.uk/\"], \"name\": \"University of Hertfordshire\", \"state-province\": null, \"alpha_two_code\": \"GB\", \"domains\": [\"herts.ac.uk\"]}, {\"country\": \"United Kingdom\", \"web_pages\": [\"http://www.heythrop.ac.uk/\"], \"name\": \"Heythrop College, University of London\", \"state-province\": null, \"alpha_two_code\": \"GB\", \"domains\": [\"heythrop.ac.uk\"]}, {\"country\": \"United Kingdom\", \"web_pages\": [\"http://www.hope.ac.uk/\"], \"name\": \"Liverpool Hope University College\", \"state-province\": null, \"alpha_two_code\": \"GB\", \"domains\": [\"hope.ac.uk\"]}, {\"country\": \"United Kingdom\", \"web_pages\": [\"http://www.hud.ac.uk/\"], \"name\": \"University of Huddersfield\", \"state-province\": null, \"alpha_two_code\": \"GB\", \"domains\": [\"hud.ac.uk\"]}, {\"country\": \"United Kingdom\", \"web_pages\": [\"http://www.hull.ac.uk/\"], \"name\": \"University of Hull\", \"state-province\": null, \"alpha_two_code\": \"GB\", \"domains\": [\"hull.ac.uk\"]}, {\"country\": \"United Kingdom\", \"web_pages\": [\"http://www.huron.ac.uk/\"], \"name\": \"Huron University USA in London\", \"state-province\": null, \"alpha_two_code\": \"GB\", \"domains\": [\"huron.ac.uk\"]}, {\"country\": \"United Kingdom\", \"web_pages\": [\"http://www.hw.ac.uk/\"], \"name\": \"Heriot-Watt University\", \"state-province\": null, \"alpha_two_code\": \"GB\", \"domains\": [\"hw.ac.uk\"]}, {\"country\": \"United Kingdom\", \"web_pages\": [\"http://www.imperial.ac.uk/\"], \"name\": \"Imperial College London\", \"state-province\": null, \"alpha_two_code\": \"GB\", \"domains\": [\"imperial.ac.uk\", \"ic.ac.uk\"]}, {\"country\": \"United Kingdom\", \"web_pages\": [\"http://www.ifslearning.ac.uk/\"], \"name\": \"ifs University College\", \"state-province\": null, \"alpha_two_code\": \"GB\", \"domains\": [\"ifslearning.ac.uk\"]}, {\"country\": \"United Kingdom\", \"web_pages\": [\"http://ihr.sas.ac.uk/\"], \"name\": \"Institue of Historical Research, University of London\", \"state-province\": null, \"alpha_two_code\": \"GB\", \"domains\": [\"ihr.sas.ac.uk\"]}, {\"country\": \"United Kingdom\", \"web_pages\": [\"http://www.ihr.sas.ac.uk/ics/\"], \"name\": \"Institute of Commonwealth Studies, University of London\", \"state-province\": null, \"alpha_two_code\": \"GB\", \"domains\": [\"ihr.sas.ac.uk\"]}, {\"country\": \"United Kingdom\", \"web_pages\": [\"http://www.ioe.ac.uk/\"], \"name\": \"Institute of Education, University of London\", \"state-province\": null, \"alpha_two_code\": \"GB\", \"domains\": [\"ioe.ac.uk\"]}, {\"country\": \"United Kingdom\", \"web_pages\": [\"http://www.islamiccolleges.com/\"], \"name\": \"International Colleges of Islamic Science\", \"state-province\": null, \"alpha_two_code\": \"GB\", \"domains\": [\"islamiccolleges.com\"]}, {\"country\": \"United Kingdom\", \"web_pages\": [\"http://www.kcl.ac.uk/\"], \"name\": \"King\\'s College London, University of London\", \"state-province\": null, \"alpha_two_code\": \"GB\", \"domains\": [\"kcl.ac.uk\"]}, {\"country\": \"United Kingdom\", \"web_pages\": [\"http://www.keele.ac.uk/\"], \"name\": \"Keele University\", \"state-province\": null, \"alpha_two_code\": \"GB\", \"domains\": [\"keele.ac.uk\"]}, {\"country\": \"United Kingdom\", \"web_pages\": [\"http://www.kingston.ac.uk/\"], \"name\": \"Kingston University\", \"state-province\": null, \"alpha_two_code\": \"GB\", \"domains\": [\"kingston.ac.uk\"]}, {\"country\": \"United Kingdom\", \"web_pages\": [\"http://www.kolieh.com/\"], \"name\": \"International Centre for Isclamic Science\", \"state-province\": null, \"alpha_two_code\": \"GB\", \"domains\": [\"kolieh.com\"]}, {\"country\": \"United Kingdom\", \"web_pages\": [\"http://www.lamp.ac.uk/\"], \"name\": \"University of Wales, Lampeter\", \"state-province\": null, \"alpha_two_code\": \"GB\", \"domains\": [\"lamp.ac.uk\"]}, {\"country\": \"United Kingdom\", \"web_pages\": [\"http://www.lancs.ac.uk/\"], \"name\": \"University of Lancaster\", \"state-province\": null, \"alpha_two_code\": \"GB\", \"domains\": [\"lancs.ac.uk\"]}, {\"country\": \"United Kingdom\", \"web_pages\": [\"http://www.lboro.ac.uk/\"], \"name\": \"Loughborough University\", \"state-province\": null, \"alpha_two_code\": \"GB\", \"domains\": [\"lboro.ac.uk\", \"student.lboro.ac.uk\"]}, {\"country\": \"United Kingdom\", \"web_pages\": [\"http://www.lbs.lon.ac.uk/\"], \"name\": \"London Business School\", \"state-province\": null, \"alpha_two_code\": \"GB\", \"domains\": [\"lbs.lon.ac.uk\"]}, {\"country\": \"United Kingdom\", \"web_pages\": [\"http://www.lcst.ac/\"], \"name\": \"London College of Science & Technology\", \"state-province\": null, \"alpha_two_code\": \"GB\", \"domains\": [\"lcst.ac\"]}, {\"country\": \"United Kingdom\", \"web_pages\": [\"http://www.le.ac.uk/\"], \"name\": \"University of Leicester\", \"state-province\": null, \"alpha_two_code\": \"GB\", \"domains\": [\"le.ac.uk\"]}, {\"country\": \"United Kingdom\", \"web_pages\": [\"http://www.leeds.ac.uk/\"], \"name\": \"University of Leeds\", \"state-province\": null, \"alpha_two_code\": \"GB\", \"domains\": [\"leeds.ac.uk\"]}, {\"country\": \"United Kingdom\", \"web_pages\": [\"http://www.lgu.ac.uk/\"], \"name\": \"London Guildhall University\", \"state-province\": null, \"alpha_two_code\": \"GB\", \"domains\": [\"lgu.ac.uk\"]}, {\"country\": \"United Kingdom\", \"web_pages\": [\"http://www.limt.co.uk/\"], \"name\": \"London Institute of Management and Technology\", \"state-province\": null, \"alpha_two_code\": \"GB\", \"domains\": [\"limt.co.uk\"]}, {\"country\": \"United Kingdom\", \"web_pages\": [\"http://www.lincoln.ac.uk/\"], \"name\": \"University of Lincoln\", \"state-province\": null, \"alpha_two_code\": \"GB\", \"domains\": [\"lincoln.ac.uk\"]}, {\"country\": \"United Kingdom\", \"web_pages\": [\"http://www.liv.ac.uk/\"], \"name\": \"University of Liverpool\", \"state-province\": null, \"alpha_two_code\": \"GB\", \"domains\": [\"liv.ac.uk\"]}, {\"country\": \"United Kingdom\", \"web_pages\": [\"https://www.ljmu.ac.uk/\"], \"name\": \"Liverpool John Moores University\", \"state-province\": null, \"alpha_two_code\": \"GB\", \"domains\": [\"ljmu.ac.uk\"]}, {\"country\": \"United Kingdom\", \"web_pages\": [\"http://www.lmu.ac.uk/\"], \"name\": \"Leeds Metropolitan University\", \"state-province\": null, \"alpha_two_code\": \"GB\", \"domains\": [\"lmu.ac.uk\"]}, {\"country\": \"United Kingdom\", \"web_pages\": [\"http://www.lon.ac.uk/\"], \"name\": \"University of London\", \"state-province\": null, \"alpha_two_code\": \"GB\", \"domains\": [\"lon.ac.uk\"]}, {\"country\": \"United Kingdom\", \"web_pages\": [\"http://www.londonmet.ac.uk/\"], \"name\": \"London Metropolitan University\", \"state-province\": null, \"alpha_two_code\": \"GB\", \"domains\": [\"londonmet.ac.uk\"]}, {\"country\": \"United Kingdom\", \"web_pages\": [\"http://www.lsbf.org.uk/\"], \"name\": \"London School of Business & Finance\", \"state-province\": null, \"alpha_two_code\": \"GB\", \"domains\": [\"lsbf.org.uk\"]}, {\"country\": \"United Kingdom\", \"web_pages\": [\"http://www.lse.ac.uk/\"], \"name\": \"London School of Economics and Political Science, University of London\", \"state-province\": null, \"alpha_two_code\": \"GB\", \"domains\": [\"lse.ac.uk\"]}, {\"country\": \"United Kingdom\", \"web_pages\": [\"http://www.lshtm.ac.uk/\"], \"name\": \"London School of Hygiene & Tropical Medicine, University of London\", \"state-province\": null, \"alpha_two_code\": \"GB\", \"domains\": [\"lshtm.ac.uk\"]}, {\"country\": \"United Kingdom\", \"web_pages\": [\"http://www.manchester.ac.uk/\"], \"name\": \"University of Manchester\", \"state-province\": null, \"alpha_two_code\": \"GB\", \"domains\": [\"manchester.ac.uk\", \"mbs.ac.uk\", \"man.ac.uk\"]}, {\"country\": \"United Kingdom\", \"web_pages\": [\"http://www.mdx.ac.uk/\"], \"name\": \"Middlesex University\", \"state-province\": null, \"alpha_two_code\": \"GB\", \"domains\": [\"mdx.ac.uk\"]}, {\"country\": \"United Kingdom\", \"web_pages\": [\"http://www.med.ic.ac.uk/\"], \"name\": \"Imperial College School of Medicine\", \"state-province\": null, \"alpha_two_code\": \"GB\", \"domains\": [\"med.ic.ac.uk\"]}, {\"country\": \"United Kingdom\", \"web_pages\": [\"http://www.mmu.ac.uk/\"], \"name\": \"The Manchester Metropolitan University\", \"state-province\": null, \"alpha_two_code\": \"GB\", \"domains\": [\"mmu.ac.uk\"]}, {\"country\": \"United Kingdom\", \"web_pages\": [\"http://www.napier.ac.uk/\"], \"name\": \"Napier University\", \"state-province\": null, \"alpha_two_code\": \"GB\", \"domains\": [\"napier.ac.uk\"]}, {\"country\": \"United Kingdom\", \"web_pages\": [\"http://www.ncl.ac.uk/\"], \"name\": \"University of Newcastle-upon-Tyne\", \"state-province\": null, \"alpha_two_code\": \"GB\", \"domains\": [\"ncl.ac.uk\"]}, {\"country\": \"United Kingdom\", \"web_pages\": [\"http://www.newport.ac.uk/\"], \"name\": \"University of Wales, Newport\", \"state-province\": null, \"alpha_two_code\": \"GB\", \"domains\": [\"newport.ac.uk\"]}, {\"country\": \"United Kingdom\", \"web_pages\": [\"http://www.niu.org.uk/\"], \"name\": \"Newport International University\", \"state-province\": null, \"alpha_two_code\": \"GB\", \"domains\": [\"niu.org.uk\"]}, {\"country\": \"United Kingdom\", \"web_pages\": [\"http://www.northampton.ac.uk/\"], \"name\": \"University of Northampton\", \"state-province\": null, \"alpha_two_code\": \"GB\", \"domains\": [\"northampton.ac.uk\"]}, {\"country\": \"United Kingdom\", \"web_pages\": [\"http://www.nottingham.ac.uk/\"], \"name\": \"University of Nottingham\", \"state-province\": null, \"alpha_two_code\": \"GB\", \"domains\": [\"nottingham.ac.uk\"]}, {\"country\": \"United Kingdom\", \"web_pages\": [\"http://www.ntu.ac.uk/\"], \"name\": \"Nottingham Trent University\", \"state-province\": null, \"alpha_two_code\": \"GB\", \"domains\": [\"ntu.ac.uk\"]}, {\"country\": \"United Kingdom\", \"web_pages\": [\"http://www.open.ac.uk/\"], \"name\": \"Open University\", \"state-province\": null, \"alpha_two_code\": \"GB\", \"domains\": [\"open.ac.uk\"]}, {\"country\": \"United Kingdom\", \"web_pages\": [\"http://www.ox.ac.uk/\"], \"name\": \"University of Oxford\", \"state-province\": null, \"alpha_two_code\": \"GB\", \"domains\": [\"oxford.ac.uk\", \"ox.ac.uk\"]}, {\"country\": \"United Kingdom\", \"web_pages\": [\"http://www.paisley.ac.uk/\"], \"name\": \"University of Paisley\", \"state-province\": null, \"alpha_two_code\": \"GB\", \"domains\": [\"paisley.ac.uk\"]}, {\"country\": \"United Kingdom\", \"web_pages\": [\"http://www.plymouth.ac.uk/\"], \"name\": \"University of Plymouth\", \"state-province\": null, \"alpha_two_code\": \"GB\", \"domains\": [\"plymouth.ac.uk\"]}, {\"country\": \"United Kingdom\", \"web_pages\": [\"http://www.port.ac.uk/\"], \"name\": \"University of Portsmouth\", \"state-province\": null, \"alpha_two_code\": \"GB\", \"domains\": [\"port.ac.uk\"]}, {\"country\": \"United Kingdom\", \"web_pages\": [\"http://www.qmul.ac.uk/\"], \"name\": \"Queen Mary, University of London\", \"state-province\": null, \"alpha_two_code\": \"GB\", \"domains\": [\"qmw.ac.uk\", \"qmul.ac.uk\"]}, {\"country\": \"United Kingdom\", \"web_pages\": [\"http://www.qub.ac.uk/\"], \"name\": \"The Queen\\'s University Belfast\", \"state-province\": null, \"alpha_two_code\": \"GB\", \"domains\": [\"qub.ac.uk\"]}, {\"country\": \"United Kingdom\", \"web_pages\": [\"http://www.ram.ac.uk/\"], \"name\": \"Royal Academy of Music, University of London\", \"state-province\": null, \"alpha_two_code\": \"GB\", \"domains\": [\"ram.ac.uk\"]}, {\"country\": \"United Kingdom\", \"web_pages\": [\"http://www.rca.ac.uk/\"], \"name\": \"Royal College of Art\", \"state-province\": null, \"alpha_two_code\": \"GB\", \"domains\": [\"rca.ac.uk\", \"network.rca.ac.uk\"]}, {\"country\": \"United Kingdom\", \"web_pages\": [\"http://www.rcm.ac.uk/\"], \"name\": \"Royal College of Music, University of London\", \"state-province\": null, \"alpha_two_code\": \"GB\", \"domains\": [\"rcm.ac.uk\"]}, {\"country\": \"United Kingdom\", \"web_pages\": [\"http://www.rdg.ac.uk/\"], \"name\": \"University of Reading\", \"state-province\": null, \"alpha_two_code\": \"GB\", \"domains\": [\"rdg.ac.uk\"]}, {\"country\": \"United Kingdom\", \"web_pages\": [\"http://www.rfhsm.ac.uk/\"], \"name\": \"Royal Free Hospital School of Medicine, University of London\", \"state-province\": null, \"alpha_two_code\": \"GB\", \"domains\": [\"rfhsm.ac.uk\"]}, {\"country\": \"United Kingdom\", \"web_pages\": [\"http://www.rgu.ac.uk/\"], \"name\": \"The Robert Gordon University\", \"state-province\": null, \"alpha_two_code\": \"GB\", \"domains\": [\"rgu.ac.uk\"]}, {\"country\": \"United Kingdom\", \"web_pages\": [\"http://www.royalholloway.ac.uk/\"], \"name\": \"Royal Holloway and Bedford New College\", \"state-province\": null, \"alpha_two_code\": \"GB\", \"domains\": [\"royalholloway.ac.uk\", \"rhbnc.ac.uk\", \"rh.ac.uk\"]}, {\"country\": \"United Kingdom\", \"web_pages\": [\"http://www.richmond.ac.uk/\"], \"name\": \"Richmond University - The American International University in London\", \"state-province\": null, \"alpha_two_code\": \"GB\", \"domains\": [\"richmond.ac.uk\"]}, {\"country\": \"United Kingdom\", \"web_pages\": [\"http://www.roehampton.ac.uk/\"], \"name\": \"Roehampton University of Surrey\", \"state-province\": null, \"alpha_two_code\": \"GB\", \"domains\": [\"roehampton.ac.uk\"]}, {\"country\": \"United Kingdom\", \"web_pages\": [\"http://www.salford.ac.uk/\"], \"name\": \"University of Salford\", \"state-province\": null, \"alpha_two_code\": \"GB\", \"domains\": [\"salford.ac.uk\"]}, {\"country\": \"United Kingdom\", \"web_pages\": [\"http://www.sas.ac.uk/ials/\"], \"name\": \"Institute of Advanced Legal Studies, University of London\", \"state-province\": null, \"alpha_two_code\": \"GB\", \"domains\": [\"sas.ac.uk\"]}, {\"country\": \"United Kingdom\", \"web_pages\": [\"http://www.sas.ac.uk/icls/\"], \"name\": \"Institute of Classical Studies, University of London\", \"state-province\": null, \"alpha_two_code\": \"GB\", \"domains\": [\"sas.ac.uk\"]}, {\"country\": \"United Kingdom\", \"web_pages\": [\"http://www.sas.ac.uk/igs/\"], \"name\": \"Institute of Germanic Studies, University of London\", \"state-province\": null, \"alpha_two_code\": \"GB\", \"domains\": [\"sas.ac.uk\"]}, {\"country\": \"United Kingdom\", \"web_pages\": [\"http://www.sas.ac.uk/ilas/\"], \"name\": \"Institute of Latin American Studies, University of London\", \"state-province\": null, \"alpha_two_code\": \"GB\", \"domains\": [\"sas.ac.uk\"]}, {\"country\": \"United Kingdom\", \"web_pages\": [\"http://www.sas.ac.uk/warburg/\"], \"name\": \"Warburg Institute, University of London\", \"state-province\": null, \"alpha_two_code\": \"GB\", \"domains\": [\"sas.ac.uk\"]}, {\"country\": \"United Kingdom\", \"web_pages\": [\"http://www.sbu.ac.uk/\"], \"name\": \"South Bank University\", \"state-province\": null, \"alpha_two_code\": \"GB\", \"domains\": [\"sbu.ac.uk\"]}, {\"country\": \"United Kingdom\", \"web_pages\": [\"http://www.schillerlondon.ac.uk/\"], \"name\": \"Schiller International University, London\", \"state-province\": null, \"alpha_two_code\": \"GB\", \"domains\": [\"schillerlondon.ac.uk\"]}, {\"country\": \"United Kingdom\", \"web_pages\": [\"http://www.sclondon.ac/\"], \"name\": \"Stratford College London\", \"state-province\": null, \"alpha_two_code\": \"GB\", \"domains\": [\"sclondon.ac\"]}, {\"country\": \"United Kingdom\", \"web_pages\": [\"http://www.sghms.ac.uk/\"], \"name\": \"Saint George\\'s Hospital Medical School, University of London\", \"state-province\": null, \"alpha_two_code\": \"GB\", \"domains\": [\"sghms.ac.uk\"]}, {\"country\": \"United Kingdom\", \"web_pages\": [\"http://www.shef.ac.uk/\"], \"name\": \"University of Sheffield\", \"state-province\": null, \"alpha_two_code\": \"GB\", \"domains\": [\"shef.ac.uk\", \"sheffield.ac.uk\"]}, {\"country\": \"United Kingdom\", \"web_pages\": [\"http://www.shu.ac.uk/\"], \"name\": \"Sheffield Hallam University\", \"state-province\": null, \"alpha_two_code\": \"GB\", \"domains\": [\"shu.ac.uk\"]}, {\"country\": \"United Kingdom\", \"web_pages\": [\"http://www.smu.ac.uk/\"], \"name\": \"Swansea Metropolitan University\", \"state-province\": null, \"alpha_two_code\": \"GB\", \"domains\": [\"smu.ac.uk\"]}, {\"country\": \"United Kingdom\", \"web_pages\": [\"http://www.soas.ac.uk/\"], \"name\": \"School of Oriental and African Studies, University of London\", \"state-province\": null, \"alpha_two_code\": \"GB\", \"domains\": [\"soas.ac.uk\"]}, {\"country\": \"United Kingdom\", \"web_pages\": [\"http://www.solent.ac.uk/\"], \"name\": \"Southampton Solent University\", \"state-province\": null, \"alpha_two_code\": \"GB\", \"domains\": [\"solent.ac.uk\"]}, {\"country\": \"United Kingdom\", \"web_pages\": [\"http://www.sothebysinstitutelondon.com/\"], \"name\": \"Sotheby\\\\u00b4s Institute of Art - London\", \"state-province\": null, \"alpha_two_code\": \"GB\", \"domains\": [\"sothebysinstitutelondon.com\"]}, {\"country\": \"United Kingdom\", \"web_pages\": [\"http://www.southampton.ac.uk/\"], \"name\": \"University of Southampton\", \"state-province\": null, \"alpha_two_code\": \"GB\", \"domains\": [\"soton.ac.uk\"]}, {\"country\": \"United Kingdom\", \"web_pages\": [\"http://www.ssees.ac.uk/\"], \"name\": \"School of Slavonic and East European Studies, University of London\", \"state-province\": null, \"alpha_two_code\": \"GB\", \"domains\": [\"ssees.ac.uk\"]}, {\"country\": \"United Kingdom\", \"web_pages\": [\"http://www.staffs.ac.uk/\"], \"name\": \"Staffordshire University\", \"state-province\": null, \"alpha_two_code\": \"GB\", \"domains\": [\"staffs.ac.uk\"]}, {\"country\": \"United Kingdom\", \"web_pages\": [\"https://www.st-andrews.ac.uk/\"], \"name\": \"University of St. Andrews\", \"state-province\": null, \"alpha_two_code\": \"GB\", \"domains\": [\"st-andrews.ac.uk\", \"st-and.ac.uk\"]}, {\"country\": \"United Kingdom\", \"web_pages\": [\"http://www.stir.ac.uk/\"], \"name\": \"University of Stirling\", \"state-province\": null, \"alpha_two_code\": \"GB\", \"domains\": [\"stir.ac.uk\"]}, {\"country\": \"United Kingdom\", \"web_pages\": [\"http://www.st-patricks.ac.uk/\"], \"name\": \"St.Patrick\\'s International College, London\", \"state-province\": null, \"alpha_two_code\": \"GB\", \"domains\": [\"st-patricks.ac.uk\"]}, {\"country\": \"United Kingdom\", \"web_pages\": [\"http://www.strath.ac.uk/\"], \"name\": \"University of Strathclyde\", \"state-province\": null, \"alpha_two_code\": \"GB\", \"domains\": [\"strath.ac.uk\"]}, {\"country\": \"United Kingdom\", \"web_pages\": [\"http://www.sunderland.ac.uk/\"], \"name\": \"University of Sunderland\", \"state-province\": null, \"alpha_two_code\": \"GB\", \"domains\": [\"sunderland.ac.uk\"]}, {\"country\": \"United Kingdom\", \"web_pages\": [\"http://www.surrey.ac.uk/\"], \"name\": \"University of Surrey\", \"state-province\": null, \"alpha_two_code\": \"GB\", \"domains\": [\"surrey.ac.uk\"]}, {\"country\": \"United Kingdom\", \"web_pages\": [\"http://www.sussex.ac.uk/\"], \"name\": \"University of Sussex\", \"state-province\": null, \"alpha_two_code\": \"GB\", \"domains\": [\"sussex.ac.uk\"]}, {\"country\": \"United Kingdom\", \"web_pages\": [\"http://www.swan.ac.uk/\"], \"name\": \"University of Wales, Swansea\", \"state-province\": null, \"alpha_two_code\": \"GB\", \"domains\": [\"swan.ac.uk\"]}, {\"country\": \"United Kingdom\", \"web_pages\": [\"http://www.tcm.ac.uk/\"], \"name\": \"Trinity College of Music\", \"state-province\": null, \"alpha_two_code\": \"GB\", \"domains\": [\"tcm.ac.uk\"]}, {\"country\": \"United Kingdom\", \"web_pages\": [\"http://www.tees.ac.uk/\"], \"name\": \"University of Teesside\", \"state-province\": null, \"alpha_two_code\": \"GB\", \"domains\": [\"tees.ac.uk\"]}, {\"country\": \"United Kingdom\", \"web_pages\": [\"http://www.trinity-cm.ac.uk/\"], \"name\": \"Trinity College Carmarthen\", \"state-province\": null, \"alpha_two_code\": \"GB\", \"domains\": [\"trinity-cm.ac.uk\"]}, {\"country\": \"United Kingdom\", \"web_pages\": [\"http://www.tvu.ac.uk/\"], \"name\": \"Thames Valley University\", \"state-province\": null, \"alpha_two_code\": \"GB\", \"domains\": [\"tvu.ac.uk\"]}, {\"country\": \"United Kingdom\", \"web_pages\": [\"http://www.ucl.ac.uk/\"], \"name\": \"University College London, University of London\", \"state-province\": null, \"alpha_two_code\": \"GB\", \"domains\": [\"ucl.ac.uk\"]}, {\"country\": \"United Kingdom\", \"web_pages\": [\"http://www.uclan.ac.uk/\"], \"name\": \"University of Central Lancashire\", \"state-province\": null, \"alpha_two_code\": \"GB\", \"domains\": [\"uclan.ac.uk\"]}, {\"country\": \"United Kingdom\", \"web_pages\": [\"http://www.ucs.ac.uk/\"], \"name\": \"University Campus Suffolk\", \"state-province\": null, \"alpha_two_code\": \"GB\", \"domains\": [\"ucs.ac.uk\"]}, {\"country\": \"United Kingdom\", \"web_pages\": [\"http://www.uea.ac.uk/\"], \"name\": \"University of East Anglia\", \"state-province\": null, \"alpha_two_code\": \"GB\", \"domains\": [\"uea.ac.uk\"]}, {\"country\": \"United Kingdom\", \"web_pages\": [\"http://www.uel.ac.uk/\"], \"name\": \"University of East London\", \"state-province\": null, \"alpha_two_code\": \"GB\", \"domains\": [\"uel.ac.uk\"]}, {\"country\": \"United Kingdom\", \"web_pages\": [\"http://www.ukc.ac.uk/\"], \"name\": \"University of Kent at Canterbury\", \"state-province\": null, \"alpha_two_code\": \"GB\", \"domains\": [\"ukc.ac.uk\"]}, {\"country\": \"United Kingdom\", \"web_pages\": [\"http://www.ulsop.ac.uk/\"], \"name\": \"School of Pharmacy, University of London\", \"state-province\": null, \"alpha_two_code\": \"GB\", \"domains\": [\"ulsop.ac.uk\"]}, {\"country\": \"United Kingdom\", \"web_pages\": [\"http://www.ulst.ac.uk/\"], \"name\": \"University of Ulster\", \"state-province\": null, \"alpha_two_code\": \"GB\", \"domains\": [\"ulst.ac.uk\"]}, {\"country\": \"United Kingdom\", \"web_pages\": [\"http://www.umds.ac.uk/\"], \"name\": \"United Medical and Dental Schools, University of London\", \"state-province\": null, \"alpha_two_code\": \"GB\", \"domains\": [\"umds.ac.uk\"]}, {\"country\": \"United Kingdom\", \"web_pages\": [\"http://www.unl.ac.uk/\"], \"name\": \"University of North London\", \"state-province\": null, \"alpha_two_code\": \"GB\", \"domains\": [\"unl.ac.uk\"]}, {\"country\": \"United Kingdom\", \"web_pages\": [\"http://www.unn.ac.uk/\"], \"name\": \"University of Northumbria at Newcastle\", \"state-province\": null, \"alpha_two_code\": \"GB\", \"domains\": [\"unn.ac.uk\"]}, {\"country\": \"United Kingdom\", \"web_pages\": [\"http://www.uwcm.ac.uk/\"], \"name\": \"University of Wales College of Medicine\", \"state-province\": null, \"alpha_two_code\": \"GB\", \"domains\": [\"uwcm.ac.uk\"]}, {\"country\": \"United Kingdom\", \"web_pages\": [\"http://www.uwe.ac.uk/\"], \"name\": \"University of the West of England, Bristol\", \"state-province\": null, \"alpha_two_code\": \"GB\", \"domains\": [\"uwe.ac.uk\"]}, {\"country\": \"United Kingdom\", \"web_pages\": [\"http://www.uwic.ac.uk/\"], \"name\": \"University of Wales Institute, Cardiff\", \"state-province\": null, \"alpha_two_code\": \"GB\", \"domains\": [\"uwic.ac.uk\"]}, {\"country\": \"United Kingdom\", \"web_pages\": [\"http://www.wales.ac.uk/\"], \"name\": \"University of Wales\", \"state-province\": null, \"alpha_two_code\": \"GB\", \"domains\": [\"wales.ac.uk\"]}, {\"country\": \"United Kingdom\", \"web_pages\": [\"http://www.warnborough.edu/\"], \"name\": \"Warnborough University\", \"state-province\": null, \"alpha_two_code\": \"GB\", \"domains\": [\"warnborough.edu\"]}, {\"country\": \"United Kingdom\", \"web_pages\": [\"http://www.warwick.ac.uk/\"], \"name\": \"University of Warwick\", \"state-province\": null, \"alpha_two_code\": \"GB\", \"domains\": [\"warwick.ac.uk\"]}, {\"country\": \"United Kingdom\", \"web_pages\": [\"http://www.westminster.ac.uk/\"], \"name\": \"University of Westminster\", \"state-province\": null, \"alpha_two_code\": \"GB\", \"domains\": [\"westminster.ac.uk\"]}, {\"country\": \"United Kingdom\", \"web_pages\": [\"http://www.williamgilbert.co.uk/\"], \"name\": \"William Gilbert College\", \"state-province\": null, \"alpha_two_code\": \"GB\", \"domains\": [\"williamgilbert.co.uk\"]}, {\"country\": \"United Kingdom\", \"web_pages\": [\"http://www.wimbledon.ac.uk/\"], \"name\": \"Wimbledon School of Art\", \"state-province\": null, \"alpha_two_code\": \"GB\", \"domains\": [\"wimbledon.ac.uk\"]}, {\"country\": \"United Kingdom\", \"web_pages\": [\"http://www.wlv.ac.uk/\"], \"name\": \"University of Wolverhampton\", \"state-province\": null, \"alpha_two_code\": \"GB\", \"domains\": [\"wlv.ac.uk\"]}, {\"country\": \"United Kingdom\", \"web_pages\": [\"http://www.worc.ac.uk/\"], \"name\": \"University of Worcester\", \"state-province\": null, \"alpha_two_code\": \"GB\", \"domains\": [\"worc.ac.uk\"]}, {\"country\": \"United Kingdom\", \"web_pages\": [\"http://www.york.ac.uk/\"], \"name\": \"University of York\", \"state-province\": null, \"alpha_two_code\": \"GB\", \"domains\": [\"york.ac.uk\"]}, {\"country\": \"United Kingdom\", \"web_pages\": [\"https://www.mbro.ac.uk/\"], \"name\": \"Middlesbrough College\", \"state-province\": null, \"alpha_two_code\": \"GB\", \"domains\": [\"middlesbro.ac.uk\", \"mbro.ac.uk\"]}, {\"country\": \"United Kingdom\", \"web_pages\": [\"https://futureworks.ac.uk/\"], \"name\": \"Futureworks\", \"state-province\": null, \"alpha_two_code\": \"GB\", \"domains\": [\"futureworks.ac.uk\"]}, {\"country\": \"United Kingdom\", \"web_pages\": [\"https://www.arts.ac.uk\"], \"name\": \"University of the Arts London\", \"state-province\": null, \"alpha_two_code\": \"GB\", \"domains\": [\"arts.ac.uk\"]}, {\"country\": \"United Kingdom\", \"web_pages\": [\"http://www.abdn.ac.uk/\"], \"name\": \"University of Aberdeen\", \"state-province\": null, \"alpha_two_code\": \"GB\", \"domains\": [\"abdn.ac.uk\", \"aberdeen.ac.uk\"]}, {\"country\": \"United Kingdom\", \"web_pages\": [\"http://www.aber.ac.uk/\"], \"name\": \"University of Wales, Aberystwyth\", \"state-province\": null, \"alpha_two_code\": \"GB\", \"domains\": [\"aber.ac.uk\"]}, {\"country\": \"United Kingdom\", \"web_pages\": [\"http://www.abertay.ac.uk/\"], \"name\": \"University of Abertay Dundee\", \"state-province\": null, \"alpha_two_code\": \"GB\", \"domains\": [\"abertay.ac.uk\"]}, {\"country\": \"United Kingdom\", \"web_pages\": [\"http://www.aiuniv.edu/\"], \"name\": \"American InterContinental University - London\", \"state-province\": null, \"alpha_two_code\": \"GB\", \"domains\": [\"aiuniv.edu\"]}, {\"country\": \"United Kingdom\", \"web_pages\": [\"http://www.aku.edu/\"], \"name\": \"Aga Khan University\", \"state-province\": null, \"alpha_two_code\": \"GB\", \"domains\": [\"aku.edu\"]}, {\"country\": \"United Kingdom\", \"web_pages\": [\"http://www.anglia.ac.uk/\"], \"name\": \"Anglia Ruskin University\", \"state-province\": null, \"alpha_two_code\": \"GB\", \"domains\": [\"anglia.ac.uk\"]}, {\"country\": \"United Kingdom\", \"web_pages\": [\"http://www.aston.ac.uk/\"], \"name\": \"Aston University\", \"state-province\": null, \"alpha_two_code\": \"GB\", \"domains\": [\"aston.ac.uk\"]}, {\"country\": \"United Kingdom\", \"web_pages\": [\"http://www.aul.edu/\"], \"name\": \"The American University in London\", \"state-province\": null, \"alpha_two_code\": \"GB\", \"domains\": [\"aul.edu\"]}, {\"country\": \"United Kingdom\", \"web_pages\": [\"http://www.bangor.ac.uk/\"], \"name\": \"University of Wales, Bangor\", \"state-province\": null, \"alpha_two_code\": \"GB\", \"domains\": [\"bangor.ac.uk\"]}, {\"country\": \"United Kingdom\", \"web_pages\": [\"http://www.bath.ac.uk/\"], \"name\": \"University of Bath\", \"state-province\": null, \"alpha_two_code\": \"GB\", \"domains\": [\"bath.ac.uk\"]}, {\"country\": \"United Kingdom\", \"web_pages\": [\"https://www.bathspa.ac.uk/\"], \"name\": \"Bath Spa University\", \"state-province\": null, \"alpha_two_code\": \"GB\", \"domains\": [\"bathspa.ac.uk\"]}, {\"country\": \"United Kingdom\", \"web_pages\": [\"http://www.bbk.ac.uk/\"], \"name\": \"Birkbeck College, University of London\", \"state-province\": null, \"alpha_two_code\": \"GB\", \"domains\": [\"bbk.ac.uk\"]}, {\"country\": \"United Kingdom\", \"web_pages\": [\"http://www.bcom.ac.uk/\"], \"name\": \"British College of Osteopathic Medicine\", \"state-province\": null, \"alpha_two_code\": \"GB\", \"domains\": [\"bcom.ac.uk\"]}, {\"country\": \"United Kingdom\", \"web_pages\": [\"http://www.bcu.ac.uk/\"], \"name\": \"Birmingham City University\", \"state-province\": null, \"alpha_two_code\": \"GB\", \"domains\": [\"bcu.ac.uk\"]}, {\"country\": \"United Kingdom\", \"web_pages\": [\"http://www.beds.ac.uk/\"], \"name\": \"University of Bedfordshire\", \"state-province\": null, \"alpha_two_code\": \"GB\", \"domains\": [\"beds.ac.uk\"]}, {\"country\": \"United Kingdom\", \"web_pages\": [\"http://www.bham.ac.uk/\"], \"name\": \"University of Birmingham\", \"state-province\": null, \"alpha_two_code\": \"GB\", \"domains\": [\"bham.ac.uk\"]}, {\"country\": \"United Kingdom\", \"web_pages\": [\"http://www.bolton.ac.uk/\"], \"name\": \"University of Bolton\", \"state-province\": null, \"alpha_two_code\": \"GB\", \"domains\": [\"bolton.ac.uk\"]}, {\"country\": \"United Kingdom\", \"web_pages\": [\"http://www.bournemouth.ac.uk/\"], \"name\": \"Bournemouth University\", \"state-province\": null, \"alpha_two_code\": \"GB\", \"domains\": [\"bournemouth.ac.uk\"]}, {\"country\": \"United Kingdom\", \"web_pages\": [\"http://www.brad.ac.uk/\"], \"name\": \"University of Bradford\", \"state-province\": null, \"alpha_two_code\": \"GB\", \"domains\": [\"brad.ac.uk\"]}, {\"country\": \"United Kingdom\", \"web_pages\": [\"http://www.brijnet.org/lsjs/\"], \"name\": \"London School of Jewish Studies\", \"state-province\": null, \"alpha_two_code\": \"GB\", \"domains\": [\"brijnet.org\"]}, {\"country\": \"United Kingdom\", \"web_pages\": [\"http://www.bris.ac.uk/\"], \"name\": \"University of Bristol\", \"state-province\": null, \"alpha_two_code\": \"GB\", \"domains\": [\"bris.ac.uk\"]}, {\"country\": \"United Kingdom\", \"web_pages\": [\"http://www.brookes.ac.uk/\"], \"name\": \"Oxford Brookes University\", \"state-province\": null, \"alpha_two_code\": \"GB\", \"domains\": [\"brookes.ac.uk\"]}, {\"country\": \"United Kingdom\", \"web_pages\": [\"http://www.brunel.ac.uk/\"], \"name\": \"Brunel University Uxbridge\", \"state-province\": null, \"alpha_two_code\": \"GB\", \"domains\": [\"brunel.ac.uk\"]}, {\"country\": \"United Kingdom\", \"web_pages\": [\"http://www.bton.ac.uk/\"], \"name\": \"University of Brighton\", \"state-province\": null, \"alpha_two_code\": \"GB\", \"domains\": [\"bton.ac.uk\"]}, {\"country\": \"United Kingdom\", \"web_pages\": [\"http://www.buck.ac.uk/\"], \"name\": \"University of Buckingham\", \"state-province\": null, \"alpha_two_code\": \"GB\", \"domains\": [\"buck.ac.uk\"]}, {\"country\": \"United Kingdom\", \"web_pages\": [\"http://www.bucks.ac.uk/\"], \"name\": \"Buckinghamshire New University\", \"state-province\": null, \"alpha_two_code\": \"GB\", \"domains\": [\"bucks.ac.uk\"]}, {\"country\": \"United Kingdom\", \"web_pages\": [\"http://www.cam.ac.uk/\"], \"name\": \"University of Cambridge\", \"state-province\": null, \"alpha_two_code\": \"GB\", \"domains\": [\"cam.ac.uk\"]}, {\"country\": \"United Kingdom\", \"web_pages\": [\"http://www.camb.linst.ac.uk/\"], \"name\": \"Camberwell College of Arts\", \"state-province\": null, \"alpha_two_code\": \"GB\", \"domains\": [\"camb.linst.ac.uk\"]}, {\"country\": \"United Kingdom\", \"web_pages\": [\"http://www.canterbury.ac.uk/\"], \"name\": \"Canterbury Christ Church University\", \"state-province\": null, \"alpha_two_code\": \"GB\", \"domains\": [\"canterbury.ac.uk\"]}, {\"country\": \"United Kingdom\", \"web_pages\": [\"http://www.cardiff.ac.uk/\"], \"name\": \"Cardiff University\", \"state-province\": null, \"alpha_two_code\": \"GB\", \"domains\": [\"cardiff.ac.uk\", \"cf.ac.uk\"]}, {\"country\": \"United Kingdom\", \"web_pages\": [\"http://www.chelsea.linst.ac.uk/\"], \"name\": \"Chelsea College of Art and Design\", \"state-province\": null, \"alpha_two_code\": \"GB\", \"domains\": [\"chelsea.linst.ac.uk\"]}, {\"country\": \"United Kingdom\", \"web_pages\": [\"http://www.chester.ac.uk/\"], \"name\": \"University of Chester\", \"state-province\": null, \"alpha_two_code\": \"GB\", \"domains\": [\"chester.ac.uk\"]}, {\"country\": \"United Kingdom\", \"web_pages\": [\"http://www.city.ac.uk/\"], \"name\": \"City University\", \"state-province\": null, \"alpha_two_code\": \"GB\", \"domains\": [\"city.ac.uk\"]}, {\"country\": \"United Kingdom\", \"web_pages\": [\"http://www.courtauld.ac.uk/\"], \"name\": \"Courtauld Institute of Art, University of London\", \"state-province\": null, \"alpha_two_code\": \"GB\", \"domains\": [\"courtauld.ac.uk\"]}, {\"country\": \"United Kingdom\", \"web_pages\": [\"http://www.coventry.ac.uk/\"], \"name\": \"Coventry University\", \"state-province\": null, \"alpha_two_code\": \"GB\", \"domains\": [\"coventry.ac.uk\"]}, {\"country\": \"United Kingdom\", \"web_pages\": [\"http://www.cranfield.ac.uk/\"], \"name\": \"Cranfield University\", \"state-province\": null, \"alpha_two_code\": \"GB\", \"domains\": [\"cranfield.ac.uk\"]}, {\"country\": \"United Kingdom\", \"web_pages\": [\"http://www.csm.linst.ac.uk/\"], \"name\": \"Central Saint Martins College of Art & Design\", \"state-province\": null, \"alpha_two_code\": \"GB\", \"domains\": [\"csm.linst.ac.uk\"]}, {\"country\": \"United Kingdom\", \"web_pages\": [\"http://www.derby.ac.uk/\"], \"name\": \"University of Derby\", \"state-province\": null, \"alpha_two_code\": \"GB\", \"domains\": [\"derby.ac.uk\"]}, {\"country\": \"United Kingdom\", \"web_pages\": [\"http://www.dmu.ac.uk/\"], \"name\": \"De Montfort University Leicester\", \"state-province\": null, \"alpha_two_code\": \"GB\", \"domains\": [\"dmu.ac.uk\"]}, {\"country\": \"United Kingdom\", \"web_pages\": [\"http://www.dundee.ac.uk/\"], \"name\": \"University of Dundee\", \"state-province\": null, \"alpha_two_code\": \"GB\", \"domains\": [\"dundee.ac.uk\"]}, {\"country\": \"United Kingdom\", \"web_pages\": [\"http://www.dur.ac.uk/\"], \"name\": \"University of Durham\", \"state-province\": null, \"alpha_two_code\": \"GB\", \"domains\": [\"dur.ac.uk\"]}, {\"country\": \"United Kingdom\", \"web_pages\": [\"http://www.edgehill.ac.uk/\"], \"name\": \"Edge Hill University\", \"state-province\": null, \"alpha_two_code\": \"GB\", \"domains\": [\"edgehill.ac.uk\"]}, {\"country\": \"United Kingdom\", \"web_pages\": [\"http://www.ed.ac.uk/\"], \"name\": \"University of Edinburgh\", \"state-province\": null, \"alpha_two_code\": \"GB\", \"domains\": [\"ed.ac.uk\"]}, {\"country\": \"United Kingdom\", \"web_pages\": [\"http://www.eselondon.ac.uk/\"], \"name\": \"European School of Economics\", \"state-province\": null, \"alpha_two_code\": \"GB\", \"domains\": [\"eselondon.ac.uk\"]}, {\"country\": \"United Kingdom\", \"web_pages\": [\"http://www.essex.ac.uk/\"], \"name\": \"University of Essex\", \"state-province\": null, \"alpha_two_code\": \"GB\", \"domains\": [\"essex.ac.uk\", \"sx.ac.uk\"]}, {\"country\": \"United Kingdom\", \"web_pages\": [\"http://www.ex.ac.uk/\"], \"name\": \"University of Exeter\", \"state-province\": null, \"alpha_two_code\": \"GB\", \"domains\": [\"ex.ac.uk\"]}, {\"country\": \"United Kingdom\", \"web_pages\": [\"http://www.falmouth.ac.uk/\"], \"name\": \"Falmouth University\", \"state-province\": null, \"alpha_two_code\": \"GB\", \"domains\": [\"falmouth.ac.uk\"]}, {\"country\": \"United Kingdom\", \"web_pages\": [\"http://www.gcal.ac.uk/\"], \"name\": \"Glasgow Caledonian University\", \"state-province\": null, \"alpha_two_code\": \"GB\", \"domains\": [\"gcal.ac.uk\", \"gcu.ac.uk\"]}, {\"country\": \"United Kingdom\", \"web_pages\": [\"http://www.gla.ac.uk/\"], \"name\": \"University of Glasgow\", \"state-province\": null, \"alpha_two_code\": \"GB\", \"domains\": [\"gla.ac.uk\"]}, {\"country\": \"United Kingdom\", \"web_pages\": [\"http://www.glam.ac.uk/\"], \"name\": \"University of Glamorgan\", \"state-province\": null, \"alpha_two_code\": \"GB\", \"domains\": [\"glam.ac.uk\"]}, {\"country\": \"United Kingdom\", \"web_pages\": [\"http://www.glos.ac.uk/\"], \"name\": \"University of Gloucestershire\", \"state-province\": null, \"alpha_two_code\": \"GB\", \"domains\": [\"glos.ac.uk\"]}, {\"country\": \"United Kingdom\", \"web_pages\": [\"http://www.gold.ac.uk/\"], \"name\": \"Goldsmiths College, University of London\", \"state-province\": null, \"alpha_two_code\": \"GB\", \"domains\": [\"gold.ac.uk\"]}, {\"country\": \"United Kingdom\", \"web_pages\": [\"http://www.gre.ac.uk/\"], \"name\": \"University of Greenwich\", \"state-province\": null, \"alpha_two_code\": \"GB\", \"domains\": [\"gre.ac.uk\"]}, {\"country\": \"United Kingdom\", \"web_pages\": [\"http://www.gsa.ac.uk/\"], \"name\": \"Glasgow School of Art\", \"state-province\": null, \"alpha_two_code\": \"GB\", \"domains\": [\"gsa.ac.uk\", \"student.gsa.ac.uk\"]}, {\"country\": \"United Kingdom\", \"web_pages\": [\"http://www.halifaxuni.ac/\"], \"name\": \"University of Halifax, Birmingham Campus\", \"state-province\": null, \"alpha_two_code\": \"GB\", \"domains\": [\"halifaxuni.ac\"]}, {\"country\": \"United Kingdom\", \"web_pages\": [\"http://www.herts.ac.uk/\"], \"name\": \"University of Hertfordshire\", \"state-province\": null, \"alpha_two_code\": \"GB\", \"domains\": [\"herts.ac.uk\"]}, {\"country\": \"United Kingdom\", \"web_pages\": [\"http://www.heythrop.ac.uk/\"], \"name\": \"Heythrop College, University of London\", \"state-province\": null, \"alpha_two_code\": \"GB\", \"domains\": [\"heythrop.ac.uk\"]}, {\"country\": \"United Kingdom\", \"web_pages\": [\"http://www.hope.ac.uk/\"], \"name\": \"Liverpool Hope University College\", \"state-province\": null, \"alpha_two_code\": \"GB\", \"domains\": [\"hope.ac.uk\"]}, {\"country\": \"United Kingdom\", \"web_pages\": [\"http://www.hud.ac.uk/\"], \"name\": \"University of Huddersfield\", \"state-province\": null, \"alpha_two_code\": \"GB\", \"domains\": [\"hud.ac.uk\"]}, {\"country\": \"United Kingdom\", \"web_pages\": [\"http://www.hull.ac.uk/\"], \"name\": \"University of Hull\", \"state-province\": null, \"alpha_two_code\": \"GB\", \"domains\": [\"hull.ac.uk\"]}, {\"country\": \"United Kingdom\", \"web_pages\": [\"http://www.huron.ac.uk/\"], \"name\": \"Huron University USA in London\", \"state-province\": null, \"alpha_two_code\": \"GB\", \"domains\": [\"huron.ac.uk\"]}, {\"country\": \"United Kingdom\", \"web_pages\": [\"http://www.hw.ac.uk/\"], \"name\": \"Heriot-Watt University\", \"state-province\": null, \"alpha_two_code\": \"GB\", \"domains\": [\"hw.ac.uk\"]}, {\"country\": \"United Kingdom\", \"web_pages\": [\"http://www.imperial.ac.uk/\"], \"name\": \"Imperial College London\", \"state-province\": null, \"alpha_two_code\": \"GB\", \"domains\": [\"imperial.ac.uk\", \"ic.ac.uk\"]}, {\"country\": \"United Kingdom\", \"web_pages\": [\"http://www.ifslearning.ac.uk/\"], \"name\": \"ifs University College\", \"state-province\": null, \"alpha_two_code\": \"GB\", \"domains\": [\"ifslearning.ac.uk\"]}, {\"country\": \"United Kingdom\", \"web_pages\": [\"http://ihr.sas.ac.uk/\"], \"name\": \"Institue of Historical Research, University of London\", \"state-province\": null, \"alpha_two_code\": \"GB\", \"domains\": [\"ihr.sas.ac.uk\"]}, {\"country\": \"United Kingdom\", \"web_pages\": [\"http://www.ihr.sas.ac.uk/ics/\"], \"name\": \"Institute of Commonwealth Studies, University of London\", \"state-province\": null, \"alpha_two_code\": \"GB\", \"domains\": [\"ihr.sas.ac.uk\"]}, {\"country\": \"United Kingdom\", \"web_pages\": [\"http://www.ioe.ac.uk/\"], \"name\": \"Institute of Education, University of London\", \"state-province\": null, \"alpha_two_code\": \"GB\", \"domains\": [\"ioe.ac.uk\"]}, {\"country\": \"United Kingdom\", \"web_pages\": [\"http://www.islamiccolleges.com/\"], \"name\": \"International Colleges of Islamic Science\", \"state-province\": null, \"alpha_two_code\": \"GB\", \"domains\": [\"islamiccolleges.com\"]}, {\"country\": \"United Kingdom\", \"web_pages\": [\"http://www.kcl.ac.uk/\"], \"name\": \"King\\'s College London, University of London\", \"state-province\": null, \"alpha_two_code\": \"GB\", \"domains\": [\"kcl.ac.uk\"]}, {\"country\": \"United Kingdom\", \"web_pages\": [\"http://www.keele.ac.uk/\"], \"name\": \"Keele University\", \"state-province\": null, \"alpha_two_code\": \"GB\", \"domains\": [\"keele.ac.uk\"]}, {\"country\": \"United Kingdom\", \"web_pages\": [\"http://www.kingston.ac.uk/\"], \"name\": \"Kingston University\", \"state-province\": null, \"alpha_two_code\": \"GB\", \"domains\": [\"kingston.ac.uk\"]}, {\"country\": \"United Kingdom\", \"web_pages\": [\"http://www.kolieh.com/\"], \"name\": \"International Centre for Isclamic Science\", \"state-province\": null, \"alpha_two_code\": \"GB\", \"domains\": [\"kolieh.com\"]}, {\"country\": \"United Kingdom\", \"web_pages\": [\"http://www.lamp.ac.uk/\"], \"name\": \"University of Wales, Lampeter\", \"state-province\": null, \"alpha_two_code\": \"GB\", \"domains\": [\"lamp.ac.uk\"]}, {\"country\": \"United Kingdom\", \"web_pages\": [\"http://www.lancs.ac.uk/\"], \"name\": \"University of Lancaster\", \"state-province\": null, \"alpha_two_code\": \"GB\", \"domains\": [\"lancs.ac.uk\"]}, {\"country\": \"United Kingdom\", \"web_pages\": [\"http://www.lboro.ac.uk/\"], \"name\": \"Loughborough University\", \"state-province\": null, \"alpha_two_code\": \"GB\", \"domains\": [\"lboro.ac.uk\", \"student.lboro.ac.uk\"]}, {\"country\": \"United Kingdom\", \"web_pages\": [\"http://www.lbs.lon.ac.uk/\"], \"name\": \"London Business School\", \"state-province\": null, \"alpha_two_code\": \"GB\", \"domains\": [\"lbs.lon.ac.uk\"]}, {\"country\": \"United Kingdom\", \"web_pages\": [\"http://www.lcst.ac/\"], \"name\": \"London College of Science & Technology\", \"state-province\": null, \"alpha_two_code\": \"GB\", \"domains\": [\"lcst.ac\"]}, {\"country\": \"United Kingdom\", \"web_pages\": [\"http://www.le.ac.uk/\"], \"name\": \"University of Leicester\", \"state-province\": null, \"alpha_two_code\": \"GB\", \"domains\": [\"le.ac.uk\"]}, {\"country\": \"United Kingdom\", \"web_pages\": [\"http://www.leeds.ac.uk/\"], \"name\": \"University of Leeds\", \"state-province\": null, \"alpha_two_code\": \"GB\", \"domains\": [\"leeds.ac.uk\"]}, {\"country\": \"United Kingdom\", \"web_pages\": [\"http://www.lgu.ac.uk/\"], \"name\": \"London Guildhall University\", \"state-province\": null, \"alpha_two_code\": \"GB\", \"domains\": [\"lgu.ac.uk\"]}, {\"country\": \"United Kingdom\", \"web_pages\": [\"http://www.limt.co.uk/\"], \"name\": \"London Institute of Management and Technology\", \"state-province\": null, \"alpha_two_code\": \"GB\", \"domains\": [\"limt.co.uk\"]}, {\"country\": \"United Kingdom\", \"web_pages\": [\"http://www.lincoln.ac.uk/\"], \"name\": \"University of Lincoln\", \"state-province\": null, \"alpha_two_code\": \"GB\", \"domains\": [\"lincoln.ac.uk\"]}, {\"country\": \"United Kingdom\", \"web_pages\": [\"http://www.liv.ac.uk/\"], \"name\": \"University of Liverpool\", \"state-province\": null, \"alpha_two_code\": \"GB\", \"domains\": [\"liv.ac.uk\"]}, {\"country\": \"United Kingdom\", \"web_pages\": [\"https://www.ljmu.ac.uk/\"], \"name\": \"Liverpool John Moores University\", \"state-province\": null, \"alpha_two_code\": \"GB\", \"domains\": [\"ljmu.ac.uk\"]}, {\"country\": \"United Kingdom\", \"web_pages\": [\"http://www.lmu.ac.uk/\"], \"name\": \"Leeds Metropolitan University\", \"state-province\": null, \"alpha_two_code\": \"GB\", \"domains\": [\"lmu.ac.uk\"]}, {\"country\": \"United Kingdom\", \"web_pages\": [\"http://www.lon.ac.uk/\"], \"name\": \"University of London\", \"state-province\": null, \"alpha_two_code\": \"GB\", \"domains\": [\"lon.ac.uk\"]}, {\"country\": \"United Kingdom\", \"web_pages\": [\"http://www.londonmet.ac.uk/\"], \"name\": \"London Metropolitan University\", \"state-province\": null, \"alpha_two_code\": \"GB\", \"domains\": [\"londonmet.ac.uk\"]}, {\"country\": \"United Kingdom\", \"web_pages\": [\"http://www.lsbf.org.uk/\"], \"name\": \"London School of Business & Finance\", \"state-province\": null, \"alpha_two_code\": \"GB\", \"domains\": [\"lsbf.org.uk\"]}, {\"country\": \"United Kingdom\", \"web_pages\": [\"http://www.lse.ac.uk/\"], \"name\": \"London School of Economics and Political Science, University of London\", \"state-province\": null, \"alpha_two_code\": \"GB\", \"domains\": [\"lse.ac.uk\"]}, {\"country\": \"United Kingdom\", \"web_pages\": [\"http://www.lshtm.ac.uk/\"], \"name\": \"London School of Hygiene & Tropical Medicine, University of London\", \"state-province\": null, \"alpha_two_code\": \"GB\", \"domains\": [\"lshtm.ac.uk\"]}, {\"country\": \"United Kingdom\", \"web_pages\": [\"http://www.manchester.ac.uk/\"], \"name\": \"University of Manchester\", \"state-province\": null, \"alpha_two_code\": \"GB\", \"domains\": [\"manchester.ac.uk\", \"mbs.ac.uk\", \"man.ac.uk\"]}, {\"country\": \"United Kingdom\", \"web_pages\": [\"http://www.mdx.ac.uk/\"], \"name\": \"Middlesex University\", \"state-province\": null, \"alpha_two_code\": \"GB\", \"domains\": [\"mdx.ac.uk\"]}, {\"country\": \"United Kingdom\", \"web_pages\": [\"http://www.med.ic.ac.uk/\"], \"name\": \"Imperial College School of Medicine\", \"state-province\": null, \"alpha_two_code\": \"GB\", \"domains\": [\"med.ic.ac.uk\"]}, {\"country\": \"United Kingdom\", \"web_pages\": [\"http://www.mmu.ac.uk/\"], \"name\": \"The Manchester Metropolitan University\", \"state-province\": null, \"alpha_two_code\": \"GB\", \"domains\": [\"mmu.ac.uk\"]}, {\"country\": \"United Kingdom\", \"web_pages\": [\"http://www.napier.ac.uk/\"], \"name\": \"Napier University\", \"state-province\": null, \"alpha_two_code\": \"GB\", \"domains\": [\"napier.ac.uk\"]}, {\"country\": \"United Kingdom\", \"web_pages\": [\"http://www.ncl.ac.uk/\"], \"name\": \"University of Newcastle-upon-Tyne\", \"state-province\": null, \"alpha_two_code\": \"GB\", \"domains\": [\"ncl.ac.uk\"]}, {\"country\": \"United Kingdom\", \"web_pages\": [\"http://www.newport.ac.uk/\"], \"name\": \"University of Wales, Newport\", \"state-province\": null, \"alpha_two_code\": \"GB\", \"domains\": [\"newport.ac.uk\"]}, {\"country\": \"United Kingdom\", \"web_pages\": [\"http://www.niu.org.uk/\"], \"name\": \"Newport International University\", \"state-province\": null, \"alpha_two_code\": \"GB\", \"domains\": [\"niu.org.uk\"]}, {\"country\": \"United Kingdom\", \"web_pages\": [\"http://www.northampton.ac.uk/\"], \"name\": \"University of Northampton\", \"state-province\": null, \"alpha_two_code\": \"GB\", \"domains\": [\"northampton.ac.uk\"]}, {\"country\": \"United Kingdom\", \"web_pages\": [\"http://www.nottingham.ac.uk/\"], \"name\": \"University of Nottingham\", \"state-province\": null, \"alpha_two_code\": \"GB\", \"domains\": [\"nottingham.ac.uk\"]}, {\"country\": \"United Kingdom\", \"web_pages\": [\"http://www.ntu.ac.uk/\"], \"name\": \"Nottingham Trent University\", \"state-province\": null, \"alpha_two_code\": \"GB\", \"domains\": [\"ntu.ac.uk\"]}, {\"country\": \"United Kingdom\", \"web_pages\": [\"http://www.open.ac.uk/\"], \"name\": \"Open University\", \"state-province\": null, \"alpha_two_code\": \"GB\", \"domains\": [\"open.ac.uk\"]}, {\"country\": \"United Kingdom\", \"web_pages\": [\"http://www.ox.ac.uk/\"], \"name\": \"University of Oxford\", \"state-province\": null, \"alpha_two_code\": \"GB\", \"domains\": [\"oxford.ac.uk\", \"ox.ac.uk\"]}, {\"country\": \"United Kingdom\", \"web_pages\": [\"http://www.paisley.ac.uk/\"], \"name\": \"University of Paisley\", \"state-province\": null, \"alpha_two_code\": \"GB\", \"domains\": [\"paisley.ac.uk\"]}, {\"country\": \"United Kingdom\", \"web_pages\": [\"http://www.plymouth.ac.uk/\"], \"name\": \"University of Plymouth\", \"state-province\": null, \"alpha_two_code\": \"GB\", \"domains\": [\"plymouth.ac.uk\"]}, {\"country\": \"United Kingdom\", \"web_pages\": [\"http://www.port.ac.uk/\"], \"name\": \"University of Portsmouth\", \"state-province\": null, \"alpha_two_code\": \"GB\", \"domains\": [\"port.ac.uk\"]}, {\"country\": \"United Kingdom\", \"web_pages\": [\"http://www.qmul.ac.uk/\"], \"name\": \"Queen Mary, University of London\", \"state-province\": null, \"alpha_two_code\": \"GB\", \"domains\": [\"qmw.ac.uk\", \"qmul.ac.uk\"]}, {\"country\": \"United Kingdom\", \"web_pages\": [\"http://www.qub.ac.uk/\"], \"name\": \"The Queen\\'s University Belfast\", \"state-province\": null, \"alpha_two_code\": \"GB\", \"domains\": [\"qub.ac.uk\"]}, {\"country\": \"United Kingdom\", \"web_pages\": [\"http://www.ram.ac.uk/\"], \"name\": \"Royal Academy of Music, University of London\", \"state-province\": null, \"alpha_two_code\": \"GB\", \"domains\": [\"ram.ac.uk\"]}, {\"country\": \"United Kingdom\", \"web_pages\": [\"http://www.rca.ac.uk/\"], \"name\": \"Royal College of Art\", \"state-province\": null, \"alpha_two_code\": \"GB\", \"domains\": [\"rca.ac.uk\", \"network.rca.ac.uk\"]}, {\"country\": \"United Kingdom\", \"web_pages\": [\"http://www.rcm.ac.uk/\"], \"name\": \"Royal College of Music, University of London\", \"state-province\": null, \"alpha_two_code\": \"GB\", \"domains\": [\"rcm.ac.uk\"]}, {\"country\": \"United Kingdom\", \"web_pages\": [\"http://www.rdg.ac.uk/\"], \"name\": \"University of Reading\", \"state-province\": null, \"alpha_two_code\": \"GB\", \"domains\": [\"rdg.ac.uk\"]}, {\"country\": \"United Kingdom\", \"web_pages\": [\"http://www.rfhsm.ac.uk/\"], \"name\": \"Royal Free Hospital School of Medicine, University of London\", \"state-province\": null, \"alpha_two_code\": \"GB\", \"domains\": [\"rfhsm.ac.uk\"]}, {\"country\": \"United Kingdom\", \"web_pages\": [\"http://www.rgu.ac.uk/\"], \"name\": \"The Robert Gordon University\", \"state-province\": null, \"alpha_two_code\": \"GB\", \"domains\": [\"rgu.ac.uk\"]}, {\"country\": \"United Kingdom\", \"web_pages\": [\"http://www.royalholloway.ac.uk/\"], \"name\": \"Royal Holloway and Bedford New College\", \"state-province\": null, \"alpha_two_code\": \"GB\", \"domains\": [\"royalholloway.ac.uk\", \"rhbnc.ac.uk\", \"rh.ac.uk\"]}, {\"country\": \"United Kingdom\", \"web_pages\": [\"http://www.richmond.ac.uk/\"], \"name\": \"Richmond University - The American International University in London\", \"state-province\": null, \"alpha_two_code\": \"GB\", \"domains\": [\"richmond.ac.uk\"]}, {\"country\": \"United Kingdom\", \"web_pages\": [\"http://www.roehampton.ac.uk/\"], \"name\": \"Roehampton University of Surrey\", \"state-province\": null, \"alpha_two_code\": \"GB\", \"domains\": [\"roehampton.ac.uk\"]}, {\"country\": \"United Kingdom\", \"web_pages\": [\"http://www.salford.ac.uk/\"], \"name\": \"University of Salford\", \"state-province\": null, \"alpha_two_code\": \"GB\", \"domains\": [\"salford.ac.uk\"]}, {\"country\": \"United Kingdom\", \"web_pages\": [\"http://www.sas.ac.uk/ials/\"], \"name\": \"Institute of Advanced Legal Studies, University of London\", \"state-province\": null, \"alpha_two_code\": \"GB\", \"domains\": [\"sas.ac.uk\"]}, {\"country\": \"United Kingdom\", \"web_pages\": [\"http://www.sas.ac.uk/icls/\"], \"name\": \"Institute of Classical Studies, University of London\", \"state-province\": null, \"alpha_two_code\": \"GB\", \"domains\": [\"sas.ac.uk\"]}, {\"country\": \"United Kingdom\", \"web_pages\": [\"http://www.sas.ac.uk/igs/\"], \"name\": \"Institute of Germanic Studies, University of London\", \"state-province\": null, \"alpha_two_code\": \"GB\", \"domains\": [\"sas.ac.uk\"]}, {\"country\": \"United Kingdom\", \"web_pages\": [\"http://www.sas.ac.uk/ilas/\"], \"name\": \"Institute of Latin American Studies, University of London\", \"state-province\": null, \"alpha_two_code\": \"GB\", \"domains\": [\"sas.ac.uk\"]}, {\"country\": \"United Kingdom\", \"web_pages\": [\"http://www.sas.ac.uk/warburg/\"], \"name\": \"Warburg Institute, University of London\", \"state-province\": null, \"alpha_two_code\": \"GB\", \"domains\": [\"sas.ac.uk\"]}, {\"country\": \"United Kingdom\", \"web_pages\": [\"http://www.sbu.ac.uk/\"], \"name\": \"South Bank University\", \"state-province\": null, \"alpha_two_code\": \"GB\", \"domains\": [\"sbu.ac.uk\"]}, {\"country\": \"United Kingdom\", \"web_pages\": [\"http://www.schillerlondon.ac.uk/\"], \"name\": \"Schiller International University, London\", \"state-province\": null, \"alpha_two_code\": \"GB\", \"domains\": [\"schillerlondon.ac.uk\"]}, {\"country\": \"United Kingdom\", \"web_pages\": [\"http://www.sclondon.ac/\"], \"name\": \"Stratford College London\", \"state-province\": null, \"alpha_two_code\": \"GB\", \"domains\": [\"sclondon.ac\"]}, {\"country\": \"United Kingdom\", \"web_pages\": [\"http://www.sghms.ac.uk/\"], \"name\": \"Saint George\\'s Hospital Medical School, University of London\", \"state-province\": null, \"alpha_two_code\": \"GB\", \"domains\": [\"sghms.ac.uk\"]}, {\"country\": \"United Kingdom\", \"web_pages\": [\"http://www.shef.ac.uk/\"], \"name\": \"University of Sheffield\", \"state-province\": null, \"alpha_two_code\": \"GB\", \"domains\": [\"shef.ac.uk\", \"sheffield.ac.uk\"]}, {\"country\": \"United Kingdom\", \"web_pages\": [\"http://www.shu.ac.uk/\"], \"name\": \"Sheffield Hallam University\", \"state-province\": null, \"alpha_two_code\": \"GB\", \"domains\": [\"shu.ac.uk\"]}, {\"country\": \"United Kingdom\", \"web_pages\": [\"http://www.smu.ac.uk/\"], \"name\": \"Swansea Metropolitan University\", \"state-province\": null, \"alpha_two_code\": \"GB\", \"domains\": [\"smu.ac.uk\"]}, {\"country\": \"United Kingdom\", \"web_pages\": [\"http://www.soas.ac.uk/\"], \"name\": \"School of Oriental and African Studies, University of London\", \"state-province\": null, \"alpha_two_code\": \"GB\", \"domains\": [\"soas.ac.uk\"]}, {\"country\": \"United Kingdom\", \"web_pages\": [\"http://www.solent.ac.uk/\"], \"name\": \"Southampton Solent University\", \"state-province\": null, \"alpha_two_code\": \"GB\", \"domains\": [\"solent.ac.uk\"]}, {\"country\": \"United Kingdom\", \"web_pages\": [\"http://www.sothebysinstitutelondon.com/\"], \"name\": \"Sotheby\\\\u00b4s Institute of Art - London\", \"state-province\": null, \"alpha_two_code\": \"GB\", \"domains\": [\"sothebysinstitutelondon.com\"]}, {\"country\": \"United Kingdom\", \"web_pages\": [\"http://www.southampton.ac.uk/\"], \"name\": \"University of Southampton\", \"state-province\": null, \"alpha_two_code\": \"GB\", \"domains\": [\"soton.ac.uk\"]}, {\"country\": \"United Kingdom\", \"web_pages\": [\"http://www.ssees.ac.uk/\"], \"name\": \"School of Slavonic and East European Studies, University of London\", \"state-province\": null, \"alpha_two_code\": \"GB\", \"domains\": [\"ssees.ac.uk\"]}, {\"country\": \"United Kingdom\", \"web_pages\": [\"http://www.staffs.ac.uk/\"], \"name\": \"Staffordshire University\", \"state-province\": null, \"alpha_two_code\": \"GB\", \"domains\": [\"staffs.ac.uk\"]}, {\"country\": \"United Kingdom\", \"web_pages\": [\"https://www.st-andrews.ac.uk/\"], \"name\": \"University of St. Andrews\", \"state-province\": null, \"alpha_two_code\": \"GB\", \"domains\": [\"st-andrews.ac.uk\", \"st-and.ac.uk\"]}, {\"country\": \"United Kingdom\", \"web_pages\": [\"http://www.stir.ac.uk/\"], \"name\": \"University of Stirling\", \"state-province\": null, \"alpha_two_code\": \"GB\", \"domains\": [\"stir.ac.uk\"]}, {\"country\": \"United Kingdom\", \"web_pages\": [\"http://www.st-patricks.ac.uk/\"], \"name\": \"St.Patrick\\'s International College, London\", \"state-province\": null, \"alpha_two_code\": \"GB\", \"domains\": [\"st-patricks.ac.uk\"]}, {\"country\": \"United Kingdom\", \"web_pages\": [\"http://www.strath.ac.uk/\"], \"name\": \"University of Strathclyde\", \"state-province\": null, \"alpha_two_code\": \"GB\", \"domains\": [\"strath.ac.uk\"]}, {\"country\": \"United Kingdom\", \"web_pages\": [\"http://www.sunderland.ac.uk/\"], \"name\": \"University of Sunderland\", \"state-province\": null, \"alpha_two_code\": \"GB\", \"domains\": [\"sunderland.ac.uk\"]}, {\"country\": \"United Kingdom\", \"web_pages\": [\"http://www.surrey.ac.uk/\"], \"name\": \"University of Surrey\", \"state-province\": null, \"alpha_two_code\": \"GB\", \"domains\": [\"surrey.ac.uk\"]}, {\"country\": \"United Kingdom\", \"web_pages\": [\"http://www.sussex.ac.uk/\"], \"name\": \"University of Sussex\", \"state-province\": null, \"alpha_two_code\": \"GB\", \"domains\": [\"sussex.ac.uk\"]}, {\"country\": \"United Kingdom\", \"web_pages\": [\"http://www.swan.ac.uk/\"], \"name\": \"University of Wales, Swansea\", \"state-province\": null, \"alpha_two_code\": \"GB\", \"domains\": [\"swan.ac.uk\"]}, {\"country\": \"United Kingdom\", \"web_pages\": [\"http://www.tcm.ac.uk/\"], \"name\": \"Trinity College of Music\", \"state-province\": null, \"alpha_two_code\": \"GB\", \"domains\": [\"tcm.ac.uk\"]}, {\"country\": \"United Kingdom\", \"web_pages\": [\"http://www.tees.ac.uk/\"], \"name\": \"University of Teesside\", \"state-province\": null, \"alpha_two_code\": \"GB\", \"domains\": [\"tees.ac.uk\"]}, {\"country\": \"United Kingdom\", \"web_pages\": [\"http://www.trinity-cm.ac.uk/\"], \"name\": \"Trinity College Carmarthen\", \"state-province\": null, \"alpha_two_code\": \"GB\", \"domains\": [\"trinity-cm.ac.uk\"]}, {\"country\": \"United Kingdom\", \"web_pages\": [\"http://www.tvu.ac.uk/\"], \"name\": \"Thames Valley University\", \"state-province\": null, \"alpha_two_code\": \"GB\", \"domains\": [\"tvu.ac.uk\"]}, {\"country\": \"United Kingdom\", \"web_pages\": [\"http://www.ucl.ac.uk/\"], \"name\": \"University College London, University of London\", \"state-province\": null, \"alpha_two_code\": \"GB\", \"domains\": [\"ucl.ac.uk\"]}, {\"country\": \"United Kingdom\", \"web_pages\": [\"http://www.uclan.ac.uk/\"], \"name\": \"University of Central Lancashire\", \"state-province\": null, \"alpha_two_code\": \"GB\", \"domains\": [\"uclan.ac.uk\"]}, {\"country\": \"United Kingdom\", \"web_pages\": [\"http://www.ucs.ac.uk/\"], \"name\": \"University Campus Suffolk\", \"state-province\": null, \"alpha_two_code\": \"GB\", \"domains\": [\"ucs.ac.uk\"]}, {\"country\": \"United Kingdom\", \"web_pages\": [\"http://www.uea.ac.uk/\"], \"name\": \"University of East Anglia\", \"state-province\": null, \"alpha_two_code\": \"GB\", \"domains\": [\"uea.ac.uk\"]}, {\"country\": \"United Kingdom\", \"web_pages\": [\"http://www.uel.ac.uk/\"], \"name\": \"University of East London\", \"state-province\": null, \"alpha_two_code\": \"GB\", \"domains\": [\"uel.ac.uk\"]}, {\"country\": \"United Kingdom\", \"web_pages\": [\"http://www.ukc.ac.uk/\"], \"name\": \"University of Kent at Canterbury\", \"state-province\": null, \"alpha_two_code\": \"GB\", \"domains\": [\"ukc.ac.uk\"]}, {\"country\": \"United Kingdom\", \"web_pages\": [\"http://www.ulsop.ac.uk/\"], \"name\": \"School of Pharmacy, University of London\", \"state-province\": null, \"alpha_two_code\": \"GB\", \"domains\": [\"ulsop.ac.uk\"]}, {\"country\": \"United Kingdom\", \"web_pages\": [\"http://www.ulst.ac.uk/\"], \"name\": \"University of Ulster\", \"state-province\": null, \"alpha_two_code\": \"GB\", \"domains\": [\"ulst.ac.uk\"]}, {\"country\": \"United Kingdom\", \"web_pages\": [\"http://www.umds.ac.uk/\"], \"name\": \"United Medical and Dental Schools, University of London\", \"state-province\": null, \"alpha_two_code\": \"GB\", \"domains\": [\"umds.ac.uk\"]}, {\"country\": \"United Kingdom\", \"web_pages\": [\"http://www.unl.ac.uk/\"], \"name\": \"University of North London\", \"state-province\": null, \"alpha_two_code\": \"GB\", \"domains\": [\"unl.ac.uk\"]}, {\"country\": \"United Kingdom\", \"web_pages\": [\"http://www.unn.ac.uk/\"], \"name\": \"University of Northumbria at Newcastle\", \"state-province\": null, \"alpha_two_code\": \"GB\", \"domains\": [\"unn.ac.uk\"]}, {\"country\": \"United Kingdom\", \"web_pages\": [\"http://www.uwcm.ac.uk/\"], \"name\": \"University of Wales College of Medicine\", \"state-province\": null, \"alpha_two_code\": \"GB\", \"domains\": [\"uwcm.ac.uk\"]}, {\"country\": \"United Kingdom\", \"web_pages\": [\"http://www.uwe.ac.uk/\"], \"name\": \"University of the West of England, Bristol\", \"state-province\": null, \"alpha_two_code\": \"GB\", \"domains\": [\"uwe.ac.uk\"]}, {\"country\": \"United Kingdom\", \"web_pages\": [\"http://www.uwic.ac.uk/\"], \"name\": \"University of Wales Institute, Cardiff\", \"state-province\": null, \"alpha_two_code\": \"GB\", \"domains\": [\"uwic.ac.uk\"]}, {\"country\": \"United Kingdom\", \"web_pages\": [\"http://www.wales.ac.uk/\"], \"name\": \"University of Wales\", \"state-province\": null, \"alpha_two_code\": \"GB\", \"domains\": [\"wales.ac.uk\"]}, {\"country\": \"United Kingdom\", \"web_pages\": [\"http://www.warnborough.edu/\"], \"name\": \"Warnborough University\", \"state-province\": null, \"alpha_two_code\": \"GB\", \"domains\": [\"warnborough.edu\"]}, {\"country\": \"United Kingdom\", \"web_pages\": [\"http://www.warwick.ac.uk/\"], \"name\": \"University of Warwick\", \"state-province\": null, \"alpha_two_code\": \"GB\", \"domains\": [\"warwick.ac.uk\"]}, {\"country\": \"United Kingdom\", \"web_pages\": [\"http://www.westminster.ac.uk/\"], \"name\": \"University of Westminster\", \"state-province\": null, \"alpha_two_code\": \"GB\", \"domains\": [\"westminster.ac.uk\"]}, {\"country\": \"United Kingdom\", \"web_pages\": [\"http://www.williamgilbert.co.uk/\"], \"name\": \"William Gilbert College\", \"state-province\": null, \"alpha_two_code\": \"GB\", \"domains\": [\"williamgilbert.co.uk\"]}, {\"country\": \"United Kingdom\", \"web_pages\": [\"http://www.wimbledon.ac.uk/\"], \"name\": \"Wimbledon School of Art\", \"state-province\": null, \"alpha_two_code\": \"GB\", \"domains\": [\"wimbledon.ac.uk\"]}, {\"country\": \"United Kingdom\", \"web_pages\": [\"http://www.wlv.ac.uk/\"], \"name\": \"University of Wolverhampton\", \"state-province\": null, \"alpha_two_code\": \"GB\", \"domains\": [\"wlv.ac.uk\"]}, {\"country\": \"United Kingdom\", \"web_pages\": [\"http://www.worc.ac.uk/\"], \"name\": \"University of Worcester\", \"state-province\": null, \"alpha_two_code\": \"GB\", \"domains\": [\"worc.ac.uk\"]}, {\"country\": \"United Kingdom\", \"web_pages\": [\"http://www.york.ac.uk/\"], \"name\": \"University of York\", \"state-province\": null, \"alpha_two_code\": \"GB\", \"domains\": [\"york.ac.uk\"]}, {\"country\": \"United Kingdom\", \"web_pages\": [\"https://www.mbro.ac.uk/\"], \"name\": \"Middlesbrough College\", \"state-province\": null, \"alpha_two_code\": \"GB\", \"domains\": [\"middlesbro.ac.uk\", \"mbro.ac.uk\"]}]'"
            ],
            "application/vnd.google.colaboratory.intrinsic+json": {
              "type": "string"
            }
          },
          "metadata": {},
          "execution_count": 64
        }
      ]
    },
    {
      "cell_type": "markdown",
      "source": [
        "Convert the text into a json format, parsing it through json using the loads method and then save it to the variable \"json\""
      ],
      "metadata": {
        "id": "zl7vfEt_igWI"
      }
    },
    {
      "cell_type": "code",
      "source": [
        "json = json.loads(data)"
      ],
      "metadata": {
        "id": "U7sWf4b6TTeN"
      },
      "execution_count": null,
      "outputs": []
    },
    {
      "cell_type": "markdown",
      "source": [
        "Print the data in json format"
      ],
      "metadata": {
        "id": "rR_-JHGjjj7d"
      }
    },
    {
      "cell_type": "code",
      "source": [
        "print(json)"
      ],
      "metadata": {
        "colab": {
          "base_uri": "https://localhost:8080/"
        },
        "id": "oloZO5Mhd8Qi",
        "outputId": "755ed411-adfc-46fa-d598-bc170965a815"
      },
      "execution_count": null,
      "outputs": [
        {
          "output_type": "stream",
          "name": "stdout",
          "text": [
            "[{'country': 'United Kingdom', 'web_pages': ['https://futureworks.ac.uk/'], 'name': 'Futureworks', 'state-province': None, 'alpha_two_code': 'GB', 'domains': ['futureworks.ac.uk']}, {'country': 'United Kingdom', 'web_pages': ['https://www.arts.ac.uk'], 'name': 'University of the Arts London', 'state-province': None, 'alpha_two_code': 'GB', 'domains': ['arts.ac.uk']}, {'country': 'United Kingdom', 'web_pages': ['http://www.abdn.ac.uk/'], 'name': 'University of Aberdeen', 'state-province': None, 'alpha_two_code': 'GB', 'domains': ['abdn.ac.uk', 'aberdeen.ac.uk']}, {'country': 'United Kingdom', 'web_pages': ['http://www.aber.ac.uk/'], 'name': 'University of Wales, Aberystwyth', 'state-province': None, 'alpha_two_code': 'GB', 'domains': ['aber.ac.uk']}, {'country': 'United Kingdom', 'web_pages': ['http://www.abertay.ac.uk/'], 'name': 'University of Abertay Dundee', 'state-province': None, 'alpha_two_code': 'GB', 'domains': ['abertay.ac.uk']}, {'country': 'United Kingdom', 'web_pages': ['http://www.aiuniv.edu/'], 'name': 'American InterContinental University - London', 'state-province': None, 'alpha_two_code': 'GB', 'domains': ['aiuniv.edu']}, {'country': 'United Kingdom', 'web_pages': ['http://www.aku.edu/'], 'name': 'Aga Khan University', 'state-province': None, 'alpha_two_code': 'GB', 'domains': ['aku.edu']}, {'country': 'United Kingdom', 'web_pages': ['http://www.anglia.ac.uk/'], 'name': 'Anglia Ruskin University', 'state-province': None, 'alpha_two_code': 'GB', 'domains': ['anglia.ac.uk']}, {'country': 'United Kingdom', 'web_pages': ['http://www.aston.ac.uk/'], 'name': 'Aston University', 'state-province': None, 'alpha_two_code': 'GB', 'domains': ['aston.ac.uk']}, {'country': 'United Kingdom', 'web_pages': ['http://www.aul.edu/'], 'name': 'The American University in London', 'state-province': None, 'alpha_two_code': 'GB', 'domains': ['aul.edu']}, {'country': 'United Kingdom', 'web_pages': ['http://www.bangor.ac.uk/'], 'name': 'University of Wales, Bangor', 'state-province': None, 'alpha_two_code': 'GB', 'domains': ['bangor.ac.uk']}, {'country': 'United Kingdom', 'web_pages': ['http://www.bath.ac.uk/'], 'name': 'University of Bath', 'state-province': None, 'alpha_two_code': 'GB', 'domains': ['bath.ac.uk']}, {'country': 'United Kingdom', 'web_pages': ['https://www.bathspa.ac.uk/'], 'name': 'Bath Spa University', 'state-province': None, 'alpha_two_code': 'GB', 'domains': ['bathspa.ac.uk']}, {'country': 'United Kingdom', 'web_pages': ['http://www.bbk.ac.uk/'], 'name': 'Birkbeck College, University of London', 'state-province': None, 'alpha_two_code': 'GB', 'domains': ['bbk.ac.uk']}, {'country': 'United Kingdom', 'web_pages': ['http://www.bcom.ac.uk/'], 'name': 'British College of Osteopathic Medicine', 'state-province': None, 'alpha_two_code': 'GB', 'domains': ['bcom.ac.uk']}, {'country': 'United Kingdom', 'web_pages': ['http://www.bcu.ac.uk/'], 'name': 'Birmingham City University', 'state-province': None, 'alpha_two_code': 'GB', 'domains': ['bcu.ac.uk']}, {'country': 'United Kingdom', 'web_pages': ['http://www.beds.ac.uk/'], 'name': 'University of Bedfordshire', 'state-province': None, 'alpha_two_code': 'GB', 'domains': ['beds.ac.uk']}, {'country': 'United Kingdom', 'web_pages': ['http://www.bham.ac.uk/'], 'name': 'University of Birmingham', 'state-province': None, 'alpha_two_code': 'GB', 'domains': ['bham.ac.uk']}, {'country': 'United Kingdom', 'web_pages': ['http://www.bolton.ac.uk/'], 'name': 'University of Bolton', 'state-province': None, 'alpha_two_code': 'GB', 'domains': ['bolton.ac.uk']}, {'country': 'United Kingdom', 'web_pages': ['http://www.bournemouth.ac.uk/'], 'name': 'Bournemouth University', 'state-province': None, 'alpha_two_code': 'GB', 'domains': ['bournemouth.ac.uk']}, {'country': 'United Kingdom', 'web_pages': ['http://www.brad.ac.uk/'], 'name': 'University of Bradford', 'state-province': None, 'alpha_two_code': 'GB', 'domains': ['brad.ac.uk']}, {'country': 'United Kingdom', 'web_pages': ['http://www.brijnet.org/lsjs/'], 'name': 'London School of Jewish Studies', 'state-province': None, 'alpha_two_code': 'GB', 'domains': ['brijnet.org']}, {'country': 'United Kingdom', 'web_pages': ['http://www.bris.ac.uk/'], 'name': 'University of Bristol', 'state-province': None, 'alpha_two_code': 'GB', 'domains': ['bris.ac.uk']}, {'country': 'United Kingdom', 'web_pages': ['http://www.brookes.ac.uk/'], 'name': 'Oxford Brookes University', 'state-province': None, 'alpha_two_code': 'GB', 'domains': ['brookes.ac.uk']}, {'country': 'United Kingdom', 'web_pages': ['http://www.brunel.ac.uk/'], 'name': 'Brunel University Uxbridge', 'state-province': None, 'alpha_two_code': 'GB', 'domains': ['brunel.ac.uk']}, {'country': 'United Kingdom', 'web_pages': ['http://www.bton.ac.uk/'], 'name': 'University of Brighton', 'state-province': None, 'alpha_two_code': 'GB', 'domains': ['bton.ac.uk']}, {'country': 'United Kingdom', 'web_pages': ['http://www.buck.ac.uk/'], 'name': 'University of Buckingham', 'state-province': None, 'alpha_two_code': 'GB', 'domains': ['buck.ac.uk']}, {'country': 'United Kingdom', 'web_pages': ['http://www.bucks.ac.uk/'], 'name': 'Buckinghamshire New University', 'state-province': None, 'alpha_two_code': 'GB', 'domains': ['bucks.ac.uk']}, {'country': 'United Kingdom', 'web_pages': ['http://www.cam.ac.uk/'], 'name': 'University of Cambridge', 'state-province': None, 'alpha_two_code': 'GB', 'domains': ['cam.ac.uk']}, {'country': 'United Kingdom', 'web_pages': ['http://www.camb.linst.ac.uk/'], 'name': 'Camberwell College of Arts', 'state-province': None, 'alpha_two_code': 'GB', 'domains': ['camb.linst.ac.uk']}, {'country': 'United Kingdom', 'web_pages': ['http://www.canterbury.ac.uk/'], 'name': 'Canterbury Christ Church University', 'state-province': None, 'alpha_two_code': 'GB', 'domains': ['canterbury.ac.uk']}, {'country': 'United Kingdom', 'web_pages': ['http://www.cardiff.ac.uk/'], 'name': 'Cardiff University', 'state-province': None, 'alpha_two_code': 'GB', 'domains': ['cardiff.ac.uk', 'cf.ac.uk']}, {'country': 'United Kingdom', 'web_pages': ['http://www.chelsea.linst.ac.uk/'], 'name': 'Chelsea College of Art and Design', 'state-province': None, 'alpha_two_code': 'GB', 'domains': ['chelsea.linst.ac.uk']}, {'country': 'United Kingdom', 'web_pages': ['http://www.chester.ac.uk/'], 'name': 'University of Chester', 'state-province': None, 'alpha_two_code': 'GB', 'domains': ['chester.ac.uk']}, {'country': 'United Kingdom', 'web_pages': ['http://www.city.ac.uk/'], 'name': 'City University', 'state-province': None, 'alpha_two_code': 'GB', 'domains': ['city.ac.uk']}, {'country': 'United Kingdom', 'web_pages': ['http://www.courtauld.ac.uk/'], 'name': 'Courtauld Institute of Art, University of London', 'state-province': None, 'alpha_two_code': 'GB', 'domains': ['courtauld.ac.uk']}, {'country': 'United Kingdom', 'web_pages': ['http://www.coventry.ac.uk/'], 'name': 'Coventry University', 'state-province': None, 'alpha_two_code': 'GB', 'domains': ['coventry.ac.uk']}, {'country': 'United Kingdom', 'web_pages': ['http://www.cranfield.ac.uk/'], 'name': 'Cranfield University', 'state-province': None, 'alpha_two_code': 'GB', 'domains': ['cranfield.ac.uk']}, {'country': 'United Kingdom', 'web_pages': ['http://www.csm.linst.ac.uk/'], 'name': 'Central Saint Martins College of Art & Design', 'state-province': None, 'alpha_two_code': 'GB', 'domains': ['csm.linst.ac.uk']}, {'country': 'United Kingdom', 'web_pages': ['http://www.derby.ac.uk/'], 'name': 'University of Derby', 'state-province': None, 'alpha_two_code': 'GB', 'domains': ['derby.ac.uk']}, {'country': 'United Kingdom', 'web_pages': ['http://www.dmu.ac.uk/'], 'name': 'De Montfort University Leicester', 'state-province': None, 'alpha_two_code': 'GB', 'domains': ['dmu.ac.uk']}, {'country': 'United Kingdom', 'web_pages': ['http://www.dundee.ac.uk/'], 'name': 'University of Dundee', 'state-province': None, 'alpha_two_code': 'GB', 'domains': ['dundee.ac.uk']}, {'country': 'United Kingdom', 'web_pages': ['http://www.dur.ac.uk/'], 'name': 'University of Durham', 'state-province': None, 'alpha_two_code': 'GB', 'domains': ['dur.ac.uk']}, {'country': 'United Kingdom', 'web_pages': ['http://www.edgehill.ac.uk/'], 'name': 'Edge Hill University', 'state-province': None, 'alpha_two_code': 'GB', 'domains': ['edgehill.ac.uk']}, {'country': 'United Kingdom', 'web_pages': ['http://www.ed.ac.uk/'], 'name': 'University of Edinburgh', 'state-province': None, 'alpha_two_code': 'GB', 'domains': ['ed.ac.uk']}, {'country': 'United Kingdom', 'web_pages': ['http://www.eselondon.ac.uk/'], 'name': 'European School of Economics', 'state-province': None, 'alpha_two_code': 'GB', 'domains': ['eselondon.ac.uk']}, {'country': 'United Kingdom', 'web_pages': ['http://www.essex.ac.uk/'], 'name': 'University of Essex', 'state-province': None, 'alpha_two_code': 'GB', 'domains': ['essex.ac.uk', 'sx.ac.uk']}, {'country': 'United Kingdom', 'web_pages': ['http://www.ex.ac.uk/'], 'name': 'University of Exeter', 'state-province': None, 'alpha_two_code': 'GB', 'domains': ['ex.ac.uk']}, {'country': 'United Kingdom', 'web_pages': ['http://www.falmouth.ac.uk/'], 'name': 'Falmouth University', 'state-province': None, 'alpha_two_code': 'GB', 'domains': ['falmouth.ac.uk']}, {'country': 'United Kingdom', 'web_pages': ['http://www.gcal.ac.uk/'], 'name': 'Glasgow Caledonian University', 'state-province': None, 'alpha_two_code': 'GB', 'domains': ['gcal.ac.uk', 'gcu.ac.uk']}, {'country': 'United Kingdom', 'web_pages': ['http://www.gla.ac.uk/'], 'name': 'University of Glasgow', 'state-province': None, 'alpha_two_code': 'GB', 'domains': ['gla.ac.uk']}, {'country': 'United Kingdom', 'web_pages': ['http://www.glam.ac.uk/'], 'name': 'University of Glamorgan', 'state-province': None, 'alpha_two_code': 'GB', 'domains': ['glam.ac.uk']}, {'country': 'United Kingdom', 'web_pages': ['http://www.glos.ac.uk/'], 'name': 'University of Gloucestershire', 'state-province': None, 'alpha_two_code': 'GB', 'domains': ['glos.ac.uk']}, {'country': 'United Kingdom', 'web_pages': ['http://www.gold.ac.uk/'], 'name': 'Goldsmiths College, University of London', 'state-province': None, 'alpha_two_code': 'GB', 'domains': ['gold.ac.uk']}, {'country': 'United Kingdom', 'web_pages': ['http://www.gre.ac.uk/'], 'name': 'University of Greenwich', 'state-province': None, 'alpha_two_code': 'GB', 'domains': ['gre.ac.uk']}, {'country': 'United Kingdom', 'web_pages': ['http://www.gsa.ac.uk/'], 'name': 'Glasgow School of Art', 'state-province': None, 'alpha_two_code': 'GB', 'domains': ['gsa.ac.uk', 'student.gsa.ac.uk']}, {'country': 'United Kingdom', 'web_pages': ['http://www.halifaxuni.ac/'], 'name': 'University of Halifax, Birmingham Campus', 'state-province': None, 'alpha_two_code': 'GB', 'domains': ['halifaxuni.ac']}, {'country': 'United Kingdom', 'web_pages': ['http://www.herts.ac.uk/'], 'name': 'University of Hertfordshire', 'state-province': None, 'alpha_two_code': 'GB', 'domains': ['herts.ac.uk']}, {'country': 'United Kingdom', 'web_pages': ['http://www.heythrop.ac.uk/'], 'name': 'Heythrop College, University of London', 'state-province': None, 'alpha_two_code': 'GB', 'domains': ['heythrop.ac.uk']}, {'country': 'United Kingdom', 'web_pages': ['http://www.hope.ac.uk/'], 'name': 'Liverpool Hope University College', 'state-province': None, 'alpha_two_code': 'GB', 'domains': ['hope.ac.uk']}, {'country': 'United Kingdom', 'web_pages': ['http://www.hud.ac.uk/'], 'name': 'University of Huddersfield', 'state-province': None, 'alpha_two_code': 'GB', 'domains': ['hud.ac.uk']}, {'country': 'United Kingdom', 'web_pages': ['http://www.hull.ac.uk/'], 'name': 'University of Hull', 'state-province': None, 'alpha_two_code': 'GB', 'domains': ['hull.ac.uk']}, {'country': 'United Kingdom', 'web_pages': ['http://www.huron.ac.uk/'], 'name': 'Huron University USA in London', 'state-province': None, 'alpha_two_code': 'GB', 'domains': ['huron.ac.uk']}, {'country': 'United Kingdom', 'web_pages': ['http://www.hw.ac.uk/'], 'name': 'Heriot-Watt University', 'state-province': None, 'alpha_two_code': 'GB', 'domains': ['hw.ac.uk']}, {'country': 'United Kingdom', 'web_pages': ['http://www.imperial.ac.uk/'], 'name': 'Imperial College London', 'state-province': None, 'alpha_two_code': 'GB', 'domains': ['imperial.ac.uk', 'ic.ac.uk']}, {'country': 'United Kingdom', 'web_pages': ['http://www.ifslearning.ac.uk/'], 'name': 'ifs University College', 'state-province': None, 'alpha_two_code': 'GB', 'domains': ['ifslearning.ac.uk']}, {'country': 'United Kingdom', 'web_pages': ['http://ihr.sas.ac.uk/'], 'name': 'Institue of Historical Research, University of London', 'state-province': None, 'alpha_two_code': 'GB', 'domains': ['ihr.sas.ac.uk']}, {'country': 'United Kingdom', 'web_pages': ['http://www.ihr.sas.ac.uk/ics/'], 'name': 'Institute of Commonwealth Studies, University of London', 'state-province': None, 'alpha_two_code': 'GB', 'domains': ['ihr.sas.ac.uk']}, {'country': 'United Kingdom', 'web_pages': ['http://www.ioe.ac.uk/'], 'name': 'Institute of Education, University of London', 'state-province': None, 'alpha_two_code': 'GB', 'domains': ['ioe.ac.uk']}, {'country': 'United Kingdom', 'web_pages': ['http://www.islamiccolleges.com/'], 'name': 'International Colleges of Islamic Science', 'state-province': None, 'alpha_two_code': 'GB', 'domains': ['islamiccolleges.com']}, {'country': 'United Kingdom', 'web_pages': ['http://www.kcl.ac.uk/'], 'name': \"King's College London, University of London\", 'state-province': None, 'alpha_two_code': 'GB', 'domains': ['kcl.ac.uk']}, {'country': 'United Kingdom', 'web_pages': ['http://www.keele.ac.uk/'], 'name': 'Keele University', 'state-province': None, 'alpha_two_code': 'GB', 'domains': ['keele.ac.uk']}, {'country': 'United Kingdom', 'web_pages': ['http://www.kingston.ac.uk/'], 'name': 'Kingston University', 'state-province': None, 'alpha_two_code': 'GB', 'domains': ['kingston.ac.uk']}, {'country': 'United Kingdom', 'web_pages': ['http://www.kolieh.com/'], 'name': 'International Centre for Isclamic Science', 'state-province': None, 'alpha_two_code': 'GB', 'domains': ['kolieh.com']}, {'country': 'United Kingdom', 'web_pages': ['http://www.lamp.ac.uk/'], 'name': 'University of Wales, Lampeter', 'state-province': None, 'alpha_two_code': 'GB', 'domains': ['lamp.ac.uk']}, {'country': 'United Kingdom', 'web_pages': ['http://www.lancs.ac.uk/'], 'name': 'University of Lancaster', 'state-province': None, 'alpha_two_code': 'GB', 'domains': ['lancs.ac.uk']}, {'country': 'United Kingdom', 'web_pages': ['http://www.lboro.ac.uk/'], 'name': 'Loughborough University', 'state-province': None, 'alpha_two_code': 'GB', 'domains': ['lboro.ac.uk', 'student.lboro.ac.uk']}, {'country': 'United Kingdom', 'web_pages': ['http://www.lbs.lon.ac.uk/'], 'name': 'London Business School', 'state-province': None, 'alpha_two_code': 'GB', 'domains': ['lbs.lon.ac.uk']}, {'country': 'United Kingdom', 'web_pages': ['http://www.lcst.ac/'], 'name': 'London College of Science & Technology', 'state-province': None, 'alpha_two_code': 'GB', 'domains': ['lcst.ac']}, {'country': 'United Kingdom', 'web_pages': ['http://www.le.ac.uk/'], 'name': 'University of Leicester', 'state-province': None, 'alpha_two_code': 'GB', 'domains': ['le.ac.uk']}, {'country': 'United Kingdom', 'web_pages': ['http://www.leeds.ac.uk/'], 'name': 'University of Leeds', 'state-province': None, 'alpha_two_code': 'GB', 'domains': ['leeds.ac.uk']}, {'country': 'United Kingdom', 'web_pages': ['http://www.lgu.ac.uk/'], 'name': 'London Guildhall University', 'state-province': None, 'alpha_two_code': 'GB', 'domains': ['lgu.ac.uk']}, {'country': 'United Kingdom', 'web_pages': ['http://www.limt.co.uk/'], 'name': 'London Institute of Management and Technology', 'state-province': None, 'alpha_two_code': 'GB', 'domains': ['limt.co.uk']}, {'country': 'United Kingdom', 'web_pages': ['http://www.lincoln.ac.uk/'], 'name': 'University of Lincoln', 'state-province': None, 'alpha_two_code': 'GB', 'domains': ['lincoln.ac.uk']}, {'country': 'United Kingdom', 'web_pages': ['http://www.liv.ac.uk/'], 'name': 'University of Liverpool', 'state-province': None, 'alpha_two_code': 'GB', 'domains': ['liv.ac.uk']}, {'country': 'United Kingdom', 'web_pages': ['https://www.ljmu.ac.uk/'], 'name': 'Liverpool John Moores University', 'state-province': None, 'alpha_two_code': 'GB', 'domains': ['ljmu.ac.uk']}, {'country': 'United Kingdom', 'web_pages': ['http://www.lmu.ac.uk/'], 'name': 'Leeds Metropolitan University', 'state-province': None, 'alpha_two_code': 'GB', 'domains': ['lmu.ac.uk']}, {'country': 'United Kingdom', 'web_pages': ['http://www.lon.ac.uk/'], 'name': 'University of London', 'state-province': None, 'alpha_two_code': 'GB', 'domains': ['lon.ac.uk']}, {'country': 'United Kingdom', 'web_pages': ['http://www.londonmet.ac.uk/'], 'name': 'London Metropolitan University', 'state-province': None, 'alpha_two_code': 'GB', 'domains': ['londonmet.ac.uk']}, {'country': 'United Kingdom', 'web_pages': ['http://www.lsbf.org.uk/'], 'name': 'London School of Business & Finance', 'state-province': None, 'alpha_two_code': 'GB', 'domains': ['lsbf.org.uk']}, {'country': 'United Kingdom', 'web_pages': ['http://www.lse.ac.uk/'], 'name': 'London School of Economics and Political Science, University of London', 'state-province': None, 'alpha_two_code': 'GB', 'domains': ['lse.ac.uk']}, {'country': 'United Kingdom', 'web_pages': ['http://www.lshtm.ac.uk/'], 'name': 'London School of Hygiene & Tropical Medicine, University of London', 'state-province': None, 'alpha_two_code': 'GB', 'domains': ['lshtm.ac.uk']}, {'country': 'United Kingdom', 'web_pages': ['http://www.manchester.ac.uk/'], 'name': 'University of Manchester', 'state-province': None, 'alpha_two_code': 'GB', 'domains': ['manchester.ac.uk', 'mbs.ac.uk', 'man.ac.uk']}, {'country': 'United Kingdom', 'web_pages': ['http://www.mdx.ac.uk/'], 'name': 'Middlesex University', 'state-province': None, 'alpha_two_code': 'GB', 'domains': ['mdx.ac.uk']}, {'country': 'United Kingdom', 'web_pages': ['http://www.med.ic.ac.uk/'], 'name': 'Imperial College School of Medicine', 'state-province': None, 'alpha_two_code': 'GB', 'domains': ['med.ic.ac.uk']}, {'country': 'United Kingdom', 'web_pages': ['http://www.mmu.ac.uk/'], 'name': 'The Manchester Metropolitan University', 'state-province': None, 'alpha_two_code': 'GB', 'domains': ['mmu.ac.uk']}, {'country': 'United Kingdom', 'web_pages': ['http://www.napier.ac.uk/'], 'name': 'Napier University', 'state-province': None, 'alpha_two_code': 'GB', 'domains': ['napier.ac.uk']}, {'country': 'United Kingdom', 'web_pages': ['http://www.ncl.ac.uk/'], 'name': 'University of Newcastle-upon-Tyne', 'state-province': None, 'alpha_two_code': 'GB', 'domains': ['ncl.ac.uk']}, {'country': 'United Kingdom', 'web_pages': ['http://www.newport.ac.uk/'], 'name': 'University of Wales, Newport', 'state-province': None, 'alpha_two_code': 'GB', 'domains': ['newport.ac.uk']}, {'country': 'United Kingdom', 'web_pages': ['http://www.niu.org.uk/'], 'name': 'Newport International University', 'state-province': None, 'alpha_two_code': 'GB', 'domains': ['niu.org.uk']}, {'country': 'United Kingdom', 'web_pages': ['http://www.northampton.ac.uk/'], 'name': 'University of Northampton', 'state-province': None, 'alpha_two_code': 'GB', 'domains': ['northampton.ac.uk']}, {'country': 'United Kingdom', 'web_pages': ['http://www.nottingham.ac.uk/'], 'name': 'University of Nottingham', 'state-province': None, 'alpha_two_code': 'GB', 'domains': ['nottingham.ac.uk']}, {'country': 'United Kingdom', 'web_pages': ['http://www.ntu.ac.uk/'], 'name': 'Nottingham Trent University', 'state-province': None, 'alpha_two_code': 'GB', 'domains': ['ntu.ac.uk']}, {'country': 'United Kingdom', 'web_pages': ['http://www.open.ac.uk/'], 'name': 'Open University', 'state-province': None, 'alpha_two_code': 'GB', 'domains': ['open.ac.uk']}, {'country': 'United Kingdom', 'web_pages': ['http://www.ox.ac.uk/'], 'name': 'University of Oxford', 'state-province': None, 'alpha_two_code': 'GB', 'domains': ['oxford.ac.uk', 'ox.ac.uk']}, {'country': 'United Kingdom', 'web_pages': ['http://www.paisley.ac.uk/'], 'name': 'University of Paisley', 'state-province': None, 'alpha_two_code': 'GB', 'domains': ['paisley.ac.uk']}, {'country': 'United Kingdom', 'web_pages': ['http://www.plymouth.ac.uk/'], 'name': 'University of Plymouth', 'state-province': None, 'alpha_two_code': 'GB', 'domains': ['plymouth.ac.uk']}, {'country': 'United Kingdom', 'web_pages': ['http://www.port.ac.uk/'], 'name': 'University of Portsmouth', 'state-province': None, 'alpha_two_code': 'GB', 'domains': ['port.ac.uk']}, {'country': 'United Kingdom', 'web_pages': ['http://www.qmul.ac.uk/'], 'name': 'Queen Mary, University of London', 'state-province': None, 'alpha_two_code': 'GB', 'domains': ['qmw.ac.uk', 'qmul.ac.uk']}, {'country': 'United Kingdom', 'web_pages': ['http://www.qub.ac.uk/'], 'name': \"The Queen's University Belfast\", 'state-province': None, 'alpha_two_code': 'GB', 'domains': ['qub.ac.uk']}, {'country': 'United Kingdom', 'web_pages': ['http://www.ram.ac.uk/'], 'name': 'Royal Academy of Music, University of London', 'state-province': None, 'alpha_two_code': 'GB', 'domains': ['ram.ac.uk']}, {'country': 'United Kingdom', 'web_pages': ['http://www.rca.ac.uk/'], 'name': 'Royal College of Art', 'state-province': None, 'alpha_two_code': 'GB', 'domains': ['rca.ac.uk', 'network.rca.ac.uk']}, {'country': 'United Kingdom', 'web_pages': ['http://www.rcm.ac.uk/'], 'name': 'Royal College of Music, University of London', 'state-province': None, 'alpha_two_code': 'GB', 'domains': ['rcm.ac.uk']}, {'country': 'United Kingdom', 'web_pages': ['http://www.rdg.ac.uk/'], 'name': 'University of Reading', 'state-province': None, 'alpha_two_code': 'GB', 'domains': ['rdg.ac.uk']}, {'country': 'United Kingdom', 'web_pages': ['http://www.rfhsm.ac.uk/'], 'name': 'Royal Free Hospital School of Medicine, University of London', 'state-province': None, 'alpha_two_code': 'GB', 'domains': ['rfhsm.ac.uk']}, {'country': 'United Kingdom', 'web_pages': ['http://www.rgu.ac.uk/'], 'name': 'The Robert Gordon University', 'state-province': None, 'alpha_two_code': 'GB', 'domains': ['rgu.ac.uk']}, {'country': 'United Kingdom', 'web_pages': ['http://www.royalholloway.ac.uk/'], 'name': 'Royal Holloway and Bedford New College', 'state-province': None, 'alpha_two_code': 'GB', 'domains': ['royalholloway.ac.uk', 'rhbnc.ac.uk', 'rh.ac.uk']}, {'country': 'United Kingdom', 'web_pages': ['http://www.richmond.ac.uk/'], 'name': 'Richmond University - The American International University in London', 'state-province': None, 'alpha_two_code': 'GB', 'domains': ['richmond.ac.uk']}, {'country': 'United Kingdom', 'web_pages': ['http://www.roehampton.ac.uk/'], 'name': 'Roehampton University of Surrey', 'state-province': None, 'alpha_two_code': 'GB', 'domains': ['roehampton.ac.uk']}, {'country': 'United Kingdom', 'web_pages': ['http://www.salford.ac.uk/'], 'name': 'University of Salford', 'state-province': None, 'alpha_two_code': 'GB', 'domains': ['salford.ac.uk']}, {'country': 'United Kingdom', 'web_pages': ['http://www.sas.ac.uk/ials/'], 'name': 'Institute of Advanced Legal Studies, University of London', 'state-province': None, 'alpha_two_code': 'GB', 'domains': ['sas.ac.uk']}, {'country': 'United Kingdom', 'web_pages': ['http://www.sas.ac.uk/icls/'], 'name': 'Institute of Classical Studies, University of London', 'state-province': None, 'alpha_two_code': 'GB', 'domains': ['sas.ac.uk']}, {'country': 'United Kingdom', 'web_pages': ['http://www.sas.ac.uk/igs/'], 'name': 'Institute of Germanic Studies, University of London', 'state-province': None, 'alpha_two_code': 'GB', 'domains': ['sas.ac.uk']}, {'country': 'United Kingdom', 'web_pages': ['http://www.sas.ac.uk/ilas/'], 'name': 'Institute of Latin American Studies, University of London', 'state-province': None, 'alpha_two_code': 'GB', 'domains': ['sas.ac.uk']}, {'country': 'United Kingdom', 'web_pages': ['http://www.sas.ac.uk/warburg/'], 'name': 'Warburg Institute, University of London', 'state-province': None, 'alpha_two_code': 'GB', 'domains': ['sas.ac.uk']}, {'country': 'United Kingdom', 'web_pages': ['http://www.sbu.ac.uk/'], 'name': 'South Bank University', 'state-province': None, 'alpha_two_code': 'GB', 'domains': ['sbu.ac.uk']}, {'country': 'United Kingdom', 'web_pages': ['http://www.schillerlondon.ac.uk/'], 'name': 'Schiller International University, London', 'state-province': None, 'alpha_two_code': 'GB', 'domains': ['schillerlondon.ac.uk']}, {'country': 'United Kingdom', 'web_pages': ['http://www.sclondon.ac/'], 'name': 'Stratford College London', 'state-province': None, 'alpha_two_code': 'GB', 'domains': ['sclondon.ac']}, {'country': 'United Kingdom', 'web_pages': ['http://www.sghms.ac.uk/'], 'name': \"Saint George's Hospital Medical School, University of London\", 'state-province': None, 'alpha_two_code': 'GB', 'domains': ['sghms.ac.uk']}, {'country': 'United Kingdom', 'web_pages': ['http://www.shef.ac.uk/'], 'name': 'University of Sheffield', 'state-province': None, 'alpha_two_code': 'GB', 'domains': ['shef.ac.uk', 'sheffield.ac.uk']}, {'country': 'United Kingdom', 'web_pages': ['http://www.shu.ac.uk/'], 'name': 'Sheffield Hallam University', 'state-province': None, 'alpha_two_code': 'GB', 'domains': ['shu.ac.uk']}, {'country': 'United Kingdom', 'web_pages': ['http://www.smu.ac.uk/'], 'name': 'Swansea Metropolitan University', 'state-province': None, 'alpha_two_code': 'GB', 'domains': ['smu.ac.uk']}, {'country': 'United Kingdom', 'web_pages': ['http://www.soas.ac.uk/'], 'name': 'School of Oriental and African Studies, University of London', 'state-province': None, 'alpha_two_code': 'GB', 'domains': ['soas.ac.uk']}, {'country': 'United Kingdom', 'web_pages': ['http://www.solent.ac.uk/'], 'name': 'Southampton Solent University', 'state-province': None, 'alpha_two_code': 'GB', 'domains': ['solent.ac.uk']}, {'country': 'United Kingdom', 'web_pages': ['http://www.sothebysinstitutelondon.com/'], 'name': 'Sotheby´s Institute of Art - London', 'state-province': None, 'alpha_two_code': 'GB', 'domains': ['sothebysinstitutelondon.com']}, {'country': 'United Kingdom', 'web_pages': ['http://www.southampton.ac.uk/'], 'name': 'University of Southampton', 'state-province': None, 'alpha_two_code': 'GB', 'domains': ['soton.ac.uk']}, {'country': 'United Kingdom', 'web_pages': ['http://www.ssees.ac.uk/'], 'name': 'School of Slavonic and East European Studies, University of London', 'state-province': None, 'alpha_two_code': 'GB', 'domains': ['ssees.ac.uk']}, {'country': 'United Kingdom', 'web_pages': ['http://www.staffs.ac.uk/'], 'name': 'Staffordshire University', 'state-province': None, 'alpha_two_code': 'GB', 'domains': ['staffs.ac.uk']}, {'country': 'United Kingdom', 'web_pages': ['https://www.st-andrews.ac.uk/'], 'name': 'University of St. Andrews', 'state-province': None, 'alpha_two_code': 'GB', 'domains': ['st-andrews.ac.uk', 'st-and.ac.uk']}, {'country': 'United Kingdom', 'web_pages': ['http://www.stir.ac.uk/'], 'name': 'University of Stirling', 'state-province': None, 'alpha_two_code': 'GB', 'domains': ['stir.ac.uk']}, {'country': 'United Kingdom', 'web_pages': ['http://www.st-patricks.ac.uk/'], 'name': \"St.Patrick's International College, London\", 'state-province': None, 'alpha_two_code': 'GB', 'domains': ['st-patricks.ac.uk']}, {'country': 'United Kingdom', 'web_pages': ['http://www.strath.ac.uk/'], 'name': 'University of Strathclyde', 'state-province': None, 'alpha_two_code': 'GB', 'domains': ['strath.ac.uk']}, {'country': 'United Kingdom', 'web_pages': ['http://www.sunderland.ac.uk/'], 'name': 'University of Sunderland', 'state-province': None, 'alpha_two_code': 'GB', 'domains': ['sunderland.ac.uk']}, {'country': 'United Kingdom', 'web_pages': ['http://www.surrey.ac.uk/'], 'name': 'University of Surrey', 'state-province': None, 'alpha_two_code': 'GB', 'domains': ['surrey.ac.uk']}, {'country': 'United Kingdom', 'web_pages': ['http://www.sussex.ac.uk/'], 'name': 'University of Sussex', 'state-province': None, 'alpha_two_code': 'GB', 'domains': ['sussex.ac.uk']}, {'country': 'United Kingdom', 'web_pages': ['http://www.swan.ac.uk/'], 'name': 'University of Wales, Swansea', 'state-province': None, 'alpha_two_code': 'GB', 'domains': ['swan.ac.uk']}, {'country': 'United Kingdom', 'web_pages': ['http://www.tcm.ac.uk/'], 'name': 'Trinity College of Music', 'state-province': None, 'alpha_two_code': 'GB', 'domains': ['tcm.ac.uk']}, {'country': 'United Kingdom', 'web_pages': ['http://www.tees.ac.uk/'], 'name': 'University of Teesside', 'state-province': None, 'alpha_two_code': 'GB', 'domains': ['tees.ac.uk']}, {'country': 'United Kingdom', 'web_pages': ['http://www.trinity-cm.ac.uk/'], 'name': 'Trinity College Carmarthen', 'state-province': None, 'alpha_two_code': 'GB', 'domains': ['trinity-cm.ac.uk']}, {'country': 'United Kingdom', 'web_pages': ['http://www.tvu.ac.uk/'], 'name': 'Thames Valley University', 'state-province': None, 'alpha_two_code': 'GB', 'domains': ['tvu.ac.uk']}, {'country': 'United Kingdom', 'web_pages': ['http://www.ucl.ac.uk/'], 'name': 'University College London, University of London', 'state-province': None, 'alpha_two_code': 'GB', 'domains': ['ucl.ac.uk']}, {'country': 'United Kingdom', 'web_pages': ['http://www.uclan.ac.uk/'], 'name': 'University of Central Lancashire', 'state-province': None, 'alpha_two_code': 'GB', 'domains': ['uclan.ac.uk']}, {'country': 'United Kingdom', 'web_pages': ['http://www.ucs.ac.uk/'], 'name': 'University Campus Suffolk', 'state-province': None, 'alpha_two_code': 'GB', 'domains': ['ucs.ac.uk']}, {'country': 'United Kingdom', 'web_pages': ['http://www.uea.ac.uk/'], 'name': 'University of East Anglia', 'state-province': None, 'alpha_two_code': 'GB', 'domains': ['uea.ac.uk']}, {'country': 'United Kingdom', 'web_pages': ['http://www.uel.ac.uk/'], 'name': 'University of East London', 'state-province': None, 'alpha_two_code': 'GB', 'domains': ['uel.ac.uk']}, {'country': 'United Kingdom', 'web_pages': ['http://www.ukc.ac.uk/'], 'name': 'University of Kent at Canterbury', 'state-province': None, 'alpha_two_code': 'GB', 'domains': ['ukc.ac.uk']}, {'country': 'United Kingdom', 'web_pages': ['http://www.ulsop.ac.uk/'], 'name': 'School of Pharmacy, University of London', 'state-province': None, 'alpha_two_code': 'GB', 'domains': ['ulsop.ac.uk']}, {'country': 'United Kingdom', 'web_pages': ['http://www.ulst.ac.uk/'], 'name': 'University of Ulster', 'state-province': None, 'alpha_two_code': 'GB', 'domains': ['ulst.ac.uk']}, {'country': 'United Kingdom', 'web_pages': ['http://www.umds.ac.uk/'], 'name': 'United Medical and Dental Schools, University of London', 'state-province': None, 'alpha_two_code': 'GB', 'domains': ['umds.ac.uk']}, {'country': 'United Kingdom', 'web_pages': ['http://www.unl.ac.uk/'], 'name': 'University of North London', 'state-province': None, 'alpha_two_code': 'GB', 'domains': ['unl.ac.uk']}, {'country': 'United Kingdom', 'web_pages': ['http://www.unn.ac.uk/'], 'name': 'University of Northumbria at Newcastle', 'state-province': None, 'alpha_two_code': 'GB', 'domains': ['unn.ac.uk']}, {'country': 'United Kingdom', 'web_pages': ['http://www.uwcm.ac.uk/'], 'name': 'University of Wales College of Medicine', 'state-province': None, 'alpha_two_code': 'GB', 'domains': ['uwcm.ac.uk']}, {'country': 'United Kingdom', 'web_pages': ['http://www.uwe.ac.uk/'], 'name': 'University of the West of England, Bristol', 'state-province': None, 'alpha_two_code': 'GB', 'domains': ['uwe.ac.uk']}, {'country': 'United Kingdom', 'web_pages': ['http://www.uwic.ac.uk/'], 'name': 'University of Wales Institute, Cardiff', 'state-province': None, 'alpha_two_code': 'GB', 'domains': ['uwic.ac.uk']}, {'country': 'United Kingdom', 'web_pages': ['http://www.wales.ac.uk/'], 'name': 'University of Wales', 'state-province': None, 'alpha_two_code': 'GB', 'domains': ['wales.ac.uk']}, {'country': 'United Kingdom', 'web_pages': ['http://www.warnborough.edu/'], 'name': 'Warnborough University', 'state-province': None, 'alpha_two_code': 'GB', 'domains': ['warnborough.edu']}, {'country': 'United Kingdom', 'web_pages': ['http://www.warwick.ac.uk/'], 'name': 'University of Warwick', 'state-province': None, 'alpha_two_code': 'GB', 'domains': ['warwick.ac.uk']}, {'country': 'United Kingdom', 'web_pages': ['http://www.westminster.ac.uk/'], 'name': 'University of Westminster', 'state-province': None, 'alpha_two_code': 'GB', 'domains': ['westminster.ac.uk']}, {'country': 'United Kingdom', 'web_pages': ['http://www.williamgilbert.co.uk/'], 'name': 'William Gilbert College', 'state-province': None, 'alpha_two_code': 'GB', 'domains': ['williamgilbert.co.uk']}, {'country': 'United Kingdom', 'web_pages': ['http://www.wimbledon.ac.uk/'], 'name': 'Wimbledon School of Art', 'state-province': None, 'alpha_two_code': 'GB', 'domains': ['wimbledon.ac.uk']}, {'country': 'United Kingdom', 'web_pages': ['http://www.wlv.ac.uk/'], 'name': 'University of Wolverhampton', 'state-province': None, 'alpha_two_code': 'GB', 'domains': ['wlv.ac.uk']}, {'country': 'United Kingdom', 'web_pages': ['http://www.worc.ac.uk/'], 'name': 'University of Worcester', 'state-province': None, 'alpha_two_code': 'GB', 'domains': ['worc.ac.uk']}, {'country': 'United Kingdom', 'web_pages': ['http://www.york.ac.uk/'], 'name': 'University of York', 'state-province': None, 'alpha_two_code': 'GB', 'domains': ['york.ac.uk']}, {'country': 'United Kingdom', 'web_pages': ['https://www.mbro.ac.uk/'], 'name': 'Middlesbrough College', 'state-province': None, 'alpha_two_code': 'GB', 'domains': ['middlesbro.ac.uk', 'mbro.ac.uk']}, {'country': 'United Kingdom', 'web_pages': ['https://futureworks.ac.uk/'], 'name': 'Futureworks', 'state-province': None, 'alpha_two_code': 'GB', 'domains': ['futureworks.ac.uk']}, {'country': 'United Kingdom', 'web_pages': ['https://www.arts.ac.uk'], 'name': 'University of the Arts London', 'state-province': None, 'alpha_two_code': 'GB', 'domains': ['arts.ac.uk']}, {'country': 'United Kingdom', 'web_pages': ['http://www.abdn.ac.uk/'], 'name': 'University of Aberdeen', 'state-province': None, 'alpha_two_code': 'GB', 'domains': ['abdn.ac.uk', 'aberdeen.ac.uk']}, {'country': 'United Kingdom', 'web_pages': ['http://www.aber.ac.uk/'], 'name': 'University of Wales, Aberystwyth', 'state-province': None, 'alpha_two_code': 'GB', 'domains': ['aber.ac.uk']}, {'country': 'United Kingdom', 'web_pages': ['http://www.abertay.ac.uk/'], 'name': 'University of Abertay Dundee', 'state-province': None, 'alpha_two_code': 'GB', 'domains': ['abertay.ac.uk']}, {'country': 'United Kingdom', 'web_pages': ['http://www.aiuniv.edu/'], 'name': 'American InterContinental University - London', 'state-province': None, 'alpha_two_code': 'GB', 'domains': ['aiuniv.edu']}, {'country': 'United Kingdom', 'web_pages': ['http://www.aku.edu/'], 'name': 'Aga Khan University', 'state-province': None, 'alpha_two_code': 'GB', 'domains': ['aku.edu']}, {'country': 'United Kingdom', 'web_pages': ['http://www.anglia.ac.uk/'], 'name': 'Anglia Ruskin University', 'state-province': None, 'alpha_two_code': 'GB', 'domains': ['anglia.ac.uk']}, {'country': 'United Kingdom', 'web_pages': ['http://www.aston.ac.uk/'], 'name': 'Aston University', 'state-province': None, 'alpha_two_code': 'GB', 'domains': ['aston.ac.uk']}, {'country': 'United Kingdom', 'web_pages': ['http://www.aul.edu/'], 'name': 'The American University in London', 'state-province': None, 'alpha_two_code': 'GB', 'domains': ['aul.edu']}, {'country': 'United Kingdom', 'web_pages': ['http://www.bangor.ac.uk/'], 'name': 'University of Wales, Bangor', 'state-province': None, 'alpha_two_code': 'GB', 'domains': ['bangor.ac.uk']}, {'country': 'United Kingdom', 'web_pages': ['http://www.bath.ac.uk/'], 'name': 'University of Bath', 'state-province': None, 'alpha_two_code': 'GB', 'domains': ['bath.ac.uk']}, {'country': 'United Kingdom', 'web_pages': ['https://www.bathspa.ac.uk/'], 'name': 'Bath Spa University', 'state-province': None, 'alpha_two_code': 'GB', 'domains': ['bathspa.ac.uk']}, {'country': 'United Kingdom', 'web_pages': ['http://www.bbk.ac.uk/'], 'name': 'Birkbeck College, University of London', 'state-province': None, 'alpha_two_code': 'GB', 'domains': ['bbk.ac.uk']}, {'country': 'United Kingdom', 'web_pages': ['http://www.bcom.ac.uk/'], 'name': 'British College of Osteopathic Medicine', 'state-province': None, 'alpha_two_code': 'GB', 'domains': ['bcom.ac.uk']}, {'country': 'United Kingdom', 'web_pages': ['http://www.bcu.ac.uk/'], 'name': 'Birmingham City University', 'state-province': None, 'alpha_two_code': 'GB', 'domains': ['bcu.ac.uk']}, {'country': 'United Kingdom', 'web_pages': ['http://www.beds.ac.uk/'], 'name': 'University of Bedfordshire', 'state-province': None, 'alpha_two_code': 'GB', 'domains': ['beds.ac.uk']}, {'country': 'United Kingdom', 'web_pages': ['http://www.bham.ac.uk/'], 'name': 'University of Birmingham', 'state-province': None, 'alpha_two_code': 'GB', 'domains': ['bham.ac.uk']}, {'country': 'United Kingdom', 'web_pages': ['http://www.bolton.ac.uk/'], 'name': 'University of Bolton', 'state-province': None, 'alpha_two_code': 'GB', 'domains': ['bolton.ac.uk']}, {'country': 'United Kingdom', 'web_pages': ['http://www.bournemouth.ac.uk/'], 'name': 'Bournemouth University', 'state-province': None, 'alpha_two_code': 'GB', 'domains': ['bournemouth.ac.uk']}, {'country': 'United Kingdom', 'web_pages': ['http://www.brad.ac.uk/'], 'name': 'University of Bradford', 'state-province': None, 'alpha_two_code': 'GB', 'domains': ['brad.ac.uk']}, {'country': 'United Kingdom', 'web_pages': ['http://www.brijnet.org/lsjs/'], 'name': 'London School of Jewish Studies', 'state-province': None, 'alpha_two_code': 'GB', 'domains': ['brijnet.org']}, {'country': 'United Kingdom', 'web_pages': ['http://www.bris.ac.uk/'], 'name': 'University of Bristol', 'state-province': None, 'alpha_two_code': 'GB', 'domains': ['bris.ac.uk']}, {'country': 'United Kingdom', 'web_pages': ['http://www.brookes.ac.uk/'], 'name': 'Oxford Brookes University', 'state-province': None, 'alpha_two_code': 'GB', 'domains': ['brookes.ac.uk']}, {'country': 'United Kingdom', 'web_pages': ['http://www.brunel.ac.uk/'], 'name': 'Brunel University Uxbridge', 'state-province': None, 'alpha_two_code': 'GB', 'domains': ['brunel.ac.uk']}, {'country': 'United Kingdom', 'web_pages': ['http://www.bton.ac.uk/'], 'name': 'University of Brighton', 'state-province': None, 'alpha_two_code': 'GB', 'domains': ['bton.ac.uk']}, {'country': 'United Kingdom', 'web_pages': ['http://www.buck.ac.uk/'], 'name': 'University of Buckingham', 'state-province': None, 'alpha_two_code': 'GB', 'domains': ['buck.ac.uk']}, {'country': 'United Kingdom', 'web_pages': ['http://www.bucks.ac.uk/'], 'name': 'Buckinghamshire New University', 'state-province': None, 'alpha_two_code': 'GB', 'domains': ['bucks.ac.uk']}, {'country': 'United Kingdom', 'web_pages': ['http://www.cam.ac.uk/'], 'name': 'University of Cambridge', 'state-province': None, 'alpha_two_code': 'GB', 'domains': ['cam.ac.uk']}, {'country': 'United Kingdom', 'web_pages': ['http://www.camb.linst.ac.uk/'], 'name': 'Camberwell College of Arts', 'state-province': None, 'alpha_two_code': 'GB', 'domains': ['camb.linst.ac.uk']}, {'country': 'United Kingdom', 'web_pages': ['http://www.canterbury.ac.uk/'], 'name': 'Canterbury Christ Church University', 'state-province': None, 'alpha_two_code': 'GB', 'domains': ['canterbury.ac.uk']}, {'country': 'United Kingdom', 'web_pages': ['http://www.cardiff.ac.uk/'], 'name': 'Cardiff University', 'state-province': None, 'alpha_two_code': 'GB', 'domains': ['cardiff.ac.uk', 'cf.ac.uk']}, {'country': 'United Kingdom', 'web_pages': ['http://www.chelsea.linst.ac.uk/'], 'name': 'Chelsea College of Art and Design', 'state-province': None, 'alpha_two_code': 'GB', 'domains': ['chelsea.linst.ac.uk']}, {'country': 'United Kingdom', 'web_pages': ['http://www.chester.ac.uk/'], 'name': 'University of Chester', 'state-province': None, 'alpha_two_code': 'GB', 'domains': ['chester.ac.uk']}, {'country': 'United Kingdom', 'web_pages': ['http://www.city.ac.uk/'], 'name': 'City University', 'state-province': None, 'alpha_two_code': 'GB', 'domains': ['city.ac.uk']}, {'country': 'United Kingdom', 'web_pages': ['http://www.courtauld.ac.uk/'], 'name': 'Courtauld Institute of Art, University of London', 'state-province': None, 'alpha_two_code': 'GB', 'domains': ['courtauld.ac.uk']}, {'country': 'United Kingdom', 'web_pages': ['http://www.coventry.ac.uk/'], 'name': 'Coventry University', 'state-province': None, 'alpha_two_code': 'GB', 'domains': ['coventry.ac.uk']}, {'country': 'United Kingdom', 'web_pages': ['http://www.cranfield.ac.uk/'], 'name': 'Cranfield University', 'state-province': None, 'alpha_two_code': 'GB', 'domains': ['cranfield.ac.uk']}, {'country': 'United Kingdom', 'web_pages': ['http://www.csm.linst.ac.uk/'], 'name': 'Central Saint Martins College of Art & Design', 'state-province': None, 'alpha_two_code': 'GB', 'domains': ['csm.linst.ac.uk']}, {'country': 'United Kingdom', 'web_pages': ['http://www.derby.ac.uk/'], 'name': 'University of Derby', 'state-province': None, 'alpha_two_code': 'GB', 'domains': ['derby.ac.uk']}, {'country': 'United Kingdom', 'web_pages': ['http://www.dmu.ac.uk/'], 'name': 'De Montfort University Leicester', 'state-province': None, 'alpha_two_code': 'GB', 'domains': ['dmu.ac.uk']}, {'country': 'United Kingdom', 'web_pages': ['http://www.dundee.ac.uk/'], 'name': 'University of Dundee', 'state-province': None, 'alpha_two_code': 'GB', 'domains': ['dundee.ac.uk']}, {'country': 'United Kingdom', 'web_pages': ['http://www.dur.ac.uk/'], 'name': 'University of Durham', 'state-province': None, 'alpha_two_code': 'GB', 'domains': ['dur.ac.uk']}, {'country': 'United Kingdom', 'web_pages': ['http://www.edgehill.ac.uk/'], 'name': 'Edge Hill University', 'state-province': None, 'alpha_two_code': 'GB', 'domains': ['edgehill.ac.uk']}, {'country': 'United Kingdom', 'web_pages': ['http://www.ed.ac.uk/'], 'name': 'University of Edinburgh', 'state-province': None, 'alpha_two_code': 'GB', 'domains': ['ed.ac.uk']}, {'country': 'United Kingdom', 'web_pages': ['http://www.eselondon.ac.uk/'], 'name': 'European School of Economics', 'state-province': None, 'alpha_two_code': 'GB', 'domains': ['eselondon.ac.uk']}, {'country': 'United Kingdom', 'web_pages': ['http://www.essex.ac.uk/'], 'name': 'University of Essex', 'state-province': None, 'alpha_two_code': 'GB', 'domains': ['essex.ac.uk', 'sx.ac.uk']}, {'country': 'United Kingdom', 'web_pages': ['http://www.ex.ac.uk/'], 'name': 'University of Exeter', 'state-province': None, 'alpha_two_code': 'GB', 'domains': ['ex.ac.uk']}, {'country': 'United Kingdom', 'web_pages': ['http://www.falmouth.ac.uk/'], 'name': 'Falmouth University', 'state-province': None, 'alpha_two_code': 'GB', 'domains': ['falmouth.ac.uk']}, {'country': 'United Kingdom', 'web_pages': ['http://www.gcal.ac.uk/'], 'name': 'Glasgow Caledonian University', 'state-province': None, 'alpha_two_code': 'GB', 'domains': ['gcal.ac.uk', 'gcu.ac.uk']}, {'country': 'United Kingdom', 'web_pages': ['http://www.gla.ac.uk/'], 'name': 'University of Glasgow', 'state-province': None, 'alpha_two_code': 'GB', 'domains': ['gla.ac.uk']}, {'country': 'United Kingdom', 'web_pages': ['http://www.glam.ac.uk/'], 'name': 'University of Glamorgan', 'state-province': None, 'alpha_two_code': 'GB', 'domains': ['glam.ac.uk']}, {'country': 'United Kingdom', 'web_pages': ['http://www.glos.ac.uk/'], 'name': 'University of Gloucestershire', 'state-province': None, 'alpha_two_code': 'GB', 'domains': ['glos.ac.uk']}, {'country': 'United Kingdom', 'web_pages': ['http://www.gold.ac.uk/'], 'name': 'Goldsmiths College, University of London', 'state-province': None, 'alpha_two_code': 'GB', 'domains': ['gold.ac.uk']}, {'country': 'United Kingdom', 'web_pages': ['http://www.gre.ac.uk/'], 'name': 'University of Greenwich', 'state-province': None, 'alpha_two_code': 'GB', 'domains': ['gre.ac.uk']}, {'country': 'United Kingdom', 'web_pages': ['http://www.gsa.ac.uk/'], 'name': 'Glasgow School of Art', 'state-province': None, 'alpha_two_code': 'GB', 'domains': ['gsa.ac.uk', 'student.gsa.ac.uk']}, {'country': 'United Kingdom', 'web_pages': ['http://www.halifaxuni.ac/'], 'name': 'University of Halifax, Birmingham Campus', 'state-province': None, 'alpha_two_code': 'GB', 'domains': ['halifaxuni.ac']}, {'country': 'United Kingdom', 'web_pages': ['http://www.herts.ac.uk/'], 'name': 'University of Hertfordshire', 'state-province': None, 'alpha_two_code': 'GB', 'domains': ['herts.ac.uk']}, {'country': 'United Kingdom', 'web_pages': ['http://www.heythrop.ac.uk/'], 'name': 'Heythrop College, University of London', 'state-province': None, 'alpha_two_code': 'GB', 'domains': ['heythrop.ac.uk']}, {'country': 'United Kingdom', 'web_pages': ['http://www.hope.ac.uk/'], 'name': 'Liverpool Hope University College', 'state-province': None, 'alpha_two_code': 'GB', 'domains': ['hope.ac.uk']}, {'country': 'United Kingdom', 'web_pages': ['http://www.hud.ac.uk/'], 'name': 'University of Huddersfield', 'state-province': None, 'alpha_two_code': 'GB', 'domains': ['hud.ac.uk']}, {'country': 'United Kingdom', 'web_pages': ['http://www.hull.ac.uk/'], 'name': 'University of Hull', 'state-province': None, 'alpha_two_code': 'GB', 'domains': ['hull.ac.uk']}, {'country': 'United Kingdom', 'web_pages': ['http://www.huron.ac.uk/'], 'name': 'Huron University USA in London', 'state-province': None, 'alpha_two_code': 'GB', 'domains': ['huron.ac.uk']}, {'country': 'United Kingdom', 'web_pages': ['http://www.hw.ac.uk/'], 'name': 'Heriot-Watt University', 'state-province': None, 'alpha_two_code': 'GB', 'domains': ['hw.ac.uk']}, {'country': 'United Kingdom', 'web_pages': ['http://www.imperial.ac.uk/'], 'name': 'Imperial College London', 'state-province': None, 'alpha_two_code': 'GB', 'domains': ['imperial.ac.uk', 'ic.ac.uk']}, {'country': 'United Kingdom', 'web_pages': ['http://www.ifslearning.ac.uk/'], 'name': 'ifs University College', 'state-province': None, 'alpha_two_code': 'GB', 'domains': ['ifslearning.ac.uk']}, {'country': 'United Kingdom', 'web_pages': ['http://ihr.sas.ac.uk/'], 'name': 'Institue of Historical Research, University of London', 'state-province': None, 'alpha_two_code': 'GB', 'domains': ['ihr.sas.ac.uk']}, {'country': 'United Kingdom', 'web_pages': ['http://www.ihr.sas.ac.uk/ics/'], 'name': 'Institute of Commonwealth Studies, University of London', 'state-province': None, 'alpha_two_code': 'GB', 'domains': ['ihr.sas.ac.uk']}, {'country': 'United Kingdom', 'web_pages': ['http://www.ioe.ac.uk/'], 'name': 'Institute of Education, University of London', 'state-province': None, 'alpha_two_code': 'GB', 'domains': ['ioe.ac.uk']}, {'country': 'United Kingdom', 'web_pages': ['http://www.islamiccolleges.com/'], 'name': 'International Colleges of Islamic Science', 'state-province': None, 'alpha_two_code': 'GB', 'domains': ['islamiccolleges.com']}, {'country': 'United Kingdom', 'web_pages': ['http://www.kcl.ac.uk/'], 'name': \"King's College London, University of London\", 'state-province': None, 'alpha_two_code': 'GB', 'domains': ['kcl.ac.uk']}, {'country': 'United Kingdom', 'web_pages': ['http://www.keele.ac.uk/'], 'name': 'Keele University', 'state-province': None, 'alpha_two_code': 'GB', 'domains': ['keele.ac.uk']}, {'country': 'United Kingdom', 'web_pages': ['http://www.kingston.ac.uk/'], 'name': 'Kingston University', 'state-province': None, 'alpha_two_code': 'GB', 'domains': ['kingston.ac.uk']}, {'country': 'United Kingdom', 'web_pages': ['http://www.kolieh.com/'], 'name': 'International Centre for Isclamic Science', 'state-province': None, 'alpha_two_code': 'GB', 'domains': ['kolieh.com']}, {'country': 'United Kingdom', 'web_pages': ['http://www.lamp.ac.uk/'], 'name': 'University of Wales, Lampeter', 'state-province': None, 'alpha_two_code': 'GB', 'domains': ['lamp.ac.uk']}, {'country': 'United Kingdom', 'web_pages': ['http://www.lancs.ac.uk/'], 'name': 'University of Lancaster', 'state-province': None, 'alpha_two_code': 'GB', 'domains': ['lancs.ac.uk']}, {'country': 'United Kingdom', 'web_pages': ['http://www.lboro.ac.uk/'], 'name': 'Loughborough University', 'state-province': None, 'alpha_two_code': 'GB', 'domains': ['lboro.ac.uk', 'student.lboro.ac.uk']}, {'country': 'United Kingdom', 'web_pages': ['http://www.lbs.lon.ac.uk/'], 'name': 'London Business School', 'state-province': None, 'alpha_two_code': 'GB', 'domains': ['lbs.lon.ac.uk']}, {'country': 'United Kingdom', 'web_pages': ['http://www.lcst.ac/'], 'name': 'London College of Science & Technology', 'state-province': None, 'alpha_two_code': 'GB', 'domains': ['lcst.ac']}, {'country': 'United Kingdom', 'web_pages': ['http://www.le.ac.uk/'], 'name': 'University of Leicester', 'state-province': None, 'alpha_two_code': 'GB', 'domains': ['le.ac.uk']}, {'country': 'United Kingdom', 'web_pages': ['http://www.leeds.ac.uk/'], 'name': 'University of Leeds', 'state-province': None, 'alpha_two_code': 'GB', 'domains': ['leeds.ac.uk']}, {'country': 'United Kingdom', 'web_pages': ['http://www.lgu.ac.uk/'], 'name': 'London Guildhall University', 'state-province': None, 'alpha_two_code': 'GB', 'domains': ['lgu.ac.uk']}, {'country': 'United Kingdom', 'web_pages': ['http://www.limt.co.uk/'], 'name': 'London Institute of Management and Technology', 'state-province': None, 'alpha_two_code': 'GB', 'domains': ['limt.co.uk']}, {'country': 'United Kingdom', 'web_pages': ['http://www.lincoln.ac.uk/'], 'name': 'University of Lincoln', 'state-province': None, 'alpha_two_code': 'GB', 'domains': ['lincoln.ac.uk']}, {'country': 'United Kingdom', 'web_pages': ['http://www.liv.ac.uk/'], 'name': 'University of Liverpool', 'state-province': None, 'alpha_two_code': 'GB', 'domains': ['liv.ac.uk']}, {'country': 'United Kingdom', 'web_pages': ['https://www.ljmu.ac.uk/'], 'name': 'Liverpool John Moores University', 'state-province': None, 'alpha_two_code': 'GB', 'domains': ['ljmu.ac.uk']}, {'country': 'United Kingdom', 'web_pages': ['http://www.lmu.ac.uk/'], 'name': 'Leeds Metropolitan University', 'state-province': None, 'alpha_two_code': 'GB', 'domains': ['lmu.ac.uk']}, {'country': 'United Kingdom', 'web_pages': ['http://www.lon.ac.uk/'], 'name': 'University of London', 'state-province': None, 'alpha_two_code': 'GB', 'domains': ['lon.ac.uk']}, {'country': 'United Kingdom', 'web_pages': ['http://www.londonmet.ac.uk/'], 'name': 'London Metropolitan University', 'state-province': None, 'alpha_two_code': 'GB', 'domains': ['londonmet.ac.uk']}, {'country': 'United Kingdom', 'web_pages': ['http://www.lsbf.org.uk/'], 'name': 'London School of Business & Finance', 'state-province': None, 'alpha_two_code': 'GB', 'domains': ['lsbf.org.uk']}, {'country': 'United Kingdom', 'web_pages': ['http://www.lse.ac.uk/'], 'name': 'London School of Economics and Political Science, University of London', 'state-province': None, 'alpha_two_code': 'GB', 'domains': ['lse.ac.uk']}, {'country': 'United Kingdom', 'web_pages': ['http://www.lshtm.ac.uk/'], 'name': 'London School of Hygiene & Tropical Medicine, University of London', 'state-province': None, 'alpha_two_code': 'GB', 'domains': ['lshtm.ac.uk']}, {'country': 'United Kingdom', 'web_pages': ['http://www.manchester.ac.uk/'], 'name': 'University of Manchester', 'state-province': None, 'alpha_two_code': 'GB', 'domains': ['manchester.ac.uk', 'mbs.ac.uk', 'man.ac.uk']}, {'country': 'United Kingdom', 'web_pages': ['http://www.mdx.ac.uk/'], 'name': 'Middlesex University', 'state-province': None, 'alpha_two_code': 'GB', 'domains': ['mdx.ac.uk']}, {'country': 'United Kingdom', 'web_pages': ['http://www.med.ic.ac.uk/'], 'name': 'Imperial College School of Medicine', 'state-province': None, 'alpha_two_code': 'GB', 'domains': ['med.ic.ac.uk']}, {'country': 'United Kingdom', 'web_pages': ['http://www.mmu.ac.uk/'], 'name': 'The Manchester Metropolitan University', 'state-province': None, 'alpha_two_code': 'GB', 'domains': ['mmu.ac.uk']}, {'country': 'United Kingdom', 'web_pages': ['http://www.napier.ac.uk/'], 'name': 'Napier University', 'state-province': None, 'alpha_two_code': 'GB', 'domains': ['napier.ac.uk']}, {'country': 'United Kingdom', 'web_pages': ['http://www.ncl.ac.uk/'], 'name': 'University of Newcastle-upon-Tyne', 'state-province': None, 'alpha_two_code': 'GB', 'domains': ['ncl.ac.uk']}, {'country': 'United Kingdom', 'web_pages': ['http://www.newport.ac.uk/'], 'name': 'University of Wales, Newport', 'state-province': None, 'alpha_two_code': 'GB', 'domains': ['newport.ac.uk']}, {'country': 'United Kingdom', 'web_pages': ['http://www.niu.org.uk/'], 'name': 'Newport International University', 'state-province': None, 'alpha_two_code': 'GB', 'domains': ['niu.org.uk']}, {'country': 'United Kingdom', 'web_pages': ['http://www.northampton.ac.uk/'], 'name': 'University of Northampton', 'state-province': None, 'alpha_two_code': 'GB', 'domains': ['northampton.ac.uk']}, {'country': 'United Kingdom', 'web_pages': ['http://www.nottingham.ac.uk/'], 'name': 'University of Nottingham', 'state-province': None, 'alpha_two_code': 'GB', 'domains': ['nottingham.ac.uk']}, {'country': 'United Kingdom', 'web_pages': ['http://www.ntu.ac.uk/'], 'name': 'Nottingham Trent University', 'state-province': None, 'alpha_two_code': 'GB', 'domains': ['ntu.ac.uk']}, {'country': 'United Kingdom', 'web_pages': ['http://www.open.ac.uk/'], 'name': 'Open University', 'state-province': None, 'alpha_two_code': 'GB', 'domains': ['open.ac.uk']}, {'country': 'United Kingdom', 'web_pages': ['http://www.ox.ac.uk/'], 'name': 'University of Oxford', 'state-province': None, 'alpha_two_code': 'GB', 'domains': ['oxford.ac.uk', 'ox.ac.uk']}, {'country': 'United Kingdom', 'web_pages': ['http://www.paisley.ac.uk/'], 'name': 'University of Paisley', 'state-province': None, 'alpha_two_code': 'GB', 'domains': ['paisley.ac.uk']}, {'country': 'United Kingdom', 'web_pages': ['http://www.plymouth.ac.uk/'], 'name': 'University of Plymouth', 'state-province': None, 'alpha_two_code': 'GB', 'domains': ['plymouth.ac.uk']}, {'country': 'United Kingdom', 'web_pages': ['http://www.port.ac.uk/'], 'name': 'University of Portsmouth', 'state-province': None, 'alpha_two_code': 'GB', 'domains': ['port.ac.uk']}, {'country': 'United Kingdom', 'web_pages': ['http://www.qmul.ac.uk/'], 'name': 'Queen Mary, University of London', 'state-province': None, 'alpha_two_code': 'GB', 'domains': ['qmw.ac.uk', 'qmul.ac.uk']}, {'country': 'United Kingdom', 'web_pages': ['http://www.qub.ac.uk/'], 'name': \"The Queen's University Belfast\", 'state-province': None, 'alpha_two_code': 'GB', 'domains': ['qub.ac.uk']}, {'country': 'United Kingdom', 'web_pages': ['http://www.ram.ac.uk/'], 'name': 'Royal Academy of Music, University of London', 'state-province': None, 'alpha_two_code': 'GB', 'domains': ['ram.ac.uk']}, {'country': 'United Kingdom', 'web_pages': ['http://www.rca.ac.uk/'], 'name': 'Royal College of Art', 'state-province': None, 'alpha_two_code': 'GB', 'domains': ['rca.ac.uk', 'network.rca.ac.uk']}, {'country': 'United Kingdom', 'web_pages': ['http://www.rcm.ac.uk/'], 'name': 'Royal College of Music, University of London', 'state-province': None, 'alpha_two_code': 'GB', 'domains': ['rcm.ac.uk']}, {'country': 'United Kingdom', 'web_pages': ['http://www.rdg.ac.uk/'], 'name': 'University of Reading', 'state-province': None, 'alpha_two_code': 'GB', 'domains': ['rdg.ac.uk']}, {'country': 'United Kingdom', 'web_pages': ['http://www.rfhsm.ac.uk/'], 'name': 'Royal Free Hospital School of Medicine, University of London', 'state-province': None, 'alpha_two_code': 'GB', 'domains': ['rfhsm.ac.uk']}, {'country': 'United Kingdom', 'web_pages': ['http://www.rgu.ac.uk/'], 'name': 'The Robert Gordon University', 'state-province': None, 'alpha_two_code': 'GB', 'domains': ['rgu.ac.uk']}, {'country': 'United Kingdom', 'web_pages': ['http://www.royalholloway.ac.uk/'], 'name': 'Royal Holloway and Bedford New College', 'state-province': None, 'alpha_two_code': 'GB', 'domains': ['royalholloway.ac.uk', 'rhbnc.ac.uk', 'rh.ac.uk']}, {'country': 'United Kingdom', 'web_pages': ['http://www.richmond.ac.uk/'], 'name': 'Richmond University - The American International University in London', 'state-province': None, 'alpha_two_code': 'GB', 'domains': ['richmond.ac.uk']}, {'country': 'United Kingdom', 'web_pages': ['http://www.roehampton.ac.uk/'], 'name': 'Roehampton University of Surrey', 'state-province': None, 'alpha_two_code': 'GB', 'domains': ['roehampton.ac.uk']}, {'country': 'United Kingdom', 'web_pages': ['http://www.salford.ac.uk/'], 'name': 'University of Salford', 'state-province': None, 'alpha_two_code': 'GB', 'domains': ['salford.ac.uk']}, {'country': 'United Kingdom', 'web_pages': ['http://www.sas.ac.uk/ials/'], 'name': 'Institute of Advanced Legal Studies, University of London', 'state-province': None, 'alpha_two_code': 'GB', 'domains': ['sas.ac.uk']}, {'country': 'United Kingdom', 'web_pages': ['http://www.sas.ac.uk/icls/'], 'name': 'Institute of Classical Studies, University of London', 'state-province': None, 'alpha_two_code': 'GB', 'domains': ['sas.ac.uk']}, {'country': 'United Kingdom', 'web_pages': ['http://www.sas.ac.uk/igs/'], 'name': 'Institute of Germanic Studies, University of London', 'state-province': None, 'alpha_two_code': 'GB', 'domains': ['sas.ac.uk']}, {'country': 'United Kingdom', 'web_pages': ['http://www.sas.ac.uk/ilas/'], 'name': 'Institute of Latin American Studies, University of London', 'state-province': None, 'alpha_two_code': 'GB', 'domains': ['sas.ac.uk']}, {'country': 'United Kingdom', 'web_pages': ['http://www.sas.ac.uk/warburg/'], 'name': 'Warburg Institute, University of London', 'state-province': None, 'alpha_two_code': 'GB', 'domains': ['sas.ac.uk']}, {'country': 'United Kingdom', 'web_pages': ['http://www.sbu.ac.uk/'], 'name': 'South Bank University', 'state-province': None, 'alpha_two_code': 'GB', 'domains': ['sbu.ac.uk']}, {'country': 'United Kingdom', 'web_pages': ['http://www.schillerlondon.ac.uk/'], 'name': 'Schiller International University, London', 'state-province': None, 'alpha_two_code': 'GB', 'domains': ['schillerlondon.ac.uk']}, {'country': 'United Kingdom', 'web_pages': ['http://www.sclondon.ac/'], 'name': 'Stratford College London', 'state-province': None, 'alpha_two_code': 'GB', 'domains': ['sclondon.ac']}, {'country': 'United Kingdom', 'web_pages': ['http://www.sghms.ac.uk/'], 'name': \"Saint George's Hospital Medical School, University of London\", 'state-province': None, 'alpha_two_code': 'GB', 'domains': ['sghms.ac.uk']}, {'country': 'United Kingdom', 'web_pages': ['http://www.shef.ac.uk/'], 'name': 'University of Sheffield', 'state-province': None, 'alpha_two_code': 'GB', 'domains': ['shef.ac.uk', 'sheffield.ac.uk']}, {'country': 'United Kingdom', 'web_pages': ['http://www.shu.ac.uk/'], 'name': 'Sheffield Hallam University', 'state-province': None, 'alpha_two_code': 'GB', 'domains': ['shu.ac.uk']}, {'country': 'United Kingdom', 'web_pages': ['http://www.smu.ac.uk/'], 'name': 'Swansea Metropolitan University', 'state-province': None, 'alpha_two_code': 'GB', 'domains': ['smu.ac.uk']}, {'country': 'United Kingdom', 'web_pages': ['http://www.soas.ac.uk/'], 'name': 'School of Oriental and African Studies, University of London', 'state-province': None, 'alpha_two_code': 'GB', 'domains': ['soas.ac.uk']}, {'country': 'United Kingdom', 'web_pages': ['http://www.solent.ac.uk/'], 'name': 'Southampton Solent University', 'state-province': None, 'alpha_two_code': 'GB', 'domains': ['solent.ac.uk']}, {'country': 'United Kingdom', 'web_pages': ['http://www.sothebysinstitutelondon.com/'], 'name': 'Sotheby´s Institute of Art - London', 'state-province': None, 'alpha_two_code': 'GB', 'domains': ['sothebysinstitutelondon.com']}, {'country': 'United Kingdom', 'web_pages': ['http://www.southampton.ac.uk/'], 'name': 'University of Southampton', 'state-province': None, 'alpha_two_code': 'GB', 'domains': ['soton.ac.uk']}, {'country': 'United Kingdom', 'web_pages': ['http://www.ssees.ac.uk/'], 'name': 'School of Slavonic and East European Studies, University of London', 'state-province': None, 'alpha_two_code': 'GB', 'domains': ['ssees.ac.uk']}, {'country': 'United Kingdom', 'web_pages': ['http://www.staffs.ac.uk/'], 'name': 'Staffordshire University', 'state-province': None, 'alpha_two_code': 'GB', 'domains': ['staffs.ac.uk']}, {'country': 'United Kingdom', 'web_pages': ['https://www.st-andrews.ac.uk/'], 'name': 'University of St. Andrews', 'state-province': None, 'alpha_two_code': 'GB', 'domains': ['st-andrews.ac.uk', 'st-and.ac.uk']}, {'country': 'United Kingdom', 'web_pages': ['http://www.stir.ac.uk/'], 'name': 'University of Stirling', 'state-province': None, 'alpha_two_code': 'GB', 'domains': ['stir.ac.uk']}, {'country': 'United Kingdom', 'web_pages': ['http://www.st-patricks.ac.uk/'], 'name': \"St.Patrick's International College, London\", 'state-province': None, 'alpha_two_code': 'GB', 'domains': ['st-patricks.ac.uk']}, {'country': 'United Kingdom', 'web_pages': ['http://www.strath.ac.uk/'], 'name': 'University of Strathclyde', 'state-province': None, 'alpha_two_code': 'GB', 'domains': ['strath.ac.uk']}, {'country': 'United Kingdom', 'web_pages': ['http://www.sunderland.ac.uk/'], 'name': 'University of Sunderland', 'state-province': None, 'alpha_two_code': 'GB', 'domains': ['sunderland.ac.uk']}, {'country': 'United Kingdom', 'web_pages': ['http://www.surrey.ac.uk/'], 'name': 'University of Surrey', 'state-province': None, 'alpha_two_code': 'GB', 'domains': ['surrey.ac.uk']}, {'country': 'United Kingdom', 'web_pages': ['http://www.sussex.ac.uk/'], 'name': 'University of Sussex', 'state-province': None, 'alpha_two_code': 'GB', 'domains': ['sussex.ac.uk']}, {'country': 'United Kingdom', 'web_pages': ['http://www.swan.ac.uk/'], 'name': 'University of Wales, Swansea', 'state-province': None, 'alpha_two_code': 'GB', 'domains': ['swan.ac.uk']}, {'country': 'United Kingdom', 'web_pages': ['http://www.tcm.ac.uk/'], 'name': 'Trinity College of Music', 'state-province': None, 'alpha_two_code': 'GB', 'domains': ['tcm.ac.uk']}, {'country': 'United Kingdom', 'web_pages': ['http://www.tees.ac.uk/'], 'name': 'University of Teesside', 'state-province': None, 'alpha_two_code': 'GB', 'domains': ['tees.ac.uk']}, {'country': 'United Kingdom', 'web_pages': ['http://www.trinity-cm.ac.uk/'], 'name': 'Trinity College Carmarthen', 'state-province': None, 'alpha_two_code': 'GB', 'domains': ['trinity-cm.ac.uk']}, {'country': 'United Kingdom', 'web_pages': ['http://www.tvu.ac.uk/'], 'name': 'Thames Valley University', 'state-province': None, 'alpha_two_code': 'GB', 'domains': ['tvu.ac.uk']}, {'country': 'United Kingdom', 'web_pages': ['http://www.ucl.ac.uk/'], 'name': 'University College London, University of London', 'state-province': None, 'alpha_two_code': 'GB', 'domains': ['ucl.ac.uk']}, {'country': 'United Kingdom', 'web_pages': ['http://www.uclan.ac.uk/'], 'name': 'University of Central Lancashire', 'state-province': None, 'alpha_two_code': 'GB', 'domains': ['uclan.ac.uk']}, {'country': 'United Kingdom', 'web_pages': ['http://www.ucs.ac.uk/'], 'name': 'University Campus Suffolk', 'state-province': None, 'alpha_two_code': 'GB', 'domains': ['ucs.ac.uk']}, {'country': 'United Kingdom', 'web_pages': ['http://www.uea.ac.uk/'], 'name': 'University of East Anglia', 'state-province': None, 'alpha_two_code': 'GB', 'domains': ['uea.ac.uk']}, {'country': 'United Kingdom', 'web_pages': ['http://www.uel.ac.uk/'], 'name': 'University of East London', 'state-province': None, 'alpha_two_code': 'GB', 'domains': ['uel.ac.uk']}, {'country': 'United Kingdom', 'web_pages': ['http://www.ukc.ac.uk/'], 'name': 'University of Kent at Canterbury', 'state-province': None, 'alpha_two_code': 'GB', 'domains': ['ukc.ac.uk']}, {'country': 'United Kingdom', 'web_pages': ['http://www.ulsop.ac.uk/'], 'name': 'School of Pharmacy, University of London', 'state-province': None, 'alpha_two_code': 'GB', 'domains': ['ulsop.ac.uk']}, {'country': 'United Kingdom', 'web_pages': ['http://www.ulst.ac.uk/'], 'name': 'University of Ulster', 'state-province': None, 'alpha_two_code': 'GB', 'domains': ['ulst.ac.uk']}, {'country': 'United Kingdom', 'web_pages': ['http://www.umds.ac.uk/'], 'name': 'United Medical and Dental Schools, University of London', 'state-province': None, 'alpha_two_code': 'GB', 'domains': ['umds.ac.uk']}, {'country': 'United Kingdom', 'web_pages': ['http://www.unl.ac.uk/'], 'name': 'University of North London', 'state-province': None, 'alpha_two_code': 'GB', 'domains': ['unl.ac.uk']}, {'country': 'United Kingdom', 'web_pages': ['http://www.unn.ac.uk/'], 'name': 'University of Northumbria at Newcastle', 'state-province': None, 'alpha_two_code': 'GB', 'domains': ['unn.ac.uk']}, {'country': 'United Kingdom', 'web_pages': ['http://www.uwcm.ac.uk/'], 'name': 'University of Wales College of Medicine', 'state-province': None, 'alpha_two_code': 'GB', 'domains': ['uwcm.ac.uk']}, {'country': 'United Kingdom', 'web_pages': ['http://www.uwe.ac.uk/'], 'name': 'University of the West of England, Bristol', 'state-province': None, 'alpha_two_code': 'GB', 'domains': ['uwe.ac.uk']}, {'country': 'United Kingdom', 'web_pages': ['http://www.uwic.ac.uk/'], 'name': 'University of Wales Institute, Cardiff', 'state-province': None, 'alpha_two_code': 'GB', 'domains': ['uwic.ac.uk']}, {'country': 'United Kingdom', 'web_pages': ['http://www.wales.ac.uk/'], 'name': 'University of Wales', 'state-province': None, 'alpha_two_code': 'GB', 'domains': ['wales.ac.uk']}, {'country': 'United Kingdom', 'web_pages': ['http://www.warnborough.edu/'], 'name': 'Warnborough University', 'state-province': None, 'alpha_two_code': 'GB', 'domains': ['warnborough.edu']}, {'country': 'United Kingdom', 'web_pages': ['http://www.warwick.ac.uk/'], 'name': 'University of Warwick', 'state-province': None, 'alpha_two_code': 'GB', 'domains': ['warwick.ac.uk']}, {'country': 'United Kingdom', 'web_pages': ['http://www.westminster.ac.uk/'], 'name': 'University of Westminster', 'state-province': None, 'alpha_two_code': 'GB', 'domains': ['westminster.ac.uk']}, {'country': 'United Kingdom', 'web_pages': ['http://www.williamgilbert.co.uk/'], 'name': 'William Gilbert College', 'state-province': None, 'alpha_two_code': 'GB', 'domains': ['williamgilbert.co.uk']}, {'country': 'United Kingdom', 'web_pages': ['http://www.wimbledon.ac.uk/'], 'name': 'Wimbledon School of Art', 'state-province': None, 'alpha_two_code': 'GB', 'domains': ['wimbledon.ac.uk']}, {'country': 'United Kingdom', 'web_pages': ['http://www.wlv.ac.uk/'], 'name': 'University of Wolverhampton', 'state-province': None, 'alpha_two_code': 'GB', 'domains': ['wlv.ac.uk']}, {'country': 'United Kingdom', 'web_pages': ['http://www.worc.ac.uk/'], 'name': 'University of Worcester', 'state-province': None, 'alpha_two_code': 'GB', 'domains': ['worc.ac.uk']}, {'country': 'United Kingdom', 'web_pages': ['http://www.york.ac.uk/'], 'name': 'University of York', 'state-province': None, 'alpha_two_code': 'GB', 'domains': ['york.ac.uk']}, {'country': 'United Kingdom', 'web_pages': ['https://www.mbro.ac.uk/'], 'name': 'Middlesbrough College', 'state-province': None, 'alpha_two_code': 'GB', 'domains': ['middlesbro.ac.uk', 'mbro.ac.uk']}]\n"
          ]
        }
      ]
    },
    {
      "cell_type": "markdown",
      "source": [
        "Print the entire DataFrame, saving it to the variable \"df\""
      ],
      "metadata": {
        "id": "FVK_wOh7kXUD"
      }
    },
    {
      "cell_type": "code",
      "source": [
        "df = pd.DataFrame(json)\n",
        "df"
      ],
      "metadata": {
        "colab": {
          "base_uri": "https://localhost:8080/",
          "height": 332
        },
        "id": "zpQ-q4gueVkj",
        "outputId": "38072833-43e7-4174-9cdd-605a3713ce4c"
      },
      "execution_count": null,
      "outputs": [
        {
          "output_type": "execute_result",
          "data": {
            "text/plain": [
              "            country                      web_pages  \\\n",
              "0    United Kingdom   [https://futureworks.ac.uk/]   \n",
              "1    United Kingdom       [https://www.arts.ac.uk]   \n",
              "2    United Kingdom       [http://www.abdn.ac.uk/]   \n",
              "3    United Kingdom       [http://www.aber.ac.uk/]   \n",
              "4    United Kingdom    [http://www.abertay.ac.uk/]   \n",
              "..              ...                            ...   \n",
              "343  United Kingdom  [http://www.wimbledon.ac.uk/]   \n",
              "344  United Kingdom        [http://www.wlv.ac.uk/]   \n",
              "345  United Kingdom       [http://www.worc.ac.uk/]   \n",
              "346  United Kingdom       [http://www.york.ac.uk/]   \n",
              "347  United Kingdom      [https://www.mbro.ac.uk/]   \n",
              "\n",
              "                                 name state-province alpha_two_code  \\\n",
              "0                         Futureworks           None             GB   \n",
              "1       University of the Arts London           None             GB   \n",
              "2              University of Aberdeen           None             GB   \n",
              "3    University of Wales, Aberystwyth           None             GB   \n",
              "4        University of Abertay Dundee           None             GB   \n",
              "..                                ...            ...            ...   \n",
              "343           Wimbledon School of Art           None             GB   \n",
              "344       University of Wolverhampton           None             GB   \n",
              "345           University of Worcester           None             GB   \n",
              "346                University of York           None             GB   \n",
              "347             Middlesbrough College           None             GB   \n",
              "\n",
              "                            domains  \n",
              "0               [futureworks.ac.uk]  \n",
              "1                      [arts.ac.uk]  \n",
              "2      [abdn.ac.uk, aberdeen.ac.uk]  \n",
              "3                      [aber.ac.uk]  \n",
              "4                   [abertay.ac.uk]  \n",
              "..                              ...  \n",
              "343               [wimbledon.ac.uk]  \n",
              "344                     [wlv.ac.uk]  \n",
              "345                    [worc.ac.uk]  \n",
              "346                    [york.ac.uk]  \n",
              "347  [middlesbro.ac.uk, mbro.ac.uk]  \n",
              "\n",
              "[348 rows x 6 columns]"
            ],
            "text/html": [
              "\n",
              "  <div id=\"df-3b406d7f-e195-4587-ba85-4940c2b15a3a\">\n",
              "    <div class=\"colab-df-container\">\n",
              "      <div>\n",
              "<style scoped>\n",
              "    .dataframe tbody tr th:only-of-type {\n",
              "        vertical-align: middle;\n",
              "    }\n",
              "\n",
              "    .dataframe tbody tr th {\n",
              "        vertical-align: top;\n",
              "    }\n",
              "\n",
              "    .dataframe thead th {\n",
              "        text-align: right;\n",
              "    }\n",
              "</style>\n",
              "<table border=\"1\" class=\"dataframe\">\n",
              "  <thead>\n",
              "    <tr style=\"text-align: right;\">\n",
              "      <th></th>\n",
              "      <th>country</th>\n",
              "      <th>web_pages</th>\n",
              "      <th>name</th>\n",
              "      <th>state-province</th>\n",
              "      <th>alpha_two_code</th>\n",
              "      <th>domains</th>\n",
              "    </tr>\n",
              "  </thead>\n",
              "  <tbody>\n",
              "    <tr>\n",
              "      <th>0</th>\n",
              "      <td>United Kingdom</td>\n",
              "      <td>[https://futureworks.ac.uk/]</td>\n",
              "      <td>Futureworks</td>\n",
              "      <td>None</td>\n",
              "      <td>GB</td>\n",
              "      <td>[futureworks.ac.uk]</td>\n",
              "    </tr>\n",
              "    <tr>\n",
              "      <th>1</th>\n",
              "      <td>United Kingdom</td>\n",
              "      <td>[https://www.arts.ac.uk]</td>\n",
              "      <td>University of the Arts London</td>\n",
              "      <td>None</td>\n",
              "      <td>GB</td>\n",
              "      <td>[arts.ac.uk]</td>\n",
              "    </tr>\n",
              "    <tr>\n",
              "      <th>2</th>\n",
              "      <td>United Kingdom</td>\n",
              "      <td>[http://www.abdn.ac.uk/]</td>\n",
              "      <td>University of Aberdeen</td>\n",
              "      <td>None</td>\n",
              "      <td>GB</td>\n",
              "      <td>[abdn.ac.uk, aberdeen.ac.uk]</td>\n",
              "    </tr>\n",
              "    <tr>\n",
              "      <th>3</th>\n",
              "      <td>United Kingdom</td>\n",
              "      <td>[http://www.aber.ac.uk/]</td>\n",
              "      <td>University of Wales, Aberystwyth</td>\n",
              "      <td>None</td>\n",
              "      <td>GB</td>\n",
              "      <td>[aber.ac.uk]</td>\n",
              "    </tr>\n",
              "    <tr>\n",
              "      <th>4</th>\n",
              "      <td>United Kingdom</td>\n",
              "      <td>[http://www.abertay.ac.uk/]</td>\n",
              "      <td>University of Abertay Dundee</td>\n",
              "      <td>None</td>\n",
              "      <td>GB</td>\n",
              "      <td>[abertay.ac.uk]</td>\n",
              "    </tr>\n",
              "    <tr>\n",
              "      <th>...</th>\n",
              "      <td>...</td>\n",
              "      <td>...</td>\n",
              "      <td>...</td>\n",
              "      <td>...</td>\n",
              "      <td>...</td>\n",
              "      <td>...</td>\n",
              "    </tr>\n",
              "    <tr>\n",
              "      <th>343</th>\n",
              "      <td>United Kingdom</td>\n",
              "      <td>[http://www.wimbledon.ac.uk/]</td>\n",
              "      <td>Wimbledon School of Art</td>\n",
              "      <td>None</td>\n",
              "      <td>GB</td>\n",
              "      <td>[wimbledon.ac.uk]</td>\n",
              "    </tr>\n",
              "    <tr>\n",
              "      <th>344</th>\n",
              "      <td>United Kingdom</td>\n",
              "      <td>[http://www.wlv.ac.uk/]</td>\n",
              "      <td>University of Wolverhampton</td>\n",
              "      <td>None</td>\n",
              "      <td>GB</td>\n",
              "      <td>[wlv.ac.uk]</td>\n",
              "    </tr>\n",
              "    <tr>\n",
              "      <th>345</th>\n",
              "      <td>United Kingdom</td>\n",
              "      <td>[http://www.worc.ac.uk/]</td>\n",
              "      <td>University of Worcester</td>\n",
              "      <td>None</td>\n",
              "      <td>GB</td>\n",
              "      <td>[worc.ac.uk]</td>\n",
              "    </tr>\n",
              "    <tr>\n",
              "      <th>346</th>\n",
              "      <td>United Kingdom</td>\n",
              "      <td>[http://www.york.ac.uk/]</td>\n",
              "      <td>University of York</td>\n",
              "      <td>None</td>\n",
              "      <td>GB</td>\n",
              "      <td>[york.ac.uk]</td>\n",
              "    </tr>\n",
              "    <tr>\n",
              "      <th>347</th>\n",
              "      <td>United Kingdom</td>\n",
              "      <td>[https://www.mbro.ac.uk/]</td>\n",
              "      <td>Middlesbrough College</td>\n",
              "      <td>None</td>\n",
              "      <td>GB</td>\n",
              "      <td>[middlesbro.ac.uk, mbro.ac.uk]</td>\n",
              "    </tr>\n",
              "  </tbody>\n",
              "</table>\n",
              "<p>348 rows × 6 columns</p>\n",
              "</div>\n",
              "      <button class=\"colab-df-convert\" onclick=\"convertToInteractive('df-3b406d7f-e195-4587-ba85-4940c2b15a3a')\"\n",
              "              title=\"Convert this dataframe to an interactive table.\"\n",
              "              style=\"display:none;\">\n",
              "        \n",
              "  <svg xmlns=\"http://www.w3.org/2000/svg\" height=\"24px\"viewBox=\"0 0 24 24\"\n",
              "       width=\"24px\">\n",
              "    <path d=\"M0 0h24v24H0V0z\" fill=\"none\"/>\n",
              "    <path d=\"M18.56 5.44l.94 2.06.94-2.06 2.06-.94-2.06-.94-.94-2.06-.94 2.06-2.06.94zm-11 1L8.5 8.5l.94-2.06 2.06-.94-2.06-.94L8.5 2.5l-.94 2.06-2.06.94zm10 10l.94 2.06.94-2.06 2.06-.94-2.06-.94-.94-2.06-.94 2.06-2.06.94z\"/><path d=\"M17.41 7.96l-1.37-1.37c-.4-.4-.92-.59-1.43-.59-.52 0-1.04.2-1.43.59L10.3 9.45l-7.72 7.72c-.78.78-.78 2.05 0 2.83L4 21.41c.39.39.9.59 1.41.59.51 0 1.02-.2 1.41-.59l7.78-7.78 2.81-2.81c.8-.78.8-2.07 0-2.86zM5.41 20L4 18.59l7.72-7.72 1.47 1.35L5.41 20z\"/>\n",
              "  </svg>\n",
              "      </button>\n",
              "      \n",
              "  <style>\n",
              "    .colab-df-container {\n",
              "      display:flex;\n",
              "      flex-wrap:wrap;\n",
              "      gap: 12px;\n",
              "    }\n",
              "\n",
              "    .colab-df-convert {\n",
              "      background-color: #E8F0FE;\n",
              "      border: none;\n",
              "      border-radius: 50%;\n",
              "      cursor: pointer;\n",
              "      display: none;\n",
              "      fill: #1967D2;\n",
              "      height: 32px;\n",
              "      padding: 0 0 0 0;\n",
              "      width: 32px;\n",
              "    }\n",
              "\n",
              "    .colab-df-convert:hover {\n",
              "      background-color: #E2EBFA;\n",
              "      box-shadow: 0px 1px 2px rgba(60, 64, 67, 0.3), 0px 1px 3px 1px rgba(60, 64, 67, 0.15);\n",
              "      fill: #174EA6;\n",
              "    }\n",
              "\n",
              "    [theme=dark] .colab-df-convert {\n",
              "      background-color: #3B4455;\n",
              "      fill: #D2E3FC;\n",
              "    }\n",
              "\n",
              "    [theme=dark] .colab-df-convert:hover {\n",
              "      background-color: #434B5C;\n",
              "      box-shadow: 0px 1px 3px 1px rgba(0, 0, 0, 0.15);\n",
              "      filter: drop-shadow(0px 1px 2px rgba(0, 0, 0, 0.3));\n",
              "      fill: #FFFFFF;\n",
              "    }\n",
              "  </style>\n",
              "\n",
              "      <script>\n",
              "        const buttonEl =\n",
              "          document.querySelector('#df-3b406d7f-e195-4587-ba85-4940c2b15a3a button.colab-df-convert');\n",
              "        buttonEl.style.display =\n",
              "          google.colab.kernel.accessAllowed ? 'block' : 'none';\n",
              "\n",
              "        async function convertToInteractive(key) {\n",
              "          const element = document.querySelector('#df-3b406d7f-e195-4587-ba85-4940c2b15a3a');\n",
              "          const dataTable =\n",
              "            await google.colab.kernel.invokeFunction('convertToInteractive',\n",
              "                                                     [key], {});\n",
              "          if (!dataTable) return;\n",
              "\n",
              "          const docLinkHtml = 'Like what you see? Visit the ' +\n",
              "            '<a target=\"_blank\" href=https://colab.research.google.com/notebooks/data_table.ipynb>data table notebook</a>'\n",
              "            + ' to learn more about interactive tables.';\n",
              "          element.innerHTML = '';\n",
              "          dataTable['output_type'] = 'display_data';\n",
              "          await google.colab.output.renderOutput(dataTable, element);\n",
              "          const docLink = document.createElement('div');\n",
              "          docLink.innerHTML = docLinkHtml;\n",
              "          element.appendChild(docLink);\n",
              "        }\n",
              "      </script>\n",
              "    </div>\n",
              "  </div>\n",
              "  "
            ]
          },
          "metadata": {},
          "execution_count": 73
        }
      ]
    },
    {
      "cell_type": "markdown",
      "source": [
        "Take a look at the shape of the DataFrame to see that there are 348 Rows and 6 Columns"
      ],
      "metadata": {
        "id": "qA9E02KGklnM"
      }
    },
    {
      "cell_type": "code",
      "source": [
        "df.shape"
      ],
      "metadata": {
        "colab": {
          "base_uri": "https://localhost:8080/"
        },
        "id": "8bxMzRgMfRMK",
        "outputId": "642ca82a-05e4-4b62-f423-d4bbadfb173c"
      },
      "execution_count": null,
      "outputs": [
        {
          "output_type": "execute_result",
          "data": {
            "text/plain": [
              "(348, 6)"
            ]
          },
          "metadata": {},
          "execution_count": 75
        }
      ]
    },
    {
      "cell_type": "markdown",
      "source": [
        "Drop unnecessary columns"
      ],
      "metadata": {
        "id": "bQMlZWLxnpKv"
      }
    },
    {
      "cell_type": "code",
      "source": [
        "df.drop(columns=['domains', 'state-province', 'alpha_two_code'], inplace=True)"
      ],
      "metadata": {
        "id": "RZAPCzQwm9Lt"
      },
      "execution_count": null,
      "outputs": []
    },
    {
      "cell_type": "markdown",
      "source": [
        "Rename the remaining columns"
      ],
      "metadata": {
        "id": "BeZ-nkIWoPwi"
      }
    },
    {
      "cell_type": "code",
      "source": [
        "df.columns = ['Country', 'Web Page', 'University']\n",
        "df"
      ],
      "metadata": {
        "colab": {
          "base_uri": "https://localhost:8080/",
          "height": 424
        },
        "id": "3CKtBTdCkxI5",
        "outputId": "24eafc6b-1589-4c3b-fe35-5618b307d2e8"
      },
      "execution_count": null,
      "outputs": [
        {
          "output_type": "execute_result",
          "data": {
            "text/plain": [
              "            Country                       Web Page  \\\n",
              "0    United Kingdom   [https://futureworks.ac.uk/]   \n",
              "1    United Kingdom       [https://www.arts.ac.uk]   \n",
              "2    United Kingdom       [http://www.abdn.ac.uk/]   \n",
              "3    United Kingdom       [http://www.aber.ac.uk/]   \n",
              "4    United Kingdom    [http://www.abertay.ac.uk/]   \n",
              "..              ...                            ...   \n",
              "343  United Kingdom  [http://www.wimbledon.ac.uk/]   \n",
              "344  United Kingdom        [http://www.wlv.ac.uk/]   \n",
              "345  United Kingdom       [http://www.worc.ac.uk/]   \n",
              "346  United Kingdom       [http://www.york.ac.uk/]   \n",
              "347  United Kingdom      [https://www.mbro.ac.uk/]   \n",
              "\n",
              "                           University  \n",
              "0                         Futureworks  \n",
              "1       University of the Arts London  \n",
              "2              University of Aberdeen  \n",
              "3    University of Wales, Aberystwyth  \n",
              "4        University of Abertay Dundee  \n",
              "..                                ...  \n",
              "343           Wimbledon School of Art  \n",
              "344       University of Wolverhampton  \n",
              "345           University of Worcester  \n",
              "346                University of York  \n",
              "347             Middlesbrough College  \n",
              "\n",
              "[348 rows x 3 columns]"
            ],
            "text/html": [
              "\n",
              "  <div id=\"df-e89d62e6-0c76-4126-9ca5-00a7c664f739\">\n",
              "    <div class=\"colab-df-container\">\n",
              "      <div>\n",
              "<style scoped>\n",
              "    .dataframe tbody tr th:only-of-type {\n",
              "        vertical-align: middle;\n",
              "    }\n",
              "\n",
              "    .dataframe tbody tr th {\n",
              "        vertical-align: top;\n",
              "    }\n",
              "\n",
              "    .dataframe thead th {\n",
              "        text-align: right;\n",
              "    }\n",
              "</style>\n",
              "<table border=\"1\" class=\"dataframe\">\n",
              "  <thead>\n",
              "    <tr style=\"text-align: right;\">\n",
              "      <th></th>\n",
              "      <th>Country</th>\n",
              "      <th>Web Page</th>\n",
              "      <th>University</th>\n",
              "    </tr>\n",
              "  </thead>\n",
              "  <tbody>\n",
              "    <tr>\n",
              "      <th>0</th>\n",
              "      <td>United Kingdom</td>\n",
              "      <td>[https://futureworks.ac.uk/]</td>\n",
              "      <td>Futureworks</td>\n",
              "    </tr>\n",
              "    <tr>\n",
              "      <th>1</th>\n",
              "      <td>United Kingdom</td>\n",
              "      <td>[https://www.arts.ac.uk]</td>\n",
              "      <td>University of the Arts London</td>\n",
              "    </tr>\n",
              "    <tr>\n",
              "      <th>2</th>\n",
              "      <td>United Kingdom</td>\n",
              "      <td>[http://www.abdn.ac.uk/]</td>\n",
              "      <td>University of Aberdeen</td>\n",
              "    </tr>\n",
              "    <tr>\n",
              "      <th>3</th>\n",
              "      <td>United Kingdom</td>\n",
              "      <td>[http://www.aber.ac.uk/]</td>\n",
              "      <td>University of Wales, Aberystwyth</td>\n",
              "    </tr>\n",
              "    <tr>\n",
              "      <th>4</th>\n",
              "      <td>United Kingdom</td>\n",
              "      <td>[http://www.abertay.ac.uk/]</td>\n",
              "      <td>University of Abertay Dundee</td>\n",
              "    </tr>\n",
              "    <tr>\n",
              "      <th>...</th>\n",
              "      <td>...</td>\n",
              "      <td>...</td>\n",
              "      <td>...</td>\n",
              "    </tr>\n",
              "    <tr>\n",
              "      <th>343</th>\n",
              "      <td>United Kingdom</td>\n",
              "      <td>[http://www.wimbledon.ac.uk/]</td>\n",
              "      <td>Wimbledon School of Art</td>\n",
              "    </tr>\n",
              "    <tr>\n",
              "      <th>344</th>\n",
              "      <td>United Kingdom</td>\n",
              "      <td>[http://www.wlv.ac.uk/]</td>\n",
              "      <td>University of Wolverhampton</td>\n",
              "    </tr>\n",
              "    <tr>\n",
              "      <th>345</th>\n",
              "      <td>United Kingdom</td>\n",
              "      <td>[http://www.worc.ac.uk/]</td>\n",
              "      <td>University of Worcester</td>\n",
              "    </tr>\n",
              "    <tr>\n",
              "      <th>346</th>\n",
              "      <td>United Kingdom</td>\n",
              "      <td>[http://www.york.ac.uk/]</td>\n",
              "      <td>University of York</td>\n",
              "    </tr>\n",
              "    <tr>\n",
              "      <th>347</th>\n",
              "      <td>United Kingdom</td>\n",
              "      <td>[https://www.mbro.ac.uk/]</td>\n",
              "      <td>Middlesbrough College</td>\n",
              "    </tr>\n",
              "  </tbody>\n",
              "</table>\n",
              "<p>348 rows × 3 columns</p>\n",
              "</div>\n",
              "      <button class=\"colab-df-convert\" onclick=\"convertToInteractive('df-e89d62e6-0c76-4126-9ca5-00a7c664f739')\"\n",
              "              title=\"Convert this dataframe to an interactive table.\"\n",
              "              style=\"display:none;\">\n",
              "        \n",
              "  <svg xmlns=\"http://www.w3.org/2000/svg\" height=\"24px\"viewBox=\"0 0 24 24\"\n",
              "       width=\"24px\">\n",
              "    <path d=\"M0 0h24v24H0V0z\" fill=\"none\"/>\n",
              "    <path d=\"M18.56 5.44l.94 2.06.94-2.06 2.06-.94-2.06-.94-.94-2.06-.94 2.06-2.06.94zm-11 1L8.5 8.5l.94-2.06 2.06-.94-2.06-.94L8.5 2.5l-.94 2.06-2.06.94zm10 10l.94 2.06.94-2.06 2.06-.94-2.06-.94-.94-2.06-.94 2.06-2.06.94z\"/><path d=\"M17.41 7.96l-1.37-1.37c-.4-.4-.92-.59-1.43-.59-.52 0-1.04.2-1.43.59L10.3 9.45l-7.72 7.72c-.78.78-.78 2.05 0 2.83L4 21.41c.39.39.9.59 1.41.59.51 0 1.02-.2 1.41-.59l7.78-7.78 2.81-2.81c.8-.78.8-2.07 0-2.86zM5.41 20L4 18.59l7.72-7.72 1.47 1.35L5.41 20z\"/>\n",
              "  </svg>\n",
              "      </button>\n",
              "      \n",
              "  <style>\n",
              "    .colab-df-container {\n",
              "      display:flex;\n",
              "      flex-wrap:wrap;\n",
              "      gap: 12px;\n",
              "    }\n",
              "\n",
              "    .colab-df-convert {\n",
              "      background-color: #E8F0FE;\n",
              "      border: none;\n",
              "      border-radius: 50%;\n",
              "      cursor: pointer;\n",
              "      display: none;\n",
              "      fill: #1967D2;\n",
              "      height: 32px;\n",
              "      padding: 0 0 0 0;\n",
              "      width: 32px;\n",
              "    }\n",
              "\n",
              "    .colab-df-convert:hover {\n",
              "      background-color: #E2EBFA;\n",
              "      box-shadow: 0px 1px 2px rgba(60, 64, 67, 0.3), 0px 1px 3px 1px rgba(60, 64, 67, 0.15);\n",
              "      fill: #174EA6;\n",
              "    }\n",
              "\n",
              "    [theme=dark] .colab-df-convert {\n",
              "      background-color: #3B4455;\n",
              "      fill: #D2E3FC;\n",
              "    }\n",
              "\n",
              "    [theme=dark] .colab-df-convert:hover {\n",
              "      background-color: #434B5C;\n",
              "      box-shadow: 0px 1px 3px 1px rgba(0, 0, 0, 0.15);\n",
              "      filter: drop-shadow(0px 1px 2px rgba(0, 0, 0, 0.3));\n",
              "      fill: #FFFFFF;\n",
              "    }\n",
              "  </style>\n",
              "\n",
              "      <script>\n",
              "        const buttonEl =\n",
              "          document.querySelector('#df-e89d62e6-0c76-4126-9ca5-00a7c664f739 button.colab-df-convert');\n",
              "        buttonEl.style.display =\n",
              "          google.colab.kernel.accessAllowed ? 'block' : 'none';\n",
              "\n",
              "        async function convertToInteractive(key) {\n",
              "          const element = document.querySelector('#df-e89d62e6-0c76-4126-9ca5-00a7c664f739');\n",
              "          const dataTable =\n",
              "            await google.colab.kernel.invokeFunction('convertToInteractive',\n",
              "                                                     [key], {});\n",
              "          if (!dataTable) return;\n",
              "\n",
              "          const docLinkHtml = 'Like what you see? Visit the ' +\n",
              "            '<a target=\"_blank\" href=https://colab.research.google.com/notebooks/data_table.ipynb>data table notebook</a>'\n",
              "            + ' to learn more about interactive tables.';\n",
              "          element.innerHTML = '';\n",
              "          dataTable['output_type'] = 'display_data';\n",
              "          await google.colab.output.renderOutput(dataTable, element);\n",
              "          const docLink = document.createElement('div');\n",
              "          docLink.innerHTML = docLinkHtml;\n",
              "          element.appendChild(docLink);\n",
              "        }\n",
              "      </script>\n",
              "    </div>\n",
              "  </div>\n",
              "  "
            ]
          },
          "metadata": {},
          "execution_count": 81
        }
      ]
    },
    {
      "cell_type": "markdown",
      "source": [
        "Filter the DataFrame to show only Universities that contain \"London\""
      ],
      "metadata": {
        "id": "mb-0MS96qcLe"
      }
    },
    {
      "cell_type": "code",
      "source": [
        "df[df['University'].str.contains('London')]"
      ],
      "metadata": {
        "colab": {
          "base_uri": "https://localhost:8080/",
          "height": 424
        },
        "id": "gABqGzK1oduD",
        "outputId": "4d48c21d-5d7f-42b0-ea62-eb3918a6f29c"
      },
      "execution_count": null,
      "outputs": [
        {
          "output_type": "execute_result",
          "data": {
            "text/plain": [
              "            Country                        Web Page  \\\n",
              "1    United Kingdom        [https://www.arts.ac.uk]   \n",
              "5    United Kingdom        [http://www.aiuniv.edu/]   \n",
              "9    United Kingdom           [http://www.aul.edu/]   \n",
              "13   United Kingdom         [http://www.bbk.ac.uk/]   \n",
              "21   United Kingdom  [http://www.brijnet.org/lsjs/]   \n",
              "..              ...                             ...   \n",
              "324  United Kingdom         [http://www.ucl.ac.uk/]   \n",
              "328  United Kingdom         [http://www.uel.ac.uk/]   \n",
              "330  United Kingdom       [http://www.ulsop.ac.uk/]   \n",
              "332  United Kingdom        [http://www.umds.ac.uk/]   \n",
              "333  United Kingdom         [http://www.unl.ac.uk/]   \n",
              "\n",
              "                                            University  \n",
              "1                        University of the Arts London  \n",
              "5        American InterContinental University - London  \n",
              "9                    The American University in London  \n",
              "13              Birkbeck College, University of London  \n",
              "21                     London School of Jewish Studies  \n",
              "..                                                 ...  \n",
              "324    University College London, University of London  \n",
              "328                          University of East London  \n",
              "330           School of Pharmacy, University of London  \n",
              "332  United Medical and Dental Schools, University ...  \n",
              "333                         University of North London  \n",
              "\n",
              "[90 rows x 3 columns]"
            ],
            "text/html": [
              "\n",
              "  <div id=\"df-8792e971-fffb-4bfe-8087-1ae28a6b7a62\">\n",
              "    <div class=\"colab-df-container\">\n",
              "      <div>\n",
              "<style scoped>\n",
              "    .dataframe tbody tr th:only-of-type {\n",
              "        vertical-align: middle;\n",
              "    }\n",
              "\n",
              "    .dataframe tbody tr th {\n",
              "        vertical-align: top;\n",
              "    }\n",
              "\n",
              "    .dataframe thead th {\n",
              "        text-align: right;\n",
              "    }\n",
              "</style>\n",
              "<table border=\"1\" class=\"dataframe\">\n",
              "  <thead>\n",
              "    <tr style=\"text-align: right;\">\n",
              "      <th></th>\n",
              "      <th>Country</th>\n",
              "      <th>Web Page</th>\n",
              "      <th>University</th>\n",
              "    </tr>\n",
              "  </thead>\n",
              "  <tbody>\n",
              "    <tr>\n",
              "      <th>1</th>\n",
              "      <td>United Kingdom</td>\n",
              "      <td>[https://www.arts.ac.uk]</td>\n",
              "      <td>University of the Arts London</td>\n",
              "    </tr>\n",
              "    <tr>\n",
              "      <th>5</th>\n",
              "      <td>United Kingdom</td>\n",
              "      <td>[http://www.aiuniv.edu/]</td>\n",
              "      <td>American InterContinental University - London</td>\n",
              "    </tr>\n",
              "    <tr>\n",
              "      <th>9</th>\n",
              "      <td>United Kingdom</td>\n",
              "      <td>[http://www.aul.edu/]</td>\n",
              "      <td>The American University in London</td>\n",
              "    </tr>\n",
              "    <tr>\n",
              "      <th>13</th>\n",
              "      <td>United Kingdom</td>\n",
              "      <td>[http://www.bbk.ac.uk/]</td>\n",
              "      <td>Birkbeck College, University of London</td>\n",
              "    </tr>\n",
              "    <tr>\n",
              "      <th>21</th>\n",
              "      <td>United Kingdom</td>\n",
              "      <td>[http://www.brijnet.org/lsjs/]</td>\n",
              "      <td>London School of Jewish Studies</td>\n",
              "    </tr>\n",
              "    <tr>\n",
              "      <th>...</th>\n",
              "      <td>...</td>\n",
              "      <td>...</td>\n",
              "      <td>...</td>\n",
              "    </tr>\n",
              "    <tr>\n",
              "      <th>324</th>\n",
              "      <td>United Kingdom</td>\n",
              "      <td>[http://www.ucl.ac.uk/]</td>\n",
              "      <td>University College London, University of London</td>\n",
              "    </tr>\n",
              "    <tr>\n",
              "      <th>328</th>\n",
              "      <td>United Kingdom</td>\n",
              "      <td>[http://www.uel.ac.uk/]</td>\n",
              "      <td>University of East London</td>\n",
              "    </tr>\n",
              "    <tr>\n",
              "      <th>330</th>\n",
              "      <td>United Kingdom</td>\n",
              "      <td>[http://www.ulsop.ac.uk/]</td>\n",
              "      <td>School of Pharmacy, University of London</td>\n",
              "    </tr>\n",
              "    <tr>\n",
              "      <th>332</th>\n",
              "      <td>United Kingdom</td>\n",
              "      <td>[http://www.umds.ac.uk/]</td>\n",
              "      <td>United Medical and Dental Schools, University ...</td>\n",
              "    </tr>\n",
              "    <tr>\n",
              "      <th>333</th>\n",
              "      <td>United Kingdom</td>\n",
              "      <td>[http://www.unl.ac.uk/]</td>\n",
              "      <td>University of North London</td>\n",
              "    </tr>\n",
              "  </tbody>\n",
              "</table>\n",
              "<p>90 rows × 3 columns</p>\n",
              "</div>\n",
              "      <button class=\"colab-df-convert\" onclick=\"convertToInteractive('df-8792e971-fffb-4bfe-8087-1ae28a6b7a62')\"\n",
              "              title=\"Convert this dataframe to an interactive table.\"\n",
              "              style=\"display:none;\">\n",
              "        \n",
              "  <svg xmlns=\"http://www.w3.org/2000/svg\" height=\"24px\"viewBox=\"0 0 24 24\"\n",
              "       width=\"24px\">\n",
              "    <path d=\"M0 0h24v24H0V0z\" fill=\"none\"/>\n",
              "    <path d=\"M18.56 5.44l.94 2.06.94-2.06 2.06-.94-2.06-.94-.94-2.06-.94 2.06-2.06.94zm-11 1L8.5 8.5l.94-2.06 2.06-.94-2.06-.94L8.5 2.5l-.94 2.06-2.06.94zm10 10l.94 2.06.94-2.06 2.06-.94-2.06-.94-.94-2.06-.94 2.06-2.06.94z\"/><path d=\"M17.41 7.96l-1.37-1.37c-.4-.4-.92-.59-1.43-.59-.52 0-1.04.2-1.43.59L10.3 9.45l-7.72 7.72c-.78.78-.78 2.05 0 2.83L4 21.41c.39.39.9.59 1.41.59.51 0 1.02-.2 1.41-.59l7.78-7.78 2.81-2.81c.8-.78.8-2.07 0-2.86zM5.41 20L4 18.59l7.72-7.72 1.47 1.35L5.41 20z\"/>\n",
              "  </svg>\n",
              "      </button>\n",
              "      \n",
              "  <style>\n",
              "    .colab-df-container {\n",
              "      display:flex;\n",
              "      flex-wrap:wrap;\n",
              "      gap: 12px;\n",
              "    }\n",
              "\n",
              "    .colab-df-convert {\n",
              "      background-color: #E8F0FE;\n",
              "      border: none;\n",
              "      border-radius: 50%;\n",
              "      cursor: pointer;\n",
              "      display: none;\n",
              "      fill: #1967D2;\n",
              "      height: 32px;\n",
              "      padding: 0 0 0 0;\n",
              "      width: 32px;\n",
              "    }\n",
              "\n",
              "    .colab-df-convert:hover {\n",
              "      background-color: #E2EBFA;\n",
              "      box-shadow: 0px 1px 2px rgba(60, 64, 67, 0.3), 0px 1px 3px 1px rgba(60, 64, 67, 0.15);\n",
              "      fill: #174EA6;\n",
              "    }\n",
              "\n",
              "    [theme=dark] .colab-df-convert {\n",
              "      background-color: #3B4455;\n",
              "      fill: #D2E3FC;\n",
              "    }\n",
              "\n",
              "    [theme=dark] .colab-df-convert:hover {\n",
              "      background-color: #434B5C;\n",
              "      box-shadow: 0px 1px 3px 1px rgba(0, 0, 0, 0.15);\n",
              "      filter: drop-shadow(0px 1px 2px rgba(0, 0, 0, 0.3));\n",
              "      fill: #FFFFFF;\n",
              "    }\n",
              "  </style>\n",
              "\n",
              "      <script>\n",
              "        const buttonEl =\n",
              "          document.querySelector('#df-8792e971-fffb-4bfe-8087-1ae28a6b7a62 button.colab-df-convert');\n",
              "        buttonEl.style.display =\n",
              "          google.colab.kernel.accessAllowed ? 'block' : 'none';\n",
              "\n",
              "        async function convertToInteractive(key) {\n",
              "          const element = document.querySelector('#df-8792e971-fffb-4bfe-8087-1ae28a6b7a62');\n",
              "          const dataTable =\n",
              "            await google.colab.kernel.invokeFunction('convertToInteractive',\n",
              "                                                     [key], {});\n",
              "          if (!dataTable) return;\n",
              "\n",
              "          const docLinkHtml = 'Like what you see? Visit the ' +\n",
              "            '<a target=\"_blank\" href=https://colab.research.google.com/notebooks/data_table.ipynb>data table notebook</a>'\n",
              "            + ' to learn more about interactive tables.';\n",
              "          element.innerHTML = '';\n",
              "          dataTable['output_type'] = 'display_data';\n",
              "          await google.colab.output.renderOutput(dataTable, element);\n",
              "          const docLink = document.createElement('div');\n",
              "          docLink.innerHTML = docLinkHtml;\n",
              "          element.appendChild(docLink);\n",
              "        }\n",
              "      </script>\n",
              "    </div>\n",
              "  </div>\n",
              "  "
            ]
          },
          "metadata": {},
          "execution_count": 85
        }
      ]
    },
    {
      "cell_type": "markdown",
      "source": [
        "Select and print the first four rows of the second and third columns of the DataFrame"
      ],
      "metadata": {
        "id": "K-s35PoXqtSK"
      }
    },
    {
      "cell_type": "code",
      "source": [
        "df[['Web Page', 'University']][0:4]"
      ],
      "metadata": {
        "colab": {
          "base_uri": "https://localhost:8080/",
          "height": 175
        },
        "id": "Yd1ab6xqqzXE",
        "outputId": "9b356241-13c3-437c-834d-6c6699a91c6e"
      },
      "execution_count": null,
      "outputs": [
        {
          "output_type": "execute_result",
          "data": {
            "text/plain": [
              "                       Web Page                        University\n",
              "0  [https://futureworks.ac.uk/]                       Futureworks\n",
              "1      [https://www.arts.ac.uk]     University of the Arts London\n",
              "2      [http://www.abdn.ac.uk/]            University of Aberdeen\n",
              "3      [http://www.aber.ac.uk/]  University of Wales, Aberystwyth"
            ],
            "text/html": [
              "\n",
              "  <div id=\"df-8fd661f8-94a0-4ba0-bfd9-d1e83512718b\">\n",
              "    <div class=\"colab-df-container\">\n",
              "      <div>\n",
              "<style scoped>\n",
              "    .dataframe tbody tr th:only-of-type {\n",
              "        vertical-align: middle;\n",
              "    }\n",
              "\n",
              "    .dataframe tbody tr th {\n",
              "        vertical-align: top;\n",
              "    }\n",
              "\n",
              "    .dataframe thead th {\n",
              "        text-align: right;\n",
              "    }\n",
              "</style>\n",
              "<table border=\"1\" class=\"dataframe\">\n",
              "  <thead>\n",
              "    <tr style=\"text-align: right;\">\n",
              "      <th></th>\n",
              "      <th>Web Page</th>\n",
              "      <th>University</th>\n",
              "    </tr>\n",
              "  </thead>\n",
              "  <tbody>\n",
              "    <tr>\n",
              "      <th>0</th>\n",
              "      <td>[https://futureworks.ac.uk/]</td>\n",
              "      <td>Futureworks</td>\n",
              "    </tr>\n",
              "    <tr>\n",
              "      <th>1</th>\n",
              "      <td>[https://www.arts.ac.uk]</td>\n",
              "      <td>University of the Arts London</td>\n",
              "    </tr>\n",
              "    <tr>\n",
              "      <th>2</th>\n",
              "      <td>[http://www.abdn.ac.uk/]</td>\n",
              "      <td>University of Aberdeen</td>\n",
              "    </tr>\n",
              "    <tr>\n",
              "      <th>3</th>\n",
              "      <td>[http://www.aber.ac.uk/]</td>\n",
              "      <td>University of Wales, Aberystwyth</td>\n",
              "    </tr>\n",
              "  </tbody>\n",
              "</table>\n",
              "</div>\n",
              "      <button class=\"colab-df-convert\" onclick=\"convertToInteractive('df-8fd661f8-94a0-4ba0-bfd9-d1e83512718b')\"\n",
              "              title=\"Convert this dataframe to an interactive table.\"\n",
              "              style=\"display:none;\">\n",
              "        \n",
              "  <svg xmlns=\"http://www.w3.org/2000/svg\" height=\"24px\"viewBox=\"0 0 24 24\"\n",
              "       width=\"24px\">\n",
              "    <path d=\"M0 0h24v24H0V0z\" fill=\"none\"/>\n",
              "    <path d=\"M18.56 5.44l.94 2.06.94-2.06 2.06-.94-2.06-.94-.94-2.06-.94 2.06-2.06.94zm-11 1L8.5 8.5l.94-2.06 2.06-.94-2.06-.94L8.5 2.5l-.94 2.06-2.06.94zm10 10l.94 2.06.94-2.06 2.06-.94-2.06-.94-.94-2.06-.94 2.06-2.06.94z\"/><path d=\"M17.41 7.96l-1.37-1.37c-.4-.4-.92-.59-1.43-.59-.52 0-1.04.2-1.43.59L10.3 9.45l-7.72 7.72c-.78.78-.78 2.05 0 2.83L4 21.41c.39.39.9.59 1.41.59.51 0 1.02-.2 1.41-.59l7.78-7.78 2.81-2.81c.8-.78.8-2.07 0-2.86zM5.41 20L4 18.59l7.72-7.72 1.47 1.35L5.41 20z\"/>\n",
              "  </svg>\n",
              "      </button>\n",
              "      \n",
              "  <style>\n",
              "    .colab-df-container {\n",
              "      display:flex;\n",
              "      flex-wrap:wrap;\n",
              "      gap: 12px;\n",
              "    }\n",
              "\n",
              "    .colab-df-convert {\n",
              "      background-color: #E8F0FE;\n",
              "      border: none;\n",
              "      border-radius: 50%;\n",
              "      cursor: pointer;\n",
              "      display: none;\n",
              "      fill: #1967D2;\n",
              "      height: 32px;\n",
              "      padding: 0 0 0 0;\n",
              "      width: 32px;\n",
              "    }\n",
              "\n",
              "    .colab-df-convert:hover {\n",
              "      background-color: #E2EBFA;\n",
              "      box-shadow: 0px 1px 2px rgba(60, 64, 67, 0.3), 0px 1px 3px 1px rgba(60, 64, 67, 0.15);\n",
              "      fill: #174EA6;\n",
              "    }\n",
              "\n",
              "    [theme=dark] .colab-df-convert {\n",
              "      background-color: #3B4455;\n",
              "      fill: #D2E3FC;\n",
              "    }\n",
              "\n",
              "    [theme=dark] .colab-df-convert:hover {\n",
              "      background-color: #434B5C;\n",
              "      box-shadow: 0px 1px 3px 1px rgba(0, 0, 0, 0.15);\n",
              "      filter: drop-shadow(0px 1px 2px rgba(0, 0, 0, 0.3));\n",
              "      fill: #FFFFFF;\n",
              "    }\n",
              "  </style>\n",
              "\n",
              "      <script>\n",
              "        const buttonEl =\n",
              "          document.querySelector('#df-8fd661f8-94a0-4ba0-bfd9-d1e83512718b button.colab-df-convert');\n",
              "        buttonEl.style.display =\n",
              "          google.colab.kernel.accessAllowed ? 'block' : 'none';\n",
              "\n",
              "        async function convertToInteractive(key) {\n",
              "          const element = document.querySelector('#df-8fd661f8-94a0-4ba0-bfd9-d1e83512718b');\n",
              "          const dataTable =\n",
              "            await google.colab.kernel.invokeFunction('convertToInteractive',\n",
              "                                                     [key], {});\n",
              "          if (!dataTable) return;\n",
              "\n",
              "          const docLinkHtml = 'Like what you see? Visit the ' +\n",
              "            '<a target=\"_blank\" href=https://colab.research.google.com/notebooks/data_table.ipynb>data table notebook</a>'\n",
              "            + ' to learn more about interactive tables.';\n",
              "          element.innerHTML = '';\n",
              "          dataTable['output_type'] = 'display_data';\n",
              "          await google.colab.output.renderOutput(dataTable, element);\n",
              "          const docLink = document.createElement('div');\n",
              "          docLink.innerHTML = docLinkHtml;\n",
              "          element.appendChild(docLink);\n",
              "        }\n",
              "      </script>\n",
              "    </div>\n",
              "  </div>\n",
              "  "
            ]
          },
          "metadata": {},
          "execution_count": 91
        }
      ]
    }
  ]
}